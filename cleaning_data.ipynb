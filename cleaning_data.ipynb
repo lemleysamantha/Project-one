{
 "cells": [
  {
   "cell_type": "code",
   "execution_count": 1,
   "id": "995d9905",
   "metadata": {},
   "outputs": [],
   "source": [
    "import warnings\n",
    "warnings.filterwarnings('ignore')"
   ]
  },
  {
   "cell_type": "code",
   "execution_count": 2,
   "id": "f54a2183",
   "metadata": {},
   "outputs": [],
   "source": [
    "import numpy as np\n",
    "import pandas as pd\n",
    "from pathlib import Path\n",
    "from collections import Counter"
   ]
  },
  {
   "cell_type": "code",
   "execution_count": 3,
   "id": "a79c962d",
   "metadata": {},
   "outputs": [],
   "source": [
    "from sklearn.linear_model import LinearRegression\n",
    "from sklearn.linear_model import Lasso\n",
    "from sklearn import preprocessing\n",
    "from sklearn.model_selection import train_test_split\n",
    "from sklearn.tree import DecisionTreeRegressor\n",
    "from sklearn import metrics\n",
    "import matplotlib.pyplot as plt\n",
    "import seaborn as sns"
   ]
  },
  {
   "cell_type": "code",
   "execution_count": 4,
   "id": "90e8f38a",
   "metadata": {},
   "outputs": [
    {
     "data": {
      "text/html": [
       "<div>\n",
       "<style scoped>\n",
       "    .dataframe tbody tr th:only-of-type {\n",
       "        vertical-align: middle;\n",
       "    }\n",
       "\n",
       "    .dataframe tbody tr th {\n",
       "        vertical-align: top;\n",
       "    }\n",
       "\n",
       "    .dataframe thead th {\n",
       "        text-align: right;\n",
       "    }\n",
       "</style>\n",
       "<table border=\"1\" class=\"dataframe\">\n",
       "  <thead>\n",
       "    <tr style=\"text-align: right;\">\n",
       "      <th></th>\n",
       "      <th>Unnamed: 0</th>\n",
       "      <th>id</th>\n",
       "      <th>region</th>\n",
       "      <th>price</th>\n",
       "      <th>year</th>\n",
       "      <th>manufacturer</th>\n",
       "      <th>model</th>\n",
       "      <th>condition</th>\n",
       "      <th>cylinders</th>\n",
       "      <th>fuel</th>\n",
       "      <th>odometer</th>\n",
       "      <th>title_status</th>\n",
       "      <th>transmission</th>\n",
       "      <th>drive</th>\n",
       "      <th>size</th>\n",
       "      <th>type</th>\n",
       "      <th>state</th>\n",
       "    </tr>\n",
       "  </thead>\n",
       "  <tbody>\n",
       "    <tr>\n",
       "      <th>0</th>\n",
       "      <td>31</td>\n",
       "      <td>7316356412</td>\n",
       "      <td>auburn</td>\n",
       "      <td>15000</td>\n",
       "      <td>2013.0</td>\n",
       "      <td>ford</td>\n",
       "      <td>f-150 xlt</td>\n",
       "      <td>excellent</td>\n",
       "      <td>6</td>\n",
       "      <td>gas</td>\n",
       "      <td>128000.0</td>\n",
       "      <td>clean</td>\n",
       "      <td>automatic</td>\n",
       "      <td>rwd</td>\n",
       "      <td>full-size</td>\n",
       "      <td>truck</td>\n",
       "      <td>al</td>\n",
       "    </tr>\n",
       "    <tr>\n",
       "      <th>1</th>\n",
       "      <td>55</td>\n",
       "      <td>7314560853</td>\n",
       "      <td>auburn</td>\n",
       "      <td>19900</td>\n",
       "      <td>2004.0</td>\n",
       "      <td>ford</td>\n",
       "      <td>f250 super duty</td>\n",
       "      <td>good</td>\n",
       "      <td>8</td>\n",
       "      <td>diesel</td>\n",
       "      <td>88000.0</td>\n",
       "      <td>clean</td>\n",
       "      <td>automatic</td>\n",
       "      <td>4wd</td>\n",
       "      <td>full-size</td>\n",
       "      <td>pickup</td>\n",
       "      <td>al</td>\n",
       "    </tr>\n",
       "    <tr>\n",
       "      <th>2</th>\n",
       "      <td>59</td>\n",
       "      <td>7313406529</td>\n",
       "      <td>auburn</td>\n",
       "      <td>14000</td>\n",
       "      <td>2012.0</td>\n",
       "      <td>honda</td>\n",
       "      <td>odyssey</td>\n",
       "      <td>excellent</td>\n",
       "      <td>6</td>\n",
       "      <td>gas</td>\n",
       "      <td>95000.0</td>\n",
       "      <td>clean</td>\n",
       "      <td>automatic</td>\n",
       "      <td>fwd</td>\n",
       "      <td>full-size</td>\n",
       "      <td>mini-van</td>\n",
       "      <td>al</td>\n",
       "    </tr>\n",
       "    <tr>\n",
       "      <th>3</th>\n",
       "      <td>65</td>\n",
       "      <td>7312847466</td>\n",
       "      <td>auburn</td>\n",
       "      <td>22500</td>\n",
       "      <td>2001.0</td>\n",
       "      <td>ford</td>\n",
       "      <td>f450</td>\n",
       "      <td>good</td>\n",
       "      <td>8</td>\n",
       "      <td>diesel</td>\n",
       "      <td>144700.0</td>\n",
       "      <td>clean</td>\n",
       "      <td>manual</td>\n",
       "      <td>rwd</td>\n",
       "      <td>full-size</td>\n",
       "      <td>truck</td>\n",
       "      <td>al</td>\n",
       "    </tr>\n",
       "    <tr>\n",
       "      <th>4</th>\n",
       "      <td>73</td>\n",
       "      <td>7312144944</td>\n",
       "      <td>auburn</td>\n",
       "      <td>15000</td>\n",
       "      <td>2017.0</td>\n",
       "      <td>dodge</td>\n",
       "      <td>charger rt 4dr sedan</td>\n",
       "      <td>excellent</td>\n",
       "      <td>8</td>\n",
       "      <td>gas</td>\n",
       "      <td>90000.0</td>\n",
       "      <td>rebuilt</td>\n",
       "      <td>automatic</td>\n",
       "      <td>rwd</td>\n",
       "      <td>mid-size</td>\n",
       "      <td>sedan</td>\n",
       "      <td>al</td>\n",
       "    </tr>\n",
       "  </tbody>\n",
       "</table>\n",
       "</div>"
      ],
      "text/plain": [
       "   Unnamed: 0          id  region  price    year manufacturer  \\\n",
       "0          31  7316356412  auburn  15000  2013.0         ford   \n",
       "1          55  7314560853  auburn  19900  2004.0         ford   \n",
       "2          59  7313406529  auburn  14000  2012.0        honda   \n",
       "3          65  7312847466  auburn  22500  2001.0         ford   \n",
       "4          73  7312144944  auburn  15000  2017.0        dodge   \n",
       "\n",
       "                  model  condition  cylinders    fuel  odometer title_status  \\\n",
       "0             f-150 xlt  excellent          6     gas  128000.0        clean   \n",
       "1       f250 super duty       good          8  diesel   88000.0        clean   \n",
       "2               odyssey  excellent          6     gas   95000.0        clean   \n",
       "3                  f450       good          8  diesel  144700.0        clean   \n",
       "4  charger rt 4dr sedan  excellent          8     gas   90000.0      rebuilt   \n",
       "\n",
       "  transmission drive       size      type state  \n",
       "0    automatic   rwd  full-size     truck    al  \n",
       "1    automatic   4wd  full-size    pickup    al  \n",
       "2    automatic   fwd  full-size  mini-van    al  \n",
       "3       manual   rwd  full-size     truck    al  \n",
       "4    automatic   rwd   mid-size     sedan    al  "
      ]
     },
     "execution_count": 4,
     "metadata": {},
     "output_type": "execute_result"
    }
   ],
   "source": [
    "# Load the vehicles.csv dataset.\n",
    "ucs_df = pd.read_csv('vehicles_processed.csv')\n",
    "ucs_df.head()"
   ]
  },
  {
   "cell_type": "code",
   "execution_count": 5,
   "id": "ffb4e555",
   "metadata": {},
   "outputs": [
    {
     "data": {
      "text/plain": [
       "(82051, 17)"
      ]
     },
     "execution_count": 5,
     "metadata": {},
     "output_type": "execute_result"
    }
   ],
   "source": [
    "ucs_df.shape"
   ]
  },
  {
   "cell_type": "code",
   "execution_count": 6,
   "id": "b47f5602",
   "metadata": {},
   "outputs": [
    {
     "data": {
      "text/plain": [
       "Unnamed: 0        int64\n",
       "id                int64\n",
       "region           object\n",
       "price             int64\n",
       "year            float64\n",
       "manufacturer     object\n",
       "model            object\n",
       "condition        object\n",
       "cylinders         int64\n",
       "fuel             object\n",
       "odometer        float64\n",
       "title_status     object\n",
       "transmission     object\n",
       "drive            object\n",
       "size             object\n",
       "type             object\n",
       "state            object\n",
       "dtype: object"
      ]
     },
     "execution_count": 6,
     "metadata": {},
     "output_type": "execute_result"
    }
   ],
   "source": [
    "ucs_df.dtypes\n",
    "\n"
   ]
  },
  {
   "cell_type": "code",
   "execution_count": 7,
   "id": "724a66bd",
   "metadata": {},
   "outputs": [
    {
     "name": "stdout",
     "output_type": "stream",
     "text": [
      "<class 'pandas.core.frame.DataFrame'>\n",
      "RangeIndex: 82051 entries, 0 to 82050\n",
      "Data columns (total 17 columns):\n",
      " #   Column        Non-Null Count  Dtype  \n",
      "---  ------        --------------  -----  \n",
      " 0   Unnamed: 0    82051 non-null  int64  \n",
      " 1   id            82051 non-null  int64  \n",
      " 2   region        82051 non-null  object \n",
      " 3   price         82051 non-null  int64  \n",
      " 4   year          82051 non-null  float64\n",
      " 5   manufacturer  82051 non-null  object \n",
      " 6   model         82051 non-null  object \n",
      " 7   condition     82051 non-null  object \n",
      " 8   cylinders     82051 non-null  int64  \n",
      " 9   fuel          82051 non-null  object \n",
      " 10  odometer      82051 non-null  float64\n",
      " 11  title_status  82051 non-null  object \n",
      " 12  transmission  82051 non-null  object \n",
      " 13  drive         82051 non-null  object \n",
      " 14  size          82051 non-null  object \n",
      " 15  type          82051 non-null  object \n",
      " 16  state         82051 non-null  object \n",
      "dtypes: float64(2), int64(4), object(11)\n",
      "memory usage: 10.6+ MB\n"
     ]
    }
   ],
   "source": [
    "ucs_df.info()"
   ]
  },
  {
   "cell_type": "code",
   "execution_count": 8,
   "id": "3e79a2a0",
   "metadata": {},
   "outputs": [
    {
     "name": "stdout",
     "output_type": "stream",
     "text": [
      "Unnamed: 0      0\n",
      "id              0\n",
      "region          0\n",
      "price           0\n",
      "year            0\n",
      "manufacturer    0\n",
      "model           0\n",
      "condition       0\n",
      "cylinders       0\n",
      "fuel            0\n",
      "odometer        0\n",
      "title_status    0\n",
      "transmission    0\n",
      "drive           0\n",
      "size            0\n",
      "type            0\n",
      "state           0\n",
      "dtype: int64\n"
     ]
    }
   ],
   "source": [
    "\n",
    "print(ucs_df.isnull().sum())"
   ]
  },
  {
   "cell_type": "markdown",
   "id": "b2511b5a",
   "metadata": {},
   "source": [
    "### Checking the distribution of a categorical data"
   ]
  },
  {
   "cell_type": "markdown",
   "id": "8c8e7579",
   "metadata": {},
   "source": [
    "### title_status"
   ]
  },
  {
   "cell_type": "code",
   "execution_count": 9,
   "id": "52f9b50c",
   "metadata": {},
   "outputs": [
    {
     "data": {
      "text/plain": [
       "array(['clean', 'rebuilt', 'salvage', 'lien', 'missing', 'parts only'],\n",
       "      dtype=object)"
      ]
     },
     "execution_count": 9,
     "metadata": {},
     "output_type": "execute_result"
    }
   ],
   "source": [
    "ucs_df['title_status'].unique()"
   ]
  },
  {
   "cell_type": "code",
   "execution_count": 10,
   "id": "f78f3cc0",
   "metadata": {},
   "outputs": [
    {
     "data": {
      "text/plain": [
       "clean         77226\n",
       "rebuilt        2761\n",
       "salvage        1158\n",
       "lien            687\n",
       "missing         171\n",
       "parts only       48\n",
       "Name: title_status, dtype: int64"
      ]
     },
     "execution_count": 10,
     "metadata": {},
     "output_type": "execute_result"
    }
   ],
   "source": [
    "title_status_count = ucs_df.title_status.value_counts()\n",
    "title_status_count"
   ]
  },
  {
   "cell_type": "code",
   "execution_count": 11,
   "id": "a0de0cea",
   "metadata": {},
   "outputs": [],
   "source": [
    "label_encoder = preprocessing.LabelEncoder()\n",
    "ucs_df['title_status'] = label_encoder.fit_transform(ucs_df['title_status'])"
   ]
  },
  {
   "cell_type": "code",
   "execution_count": null,
   "id": "4e92917f",
   "metadata": {},
   "outputs": [],
   "source": []
  },
  {
   "cell_type": "code",
   "execution_count": 12,
   "id": "fe004461",
   "metadata": {},
   "outputs": [],
   "source": [
    "# ucs_df1= ucs_df[ucs_df[\"title_status\"]!= \"missing\"]"
   ]
  },
  {
   "cell_type": "code",
   "execution_count": 13,
   "id": "1dbd9117",
   "metadata": {},
   "outputs": [],
   "source": [
    "# ucs_df1= ucs_df[ucs_df[\"title_status\"]!= \"parts only\"]"
   ]
  },
  {
   "cell_type": "code",
   "execution_count": 14,
   "id": "84b1c095",
   "metadata": {},
   "outputs": [
    {
     "data": {
      "text/html": [
       "<div>\n",
       "<style scoped>\n",
       "    .dataframe tbody tr th:only-of-type {\n",
       "        vertical-align: middle;\n",
       "    }\n",
       "\n",
       "    .dataframe tbody tr th {\n",
       "        vertical-align: top;\n",
       "    }\n",
       "\n",
       "    .dataframe thead th {\n",
       "        text-align: right;\n",
       "    }\n",
       "</style>\n",
       "<table border=\"1\" class=\"dataframe\">\n",
       "  <thead>\n",
       "    <tr style=\"text-align: right;\">\n",
       "      <th></th>\n",
       "      <th>Unnamed: 0</th>\n",
       "      <th>id</th>\n",
       "      <th>region</th>\n",
       "      <th>price</th>\n",
       "      <th>year</th>\n",
       "      <th>manufacturer</th>\n",
       "      <th>model</th>\n",
       "      <th>condition</th>\n",
       "      <th>cylinders</th>\n",
       "      <th>fuel</th>\n",
       "      <th>odometer</th>\n",
       "      <th>title_status</th>\n",
       "      <th>transmission</th>\n",
       "      <th>drive</th>\n",
       "      <th>size</th>\n",
       "      <th>type</th>\n",
       "      <th>state</th>\n",
       "    </tr>\n",
       "  </thead>\n",
       "  <tbody>\n",
       "    <tr>\n",
       "      <th>0</th>\n",
       "      <td>31</td>\n",
       "      <td>7316356412</td>\n",
       "      <td>auburn</td>\n",
       "      <td>15000</td>\n",
       "      <td>2013.0</td>\n",
       "      <td>ford</td>\n",
       "      <td>f-150 xlt</td>\n",
       "      <td>excellent</td>\n",
       "      <td>6</td>\n",
       "      <td>gas</td>\n",
       "      <td>128000.0</td>\n",
       "      <td>0</td>\n",
       "      <td>automatic</td>\n",
       "      <td>rwd</td>\n",
       "      <td>full-size</td>\n",
       "      <td>truck</td>\n",
       "      <td>al</td>\n",
       "    </tr>\n",
       "    <tr>\n",
       "      <th>1</th>\n",
       "      <td>55</td>\n",
       "      <td>7314560853</td>\n",
       "      <td>auburn</td>\n",
       "      <td>19900</td>\n",
       "      <td>2004.0</td>\n",
       "      <td>ford</td>\n",
       "      <td>f250 super duty</td>\n",
       "      <td>good</td>\n",
       "      <td>8</td>\n",
       "      <td>diesel</td>\n",
       "      <td>88000.0</td>\n",
       "      <td>0</td>\n",
       "      <td>automatic</td>\n",
       "      <td>4wd</td>\n",
       "      <td>full-size</td>\n",
       "      <td>pickup</td>\n",
       "      <td>al</td>\n",
       "    </tr>\n",
       "    <tr>\n",
       "      <th>2</th>\n",
       "      <td>59</td>\n",
       "      <td>7313406529</td>\n",
       "      <td>auburn</td>\n",
       "      <td>14000</td>\n",
       "      <td>2012.0</td>\n",
       "      <td>honda</td>\n",
       "      <td>odyssey</td>\n",
       "      <td>excellent</td>\n",
       "      <td>6</td>\n",
       "      <td>gas</td>\n",
       "      <td>95000.0</td>\n",
       "      <td>0</td>\n",
       "      <td>automatic</td>\n",
       "      <td>fwd</td>\n",
       "      <td>full-size</td>\n",
       "      <td>mini-van</td>\n",
       "      <td>al</td>\n",
       "    </tr>\n",
       "    <tr>\n",
       "      <th>3</th>\n",
       "      <td>65</td>\n",
       "      <td>7312847466</td>\n",
       "      <td>auburn</td>\n",
       "      <td>22500</td>\n",
       "      <td>2001.0</td>\n",
       "      <td>ford</td>\n",
       "      <td>f450</td>\n",
       "      <td>good</td>\n",
       "      <td>8</td>\n",
       "      <td>diesel</td>\n",
       "      <td>144700.0</td>\n",
       "      <td>0</td>\n",
       "      <td>manual</td>\n",
       "      <td>rwd</td>\n",
       "      <td>full-size</td>\n",
       "      <td>truck</td>\n",
       "      <td>al</td>\n",
       "    </tr>\n",
       "    <tr>\n",
       "      <th>4</th>\n",
       "      <td>73</td>\n",
       "      <td>7312144944</td>\n",
       "      <td>auburn</td>\n",
       "      <td>15000</td>\n",
       "      <td>2017.0</td>\n",
       "      <td>dodge</td>\n",
       "      <td>charger rt 4dr sedan</td>\n",
       "      <td>excellent</td>\n",
       "      <td>8</td>\n",
       "      <td>gas</td>\n",
       "      <td>90000.0</td>\n",
       "      <td>4</td>\n",
       "      <td>automatic</td>\n",
       "      <td>rwd</td>\n",
       "      <td>mid-size</td>\n",
       "      <td>sedan</td>\n",
       "      <td>al</td>\n",
       "    </tr>\n",
       "  </tbody>\n",
       "</table>\n",
       "</div>"
      ],
      "text/plain": [
       "   Unnamed: 0          id  region  price    year manufacturer  \\\n",
       "0          31  7316356412  auburn  15000  2013.0         ford   \n",
       "1          55  7314560853  auburn  19900  2004.0         ford   \n",
       "2          59  7313406529  auburn  14000  2012.0        honda   \n",
       "3          65  7312847466  auburn  22500  2001.0         ford   \n",
       "4          73  7312144944  auburn  15000  2017.0        dodge   \n",
       "\n",
       "                  model  condition  cylinders    fuel  odometer  title_status  \\\n",
       "0             f-150 xlt  excellent          6     gas  128000.0             0   \n",
       "1       f250 super duty       good          8  diesel   88000.0             0   \n",
       "2               odyssey  excellent          6     gas   95000.0             0   \n",
       "3                  f450       good          8  diesel  144700.0             0   \n",
       "4  charger rt 4dr sedan  excellent          8     gas   90000.0             4   \n",
       "\n",
       "  transmission drive       size      type state  \n",
       "0    automatic   rwd  full-size     truck    al  \n",
       "1    automatic   4wd  full-size    pickup    al  \n",
       "2    automatic   fwd  full-size  mini-van    al  \n",
       "3       manual   rwd  full-size     truck    al  \n",
       "4    automatic   rwd   mid-size     sedan    al  "
      ]
     },
     "execution_count": 14,
     "metadata": {},
     "output_type": "execute_result"
    }
   ],
   "source": [
    "## drop missing and parts only values from title_status\n",
    "ucs_df.head()"
   ]
  },
  {
   "cell_type": "code",
   "execution_count": 15,
   "id": "ffca15c1",
   "metadata": {},
   "outputs": [],
   "source": [
    "# ucs_df['manufacturer'].unique()"
   ]
  },
  {
   "cell_type": "code",
   "execution_count": 16,
   "id": "8dc454cd",
   "metadata": {},
   "outputs": [],
   "source": [
    "# ucs_df['model'].unique()"
   ]
  },
  {
   "cell_type": "code",
   "execution_count": 17,
   "id": "b9c72c21",
   "metadata": {},
   "outputs": [],
   "source": [
    "# model_count = ucs_df.model.value_counts()\n",
    "# model_count"
   ]
  },
  {
   "cell_type": "markdown",
   "id": "5fefa212",
   "metadata": {},
   "source": [
    "### condition"
   ]
  },
  {
   "cell_type": "code",
   "execution_count": 18,
   "id": "83d34fa0",
   "metadata": {},
   "outputs": [],
   "source": [
    "# ucs_df1['condition'].unique()"
   ]
  },
  {
   "cell_type": "code",
   "execution_count": 19,
   "id": "9239a77a",
   "metadata": {},
   "outputs": [],
   "source": [
    "# condition_count = ucs_df1.condition.value_counts()\n",
    "# condition_count"
   ]
  },
  {
   "cell_type": "code",
   "execution_count": 20,
   "id": "94350afe",
   "metadata": {},
   "outputs": [],
   "source": [
    "# ucs_df1[\"condition\"].replace([\"like new\"], \"excellent\")"
   ]
  },
  {
   "cell_type": "code",
   "execution_count": 21,
   "id": "9946b567",
   "metadata": {
    "scrolled": true
   },
   "outputs": [
    {
     "name": "stdout",
     "output_type": "stream",
     "text": [
      "<class 'pandas.core.frame.DataFrame'>\n",
      "RangeIndex: 82051 entries, 0 to 82050\n",
      "Data columns (total 17 columns):\n",
      " #   Column        Non-Null Count  Dtype  \n",
      "---  ------        --------------  -----  \n",
      " 0   Unnamed: 0    82051 non-null  int64  \n",
      " 1   id            82051 non-null  int64  \n",
      " 2   region        82051 non-null  object \n",
      " 3   price         82051 non-null  int64  \n",
      " 4   year          82051 non-null  float64\n",
      " 5   manufacturer  82051 non-null  object \n",
      " 6   model         82051 non-null  object \n",
      " 7   condition     82051 non-null  object \n",
      " 8   cylinders     82051 non-null  int64  \n",
      " 9   fuel          82051 non-null  object \n",
      " 10  odometer      82051 non-null  float64\n",
      " 11  title_status  82051 non-null  int32  \n",
      " 12  transmission  82051 non-null  object \n",
      " 13  drive         82051 non-null  object \n",
      " 14  size          82051 non-null  object \n",
      " 15  type          82051 non-null  object \n",
      " 16  state         82051 non-null  object \n",
      "dtypes: float64(2), int32(1), int64(4), object(10)\n",
      "memory usage: 10.3+ MB\n"
     ]
    }
   ],
   "source": [
    " ucs_df.info()"
   ]
  },
  {
   "cell_type": "code",
   "execution_count": 22,
   "id": "d8e6f395",
   "metadata": {},
   "outputs": [],
   "source": [
    "# label_encoder = preprocessing.LabelEncoder()\n",
    "# ucs_df['title_status'] = label_encoder.fit_transform(ucs_df['title_status'])"
   ]
  },
  {
   "cell_type": "markdown",
   "id": "3c0eef63",
   "metadata": {},
   "source": [
    "### fuel"
   ]
  },
  {
   "cell_type": "code",
   "execution_count": 23,
   "id": "52721d94",
   "metadata": {},
   "outputs": [],
   "source": [
    "# ucs_df1[\"fuel\"].unique()"
   ]
  },
  {
   "cell_type": "code",
   "execution_count": 24,
   "id": "4b528afd",
   "metadata": {},
   "outputs": [],
   "source": [
    "# fuel_count = ucs_df1.fuel.value_counts()\n",
    "# fuel_count"
   ]
  },
  {
   "cell_type": "code",
   "execution_count": 25,
   "id": "7e0250a4",
   "metadata": {},
   "outputs": [],
   "source": [
    "# ucs_df1= ucs_df[ucs_df[\"fuel\"]!= \"other\"]"
   ]
  },
  {
   "cell_type": "code",
   "execution_count": 26,
   "id": "e705ae09",
   "metadata": {},
   "outputs": [],
   "source": [
    "# ucs_df1.describe()"
   ]
  },
  {
   "cell_type": "markdown",
   "id": "7f32e022",
   "metadata": {},
   "source": [
    "### drive"
   ]
  },
  {
   "cell_type": "code",
   "execution_count": 27,
   "id": "985b3785",
   "metadata": {},
   "outputs": [],
   "source": [
    "# ucs_df1[\"drive\"].unique()"
   ]
  },
  {
   "cell_type": "code",
   "execution_count": 28,
   "id": "603b973e",
   "metadata": {},
   "outputs": [],
   "source": [
    "# drive_count = ucs_df1.drive.value_counts()\n",
    "# drive_count"
   ]
  },
  {
   "cell_type": "markdown",
   "id": "8cdced9d",
   "metadata": {},
   "source": [
    "### transmission"
   ]
  },
  {
   "cell_type": "code",
   "execution_count": 29,
   "id": "f858f929",
   "metadata": {},
   "outputs": [],
   "source": [
    "# ucs_df1[\"transmission\"].unique()"
   ]
  },
  {
   "cell_type": "code",
   "execution_count": 30,
   "id": "3e9b4fce",
   "metadata": {},
   "outputs": [],
   "source": [
    "# transmission_count = ucs_df1.transmission.value_counts()\n",
    "# transmission_count"
   ]
  },
  {
   "cell_type": "markdown",
   "id": "7a0ead64",
   "metadata": {},
   "source": [
    "### size"
   ]
  },
  {
   "cell_type": "code",
   "execution_count": 31,
   "id": "edc1c6b4",
   "metadata": {},
   "outputs": [],
   "source": [
    "# ucs_df1[\"size\"].unique()"
   ]
  },
  {
   "cell_type": "code",
   "execution_count": 32,
   "id": "6ed0c74d",
   "metadata": {},
   "outputs": [],
   "source": [
    "# size_count = ucs_df.size.value_counts()\n",
    "# size_count"
   ]
  },
  {
   "cell_type": "markdown",
   "id": "6fa59c83",
   "metadata": {},
   "source": [
    "### type"
   ]
  },
  {
   "cell_type": "code",
   "execution_count": 33,
   "id": "a8bf515c",
   "metadata": {},
   "outputs": [],
   "source": [
    "# ucs_df1[\"type\"].unique()"
   ]
  },
  {
   "cell_type": "code",
   "execution_count": 34,
   "id": "22094347",
   "metadata": {},
   "outputs": [],
   "source": [
    "# type_count = ucs_df.type.value_counts()\n",
    "# type_count"
   ]
  },
  {
   "cell_type": "markdown",
   "id": "9079c3ec",
   "metadata": {},
   "source": [
    "### state"
   ]
  },
  {
   "cell_type": "code",
   "execution_count": 35,
   "id": "26ea89be",
   "metadata": {},
   "outputs": [],
   "source": [
    "# ucs_df1[\"state\"].unique()"
   ]
  },
  {
   "cell_type": "code",
   "execution_count": null,
   "id": "feea1da8",
   "metadata": {},
   "outputs": [],
   "source": []
  },
  {
   "cell_type": "code",
   "execution_count": 36,
   "id": "6fbc73fc",
   "metadata": {},
   "outputs": [],
   "source": [
    "# #changing from states to regions\n",
    "# ucs_df1=ucs_df1.replace(to_replace=['ca','or','wa','hi','ak','nv','id','mt','wy','ut','co','az','nm'], value='west')\n",
    "# ucs_df1=ucs_df1.replace(to_replace=['nd','sd','ne','ks','mn','ia','mo','wi','il','mi','in','oh'], value='midwest')\n",
    "# ucs_df1=ucs_df1.replace(to_replace=['pa','ny','vt','me','nh','ma','ct','ri','nj'], value='northeast')\n",
    "# ucs_df1=ucs_df1.replace(to_replace=['tx','ok','ar','la','ky','tn','ms','al','de','md','dc','wv','va','nc','sc','ga','fl'], value='south')"
   ]
  },
  {
   "cell_type": "code",
   "execution_count": 37,
   "id": "ed03d57f",
   "metadata": {},
   "outputs": [],
   "source": [
    "# removing decimal from year column\n",
    "ucs_df['year'] = (ucs_df['year']).astype(int) "
   ]
  },
  {
   "cell_type": "code",
   "execution_count": 38,
   "id": "b290c398",
   "metadata": {
    "scrolled": true
   },
   "outputs": [
    {
     "data": {
      "text/html": [
       "<div>\n",
       "<style scoped>\n",
       "    .dataframe tbody tr th:only-of-type {\n",
       "        vertical-align: middle;\n",
       "    }\n",
       "\n",
       "    .dataframe tbody tr th {\n",
       "        vertical-align: top;\n",
       "    }\n",
       "\n",
       "    .dataframe thead th {\n",
       "        text-align: right;\n",
       "    }\n",
       "</style>\n",
       "<table border=\"1\" class=\"dataframe\">\n",
       "  <thead>\n",
       "    <tr style=\"text-align: right;\">\n",
       "      <th></th>\n",
       "      <th>Unnamed: 0</th>\n",
       "      <th>id</th>\n",
       "      <th>region</th>\n",
       "      <th>price</th>\n",
       "      <th>year</th>\n",
       "      <th>manufacturer</th>\n",
       "      <th>model</th>\n",
       "      <th>condition</th>\n",
       "      <th>cylinders</th>\n",
       "      <th>fuel</th>\n",
       "      <th>odometer</th>\n",
       "      <th>title_status</th>\n",
       "      <th>transmission</th>\n",
       "      <th>drive</th>\n",
       "      <th>size</th>\n",
       "      <th>type</th>\n",
       "      <th>state</th>\n",
       "    </tr>\n",
       "  </thead>\n",
       "  <tbody>\n",
       "    <tr>\n",
       "      <th>0</th>\n",
       "      <td>31</td>\n",
       "      <td>7316356412</td>\n",
       "      <td>auburn</td>\n",
       "      <td>15000</td>\n",
       "      <td>2013</td>\n",
       "      <td>ford</td>\n",
       "      <td>f-150 xlt</td>\n",
       "      <td>excellent</td>\n",
       "      <td>6</td>\n",
       "      <td>gas</td>\n",
       "      <td>128000.0</td>\n",
       "      <td>0</td>\n",
       "      <td>automatic</td>\n",
       "      <td>rwd</td>\n",
       "      <td>full-size</td>\n",
       "      <td>truck</td>\n",
       "      <td>al</td>\n",
       "    </tr>\n",
       "    <tr>\n",
       "      <th>1</th>\n",
       "      <td>55</td>\n",
       "      <td>7314560853</td>\n",
       "      <td>auburn</td>\n",
       "      <td>19900</td>\n",
       "      <td>2004</td>\n",
       "      <td>ford</td>\n",
       "      <td>f250 super duty</td>\n",
       "      <td>good</td>\n",
       "      <td>8</td>\n",
       "      <td>diesel</td>\n",
       "      <td>88000.0</td>\n",
       "      <td>0</td>\n",
       "      <td>automatic</td>\n",
       "      <td>4wd</td>\n",
       "      <td>full-size</td>\n",
       "      <td>pickup</td>\n",
       "      <td>al</td>\n",
       "    </tr>\n",
       "    <tr>\n",
       "      <th>2</th>\n",
       "      <td>59</td>\n",
       "      <td>7313406529</td>\n",
       "      <td>auburn</td>\n",
       "      <td>14000</td>\n",
       "      <td>2012</td>\n",
       "      <td>honda</td>\n",
       "      <td>odyssey</td>\n",
       "      <td>excellent</td>\n",
       "      <td>6</td>\n",
       "      <td>gas</td>\n",
       "      <td>95000.0</td>\n",
       "      <td>0</td>\n",
       "      <td>automatic</td>\n",
       "      <td>fwd</td>\n",
       "      <td>full-size</td>\n",
       "      <td>mini-van</td>\n",
       "      <td>al</td>\n",
       "    </tr>\n",
       "    <tr>\n",
       "      <th>3</th>\n",
       "      <td>65</td>\n",
       "      <td>7312847466</td>\n",
       "      <td>auburn</td>\n",
       "      <td>22500</td>\n",
       "      <td>2001</td>\n",
       "      <td>ford</td>\n",
       "      <td>f450</td>\n",
       "      <td>good</td>\n",
       "      <td>8</td>\n",
       "      <td>diesel</td>\n",
       "      <td>144700.0</td>\n",
       "      <td>0</td>\n",
       "      <td>manual</td>\n",
       "      <td>rwd</td>\n",
       "      <td>full-size</td>\n",
       "      <td>truck</td>\n",
       "      <td>al</td>\n",
       "    </tr>\n",
       "    <tr>\n",
       "      <th>4</th>\n",
       "      <td>73</td>\n",
       "      <td>7312144944</td>\n",
       "      <td>auburn</td>\n",
       "      <td>15000</td>\n",
       "      <td>2017</td>\n",
       "      <td>dodge</td>\n",
       "      <td>charger rt 4dr sedan</td>\n",
       "      <td>excellent</td>\n",
       "      <td>8</td>\n",
       "      <td>gas</td>\n",
       "      <td>90000.0</td>\n",
       "      <td>4</td>\n",
       "      <td>automatic</td>\n",
       "      <td>rwd</td>\n",
       "      <td>mid-size</td>\n",
       "      <td>sedan</td>\n",
       "      <td>al</td>\n",
       "    </tr>\n",
       "  </tbody>\n",
       "</table>\n",
       "</div>"
      ],
      "text/plain": [
       "   Unnamed: 0          id  region  price  year manufacturer  \\\n",
       "0          31  7316356412  auburn  15000  2013         ford   \n",
       "1          55  7314560853  auburn  19900  2004         ford   \n",
       "2          59  7313406529  auburn  14000  2012        honda   \n",
       "3          65  7312847466  auburn  22500  2001         ford   \n",
       "4          73  7312144944  auburn  15000  2017        dodge   \n",
       "\n",
       "                  model  condition  cylinders    fuel  odometer  title_status  \\\n",
       "0             f-150 xlt  excellent          6     gas  128000.0             0   \n",
       "1       f250 super duty       good          8  diesel   88000.0             0   \n",
       "2               odyssey  excellent          6     gas   95000.0             0   \n",
       "3                  f450       good          8  diesel  144700.0             0   \n",
       "4  charger rt 4dr sedan  excellent          8     gas   90000.0             4   \n",
       "\n",
       "  transmission drive       size      type state  \n",
       "0    automatic   rwd  full-size     truck    al  \n",
       "1    automatic   4wd  full-size    pickup    al  \n",
       "2    automatic   fwd  full-size  mini-van    al  \n",
       "3       manual   rwd  full-size     truck    al  \n",
       "4    automatic   rwd   mid-size     sedan    al  "
      ]
     },
     "execution_count": 38,
     "metadata": {},
     "output_type": "execute_result"
    }
   ],
   "source": [
    "ucs_df.head()"
   ]
  },
  {
   "cell_type": "code",
   "execution_count": 45,
   "id": "fea55623",
   "metadata": {},
   "outputs": [],
   "source": [
    "fuel = ucs_df[\"fuel\"]\n",
    "price = ucs_df[\"price\"]\n",
    "transmission = ucs_df[\"transmission\"]\n",
    "year = ucs_df[\"year\"]\n",
    "odometer = ucs_df [\"odometer\"]"
   ]
  },
  {
   "cell_type": "code",
   "execution_count": 46,
   "id": "b636e2c2",
   "metadata": {},
   "outputs": [
    {
     "data": {
      "image/png": "[encoded data removed]",
      "text/plain": [
       "<Figure size 1080x360 with 3 Axes>"
      ]
     },
     "metadata": {},
     "output_type": "display_data"
    }
   ],
   "source": [
    "## Data Visualization\n",
    "plt.style.use(\"ggplot\")\n",
    "fig = plt.figure(figsize = (15, 5))\n",
    "ax2 = plt.axes()\n",
    "#fig.subtitle(\"Visualizing categorical data columns\")\n",
    "plt.subplot(1,3,1)\n",
    "plt.bar(fuel,price, color= \"royalblue\")\n",
    "plt.xlabel(\"fuel\")\n",
    "plt.ylabel(\"price\")\n",
    "plt.subplot(1,3,2)\n",
    "plt.bar(transmission,price, color= \"red\")\n",
    "plt.xlabel(\"transmission\")\n",
    "\n",
    "plt.subplot(1,3,3)\n",
    "plt.bar(odometer,price, color= \"purple\")\n",
    "plt.xlabel(\"odometer\")\n",
    "\n",
    "plt.show()\n"
   ]
  },
  {
   "cell_type": "code",
   "execution_count": null,
   "id": "47e698f0",
   "metadata": {},
   "outputs": [],
   "source": [
    "# Drop columns that is not needed (Please select whatever columns we would not need)\n",
    "ucs_df1 = ucs_df.drop(columns=['id','region','manufacturer','model','type','state', 'condition','cylinders', 'fuel', 'transmission','size', 'drive'])"
   ]
  },
  {
   "cell_type": "code",
   "execution_count": null,
   "id": "c77c36e7",
   "metadata": {},
   "outputs": [],
   "source": [
    "ucs_df1"
   ]
  },
  {
   "cell_type": "code",
   "execution_count": null,
   "id": "32f72163",
   "metadata": {},
   "outputs": [],
   "source": []
  },
  {
   "cell_type": "markdown",
   "id": "63027b73",
   "metadata": {},
   "source": [
    "## Encoding the Categorical Data"
   ]
  },
  {
   "cell_type": "code",
   "execution_count": null,
   "id": "edec07b0",
   "metadata": {},
   "outputs": [],
   "source": [
    "# #encoding fuel column\n",
    "# ucs_df2.replace({\"fuel\" :{\"gas\": 0, \"diesel\" :1, \"hybrid\" : 2 , \"other\" :3, \"electric\" : 4}}, inplace = True)"
   ]
  },
  {
   "cell_type": "code",
   "execution_count": null,
   "id": "40336062",
   "metadata": {},
   "outputs": [],
   "source": [
    "#encoding title_status column\n",
    "# ucs_df2.replace({\"title_status\" :{\"clean\": 0, \"rebuilt\" :1, \"salvage\" : 2 , \"otherlien\" :3}}, inplace = True)"
   ]
  },
  {
   "cell_type": "code",
   "execution_count": null,
   "id": "2ed58a50",
   "metadata": {},
   "outputs": [],
   "source": [
    "#encoding condition column\n",
    "#ucs_df2.replace({\"condition\" :{\"new\": 0, \"excellent\" :1, \"good\" : 2 , \"fair\" :3, \"salvage\" : 4}}, inplace = True)"
   ]
  },
  {
   "cell_type": "code",
   "execution_count": null,
   "id": "17286a50",
   "metadata": {},
   "outputs": [],
   "source": [
    "#encoding transmission column\n",
    "# ucs_df2.replace({\"transmission\" :{\"automatic\": 0, \"manual\" :1, \"other\" :3}}, inplace = True)"
   ]
  },
  {
   "cell_type": "code",
   "execution_count": null,
   "id": "c532d729",
   "metadata": {},
   "outputs": [],
   "source": [
    "#encoding drive column\n",
    "# ucs_df2.replace({\"drive\" :{\"fwd\": 0, \"rwd\" :1, \"4wd\" : 2}}, inplace = True)"
   ]
  },
  {
   "cell_type": "code",
   "execution_count": null,
   "id": "1b7f9802",
   "metadata": {},
   "outputs": [],
   "source": [
    "#encoding size column\n",
    "# ucs_df2.replace({\"size\" :{\"full-size\": 0, \"mid-size\" :1, \"compact\" : 2 , \"sub-compact\" :3}}, inplace = True)"
   ]
  },
  {
   "cell_type": "code",
   "execution_count": null,
   "id": "c508910b",
   "metadata": {},
   "outputs": [],
   "source": [
    "#encoding state column\n",
    "# ucs_df2.replace({\"state\" :{\"west\": 0, \"midwest\" :1, \"northeast\" : 2 , \"south\" :3}}, inplace = True)"
   ]
  },
  {
   "cell_type": "code",
   "execution_count": null,
   "id": "42132eb0",
   "metadata": {},
   "outputs": [],
   "source": [
    "#ucs_df2= ucs_df2[ucs_df2[\"title_status\"]!= \"missing\"]"
   ]
  },
  {
   "cell_type": "code",
   "execution_count": null,
   "id": "44b40cb7",
   "metadata": {},
   "outputs": [],
   "source": [
    "#ucs_df2= ucs_df2[ucs_df2[\"title_status\"]!= \"parts only\"]"
   ]
  },
  {
   "cell_type": "code",
   "execution_count": null,
   "id": "43d40885",
   "metadata": {},
   "outputs": [],
   "source": [
    "#ucs_df2"
   ]
  },
  {
   "cell_type": "code",
   "execution_count": null,
   "id": "1fe06eb2",
   "metadata": {},
   "outputs": [],
   "source": [
    "lower_limit = np.percentile(ucs_df2[['price']], 5)\n",
    "upper_limit = np.percentile(ucs_df2[['price']], 95)\n",
    "print(lower_limit, upper_limit)"
   ]
  },
  {
   "cell_type": "code",
   "execution_count": null,
   "id": "366cea7f",
   "metadata": {},
   "outputs": [],
   "source": [
    "ucs_df2 = ucs_df2[(ucs_df2['price'] >= lower_limit) & (ucs_df2['price'] <= upper_limit)]  #Removing outliers\n",
    "ucs_df2.shape"
   ]
  },
  {
   "cell_type": "markdown",
   "id": "2dbf2418",
   "metadata": {},
   "source": [
    "# Split the Data into Training and Target"
   ]
  },
  {
   "cell_type": "code",
   "execution_count": null,
   "id": "3d3f04b9",
   "metadata": {},
   "outputs": [],
   "source": [
    "# Create our features\n",
    "X = ucs_df2\n",
    "X=X.drop([\"price\"],axis=1)\n",
    "X=pd.get_dummies(X)\n",
    "\n",
    "\n",
    "# Create our target\n",
    "y = ucs_df2[\"price\"]"
   ]
  },
  {
   "cell_type": "code",
   "execution_count": null,
   "id": "1cfa948f",
   "metadata": {},
   "outputs": [],
   "source": [
    "X"
   ]
  },
  {
   "cell_type": "code",
   "execution_count": null,
   "id": "b7a21927",
   "metadata": {},
   "outputs": [],
   "source": [
    "print(X)"
   ]
  },
  {
   "cell_type": "code",
   "execution_count": null,
   "id": "db8a03d7",
   "metadata": {},
   "outputs": [],
   "source": [
    "print(y)"
   ]
  },
  {
   "cell_type": "code",
   "execution_count": null,
   "id": "00c95495",
   "metadata": {},
   "outputs": [],
   "source": []
  },
  {
   "cell_type": "markdown",
   "id": "8e04949e",
   "metadata": {},
   "source": [
    "# Split the Data into Training and Testing "
   ]
  },
  {
   "cell_type": "code",
   "execution_count": null,
   "id": "e584c882",
   "metadata": {},
   "outputs": [],
   "source": [
    "X_train, X_test, y_train, y_test = train_test_split(X,y, random_state=2)"
   ]
  },
  {
   "cell_type": "markdown",
   "id": "a5f923a7",
   "metadata": {},
   "source": [
    "# Model Traing\n",
    "## Linear Regression"
   ]
  },
  {
   "cell_type": "code",
   "execution_count": null,
   "id": "d8ce782c",
   "metadata": {},
   "outputs": [],
   "source": [
    "# Loadinf the Linear Regression model\n",
    "lin_reg_model = LinearRegression()"
   ]
  },
  {
   "cell_type": "code",
   "execution_count": null,
   "id": "19b51dd5",
   "metadata": {},
   "outputs": [],
   "source": [
    "#fitting data to the linear Regression model\n",
    "lin_reg_model.fit(X_train, y_train)"
   ]
  },
  {
   "cell_type": "markdown",
   "id": "66f4bfd1",
   "metadata": {},
   "source": [
    "### Model Evaluation"
   ]
  },
  {
   "cell_type": "code",
   "execution_count": null,
   "id": "d833ecdb",
   "metadata": {},
   "outputs": [],
   "source": [
    "# prediction on Training data\n",
    "y_prediction = lin_reg_model.predict(X_train)"
   ]
  },
  {
   "cell_type": "code",
   "execution_count": null,
   "id": "996b4d5b",
   "metadata": {},
   "outputs": [],
   "source": [
    "# R squared Error\n",
    "error_score = metrics.r2_score(y_train, y_prediction)\n",
    "print(\"R Squared Error_score : \",error_score)"
   ]
  },
  {
   "cell_type": "markdown",
   "id": "035a479b",
   "metadata": {},
   "source": [
    "## Visualize the Actual and Predicted prices"
   ]
  },
  {
   "cell_type": "code",
   "execution_count": null,
   "id": "5132352f",
   "metadata": {},
   "outputs": [],
   "source": [
    "# X_train=np.arange(0,len(X_train),1)"
   ]
  },
  {
   "cell_type": "code",
   "execution_count": null,
   "id": "bc7b7ae1",
   "metadata": {},
   "outputs": [],
   "source": [
    "X_train.shape"
   ]
  },
  {
   "cell_type": "code",
   "execution_count": null,
   "id": "fac804fd",
   "metadata": {},
   "outputs": [],
   "source": [
    "plt.scatter(y_train,y_prediction)\n",
    "plt.xlabel(\"Actual Price\")\n",
    "plt.ylabel(\" Predicted Price\")\n",
    "plt.title(\" Actual Prices vs Predicted Prices\")\n",
    "plt.show()"
   ]
  },
  {
   "cell_type": "code",
   "execution_count": null,
   "id": "25aceb35",
   "metadata": {},
   "outputs": [],
   "source": [
    "# prediction on Testing data\n",
    "test_data_prediction = lin_reg_model.predict(X_test)"
   ]
  },
  {
   "cell_type": "code",
   "execution_count": null,
   "id": "c71ffe19",
   "metadata": {},
   "outputs": [],
   "source": [
    "# R squared Error\n",
    "error_score = metrics.r2_score(y_test, test_data_prediction)\n",
    "print(\"R Squared Error_score : \",error_score)"
   ]
  },
  {
   "cell_type": "code",
   "execution_count": null,
   "id": "1e14cd51",
   "metadata": {},
   "outputs": [],
   "source": [
    "plt.scatter(y_test,test_data_prediction)\n",
    "plt.xlabel(\"Actual Price\")\n",
    "plt.ylabel(\" Predicted Price\")\n",
    "plt.title(\" Actual Prices vs Predicted Prices\")\n",
    "plt.show()"
   ]
  },
  {
   "cell_type": "code",
   "execution_count": null,
   "id": "086729bf",
   "metadata": {},
   "outputs": [],
   "source": [
    "# Result of prediction\n",
    "data = {'price': y_test,\n",
    "       'prediction': y_prediction}\n",
    "df_pred = pd.DataFrame(data)"
   ]
  },
  {
   "cell_type": "code",
   "execution_count": null,
   "id": "c192fd1c",
   "metadata": {},
   "outputs": [],
   "source": []
  },
  {
   "cell_type": "code",
   "execution_count": null,
   "id": "14241a2f",
   "metadata": {},
   "outputs": [],
   "source": []
  },
  {
   "cell_type": "code",
   "execution_count": null,
   "id": "e2a3d621",
   "metadata": {},
   "outputs": [],
   "source": [
    "# Loadinf the Linear Regression model\n",
    "lass_reg_model = Lasso()"
   ]
  },
  {
   "cell_type": "code",
   "execution_count": null,
   "id": "3f925b0a",
   "metadata": {},
   "outputs": [],
   "source": [
    "#fitting data to the linear Regression model\n",
    "lass_reg_model.fit(X_train, y_train)"
   ]
  },
  {
   "cell_type": "code",
   "execution_count": null,
   "id": "bd65511f",
   "metadata": {},
   "outputs": [],
   "source": [
    "# prediction on Training data\n",
    "y_prediction = lass_reg_model.predict(X_train)"
   ]
  },
  {
   "cell_type": "code",
   "execution_count": null,
   "id": "2795f656",
   "metadata": {},
   "outputs": [],
   "source": [
    "# R squared Error\n",
    "error_score = metrics.r2_score(y_train, y_prediction)\n",
    "print(\"R Squared Error_score : \",error_score)"
   ]
  },
  {
   "cell_type": "code",
   "execution_count": null,
   "id": "73f7426e",
   "metadata": {},
   "outputs": [],
   "source": [
    "# X_train=np.arange(0,len(X_train),1)"
   ]
  },
  {
   "cell_type": "code",
   "execution_count": null,
   "id": "bb638148",
   "metadata": {},
   "outputs": [],
   "source": [
    "plt.scatter(y_train,y_prediction)\n",
    "plt.xlabel(\"Actual Price\")\n",
    "plt.ylabel(\" Predicted Price\")\n",
    "plt.title(\" Actual Prices vs Predicted Prices\")\n",
    "plt.show()"
   ]
  },
  {
   "cell_type": "code",
   "execution_count": null,
   "id": "dcd2dbaa",
   "metadata": {},
   "outputs": [],
   "source": [
    "# prediction on Testing data\n",
    "test_data_prediction = lass_reg_model.predict(X_test)"
   ]
  },
  {
   "cell_type": "code",
   "execution_count": null,
   "id": "3c471360",
   "metadata": {},
   "outputs": [],
   "source": [
    "# R squared Error\n",
    "error_score = metrics.r2_score(y_test, test_data_prediction)\n",
    "print(\"R Squared Error_score : \",error_score)"
   ]
  },
  {
   "cell_type": "code",
   "execution_count": null,
   "id": "0e6309a5",
   "metadata": {},
   "outputs": [],
   "source": [
    "plt.scatter(y_test,test_data_prediction)\n",
    "plt.xlabel(\"Actual Price\")\n",
    "plt.ylabel(\" Predicted Price\")\n",
    "plt.title(\" Actual Prices vs Predicted Prices\")\n",
    "plt.show()"
   ]
  }
 ],
 "metadata": {
  "kernelspec": {
   "display_name": "PythonData",
   "language": "python",
   "name": "pythondata"
  },
  "language_info": {
   "codemirror_mode": {
    "name": "ipython",
    "version": 3
   },
   "file_extension": ".py",
   "mimetype": "text/x-python",
   "name": "python",
   "nbconvert_exporter": "python",
   "pygments_lexer": "ipython3",
   "version": "3.7.13"
  }
 },
 "nbformat": 4,
 "nbformat_minor": 5
}
