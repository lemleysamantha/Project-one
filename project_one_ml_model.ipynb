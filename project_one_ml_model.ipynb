{
 "cells": [
  {
   "cell_type": "code",
   "execution_count": null,
   "id": "07b28fdb",
   "metadata": {},
   "outputs": [],
   "source": [
    "import pandas as pd\n",
    "import numpy as np\n",
    "import datetime as dt\n",
    "import matplotlib.pyplot as plt\n",
    "import plotly.express as px"
   ]
  },
  {
   "cell_type": "code",
   "execution_count": null,
   "id": "b6b3baae",
   "metadata": {},
   "outputs": [],
   "source": [
    "df = pd.read_csv(\"vehicles_maindata.csv\")"
   ]
  },
  {
   "cell_type": "code",
   "execution_count": null,
   "id": "4e0dddb4",
   "metadata": {},
   "outputs": [],
   "source": [
    "df.columns"
   ]
  },
  {
   "cell_type": "code",
   "execution_count": null,
   "id": "74be9d4e",
   "metadata": {},
   "outputs": [],
   "source": [
    "# Select columns for prediction\n",
    "df_analysis = df.loc[:,['price','year','odometer','type','area']]"
   ]
  },
  {
   "cell_type": "code",
   "execution_count": null,
   "id": "a43253e3",
   "metadata": {},
   "outputs": [],
   "source": [
    "df_analysis"
   ]
  },
  {
   "cell_type": "code",
   "execution_count": null,
   "id": "fcd1bf06",
   "metadata": {},
   "outputs": [],
   "source": [
    "# Create features and target\n",
    "X = df_analysis.copy().drop('price', axis=1)\n",
    "X = pd.get_dummies(X, columns=['year','type','area'])\n",
    "y = df_analysis['price']"
   ]
  },
  {
   "cell_type": "code",
   "execution_count": null,
   "id": "557ab0c0",
   "metadata": {},
   "outputs": [],
   "source": [
    "# Import our machine learning dependencies\n",
    "from sklearn.model_selection import train_test_split\n",
    "from sklearn.preprocessing import StandardScaler,OneHotEncoder\n",
    "from sklearn.tree import DecisionTreeRegressor\n",
    "from sklearn import metrics"
   ]
  },
  {
   "cell_type": "code",
   "execution_count": null,
   "id": "7392595f",
   "metadata": {},
   "outputs": [],
   "source": [
    "# Import GridSearchCV libraries\n",
    "from sklearn.pipeline import Pipeline\n",
    "from sklearn.model_selection import GridSearchCV, cross_val_score"
   ]
  },
  {
   "cell_type": "code",
   "execution_count": null,
   "id": "6270598b",
   "metadata": {},
   "outputs": [],
   "source": [
    "# Create training and testing datasets\n",
    "X_train, X_test, y_train, y_test = train_test_split(X,y,random_state=1)"
   ]
  },
  {
   "cell_type": "code",
   "execution_count": null,
   "id": "23c605df",
   "metadata": {},
   "outputs": [],
   "source": [
    "# Create a machine learning model\n",
    "regr = DecisionTreeRegressor()"
   ]
  },
  {
   "cell_type": "code",
   "execution_count": null,
   "id": "edc658c7",
   "metadata": {},
   "outputs": [],
   "source": [
    "# Make an object pipe to create pipeline for regr\n",
    "pipe = Pipeline(steps=[('regr',regr)])"
   ]
  },
  {
   "cell_type": "code",
   "execution_count": null,
   "id": "75266e21",
   "metadata": {},
   "outputs": [],
   "source": [
    "# Set parameters as value list from which GridSearchCV will select best value\n",
    "max_depth = [1,2,3,4,5,6,7,8,9,10,11,12,13,14,15]"
   ]
  },
  {
   "cell_type": "code",
   "execution_count": null,
   "id": "984dfddb",
   "metadata": {},
   "outputs": [],
   "source": [
    "# Create dictionary to set parameters\n",
    "parameters = dict(regr__max_depth=max_depth)"
   ]
  },
  {
   "cell_type": "code",
   "execution_count": null,
   "id": "274a8fea",
   "metadata": {},
   "outputs": [],
   "source": [
    "# Create GridSearchCV object and fot dataset i.e., X and y\n",
    "pred = GridSearchCV(pipe, parameters)\n",
    "pred.fit(X, y)"
   ]
  },
  {
   "cell_type": "code",
   "execution_count": null,
   "id": "e905c3b6",
   "metadata": {},
   "outputs": [],
   "source": [
    "# Print result\n",
    "print(); print(pred.best_estimator_.get_params()['regr'])"
   ]
  },
  {
   "cell_type": "code",
   "execution_count": null,
   "id": "b6132208",
   "metadata": {},
   "outputs": [],
   "source": [
    "# Make prediction\n",
    "best_regr = DecisionTreeRegressor(max_depth=11)\n",
    "best_regr.fit(X_train, y_train)\n",
    "y_pred_11 = best_regr.predict(X_test)"
   ]
  },
  {
   "cell_type": "code",
   "execution_count": null,
   "id": "d38fbd87",
   "metadata": {},
   "outputs": [],
   "source": [
    "# Result evaluation\n",
    "rscore = metrics.r2_score(y_test, y_pred_11)\n",
    "rscore"
   ]
  },
  {
   "cell_type": "code",
   "execution_count": null,
   "id": "5c5139f5",
   "metadata": {},
   "outputs": [],
   "source": [
    "# Test with max_depth 11\n",
    "best_regr10 = DecisionTreeRegressor(max_depth=10)\n",
    "best_regr.fit(X_train, y_train)\n",
    "y_pred_10 = best_regr.predict(X_test)"
   ]
  },
  {
   "cell_type": "code",
   "execution_count": null,
   "id": "f7edb5b2",
   "metadata": {},
   "outputs": [],
   "source": [
    "rscore = metrics.r2_score(y_test, y_pred_10)\n",
    "rscore"
   ]
  }
 ],
 "metadata": {
  "kernelspec": {
   "display_name": "ML environment",
   "language": "python",
   "name": "mlenv"
  },
  "language_info": {
   "codemirror_mode": {
    "name": "ipython",
    "version": 3
   },
   "file_extension": ".py",
   "mimetype": "text/x-python",
   "name": "python",
   "nbconvert_exporter": "python",
   "pygments_lexer": "ipython3",
   "version": "3.7.13"
  }
 },
 "nbformat": 4,
 "nbformat_minor": 5
}
