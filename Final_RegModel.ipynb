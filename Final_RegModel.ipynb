{
 "cells": [
  {
   "cell_type": "code",
   "execution_count": 1,
   "id": "8c2a7979",
   "metadata": {},
   "outputs": [],
   "source": [
    "import warnings\n",
    "import pandas as pd\n",
    "import numpy as np\n",
    "import matplotlib.pyplot as plt\n",
    "import plotly.express as px\n",
    "import seaborn as sns\n",
    "\n",
    "from sklearn.linear_model import LinearRegression\n",
    "from sklearn import preprocessing\n",
    "from sklearn.model_selection import train_test_split\n",
    "from sklearn.tree import DecisionTreeRegressor\n",
    "from sklearn import metrics\n",
    "from sklearn.metrics import mean_squared_error, r2_score\n",
    "from sklearn.preprocessing import StandardScaler,OneHotEncoder\n",
    "\n",
    "from sklearn.pipeline import Pipeline\n",
    "from sklearn.model_selection import GridSearchCV, cross_val_score"
   ]
  },
  {
   "cell_type": "markdown",
   "id": "a0f232bf",
   "metadata": {},
   "source": [
    "### Loading Data"
   ]
  },
  {
   "cell_type": "code",
   "execution_count": 2,
   "id": "b540acd1",
   "metadata": {},
   "outputs": [],
   "source": [
    "df = pd.read_csv(\"vehicles_maindata.csv\")"
   ]
  },
  {
   "cell_type": "code",
   "execution_count": 3,
   "id": "d5cf9574",
   "metadata": {
    "scrolled": true
   },
   "outputs": [
    {
     "data": {
      "text/plain": [
       "Index(['Unnamed: 0', 'id', 'price', 'year', 'manufacturer', 'model',\n",
       "       'condition', 'cylinders', 'fuel', 'odometer', 'title_status',\n",
       "       'transmission', 'drive', 'type', 'area'],\n",
       "      dtype='object')"
      ]
     },
     "execution_count": 3,
     "metadata": {},
     "output_type": "execute_result"
    }
   ],
   "source": [
    "# Main Dataset\n",
    "df.columns"
   ]
  },
  {
   "cell_type": "markdown",
   "id": "cff8630a",
   "metadata": {},
   "source": [
    "### Data Selection"
   ]
  },
  {
   "cell_type": "code",
   "execution_count": 4,
   "id": "0c7a08af",
   "metadata": {},
   "outputs": [],
   "source": [
    "# Select columns for prediction with Decision Tree Regressor\n",
    "df_1 = df.loc[:,['price', 'year', 'manufacturer', \n",
    "       'condition', 'cylinders', 'fuel', 'odometer', 'title_status',\n",
    "       'transmission', 'drive', 'type','area']]"
   ]
  },
  {
   "cell_type": "code",
   "execution_count": 5,
   "id": "11578e5b",
   "metadata": {},
   "outputs": [
    {
     "data": {
      "text/html": [
       "<div>\n",
       "<style scoped>\n",
       "    .dataframe tbody tr th:only-of-type {\n",
       "        vertical-align: middle;\n",
       "    }\n",
       "\n",
       "    .dataframe tbody tr th {\n",
       "        vertical-align: top;\n",
       "    }\n",
       "\n",
       "    .dataframe thead th {\n",
       "        text-align: right;\n",
       "    }\n",
       "</style>\n",
       "<table border=\"1\" class=\"dataframe\">\n",
       "  <thead>\n",
       "    <tr style=\"text-align: right;\">\n",
       "      <th></th>\n",
       "      <th>price</th>\n",
       "      <th>year</th>\n",
       "      <th>manufacturer</th>\n",
       "      <th>condition</th>\n",
       "      <th>cylinders</th>\n",
       "      <th>fuel</th>\n",
       "      <th>odometer</th>\n",
       "      <th>title_status</th>\n",
       "      <th>transmission</th>\n",
       "      <th>drive</th>\n",
       "      <th>type</th>\n",
       "      <th>area</th>\n",
       "    </tr>\n",
       "  </thead>\n",
       "  <tbody>\n",
       "    <tr>\n",
       "      <th>0</th>\n",
       "      <td>15000</td>\n",
       "      <td>2013-01-01</td>\n",
       "      <td>ford</td>\n",
       "      <td>excellent</td>\n",
       "      <td>6</td>\n",
       "      <td>gas</td>\n",
       "      <td>128000.0</td>\n",
       "      <td>clean</td>\n",
       "      <td>automatic</td>\n",
       "      <td>rwd</td>\n",
       "      <td>truck</td>\n",
       "      <td>south</td>\n",
       "    </tr>\n",
       "    <tr>\n",
       "      <th>1</th>\n",
       "      <td>27990</td>\n",
       "      <td>2012-01-01</td>\n",
       "      <td>gmc</td>\n",
       "      <td>good</td>\n",
       "      <td>8</td>\n",
       "      <td>gas</td>\n",
       "      <td>68696.0</td>\n",
       "      <td>clean</td>\n",
       "      <td>other</td>\n",
       "      <td>4wd</td>\n",
       "      <td>pickup</td>\n",
       "      <td>south</td>\n",
       "    </tr>\n",
       "    <tr>\n",
       "      <th>2</th>\n",
       "      <td>34590</td>\n",
       "      <td>2016-01-01</td>\n",
       "      <td>chevrolet</td>\n",
       "      <td>good</td>\n",
       "      <td>6</td>\n",
       "      <td>gas</td>\n",
       "      <td>29499.0</td>\n",
       "      <td>clean</td>\n",
       "      <td>other</td>\n",
       "      <td>4wd</td>\n",
       "      <td>pickup</td>\n",
       "      <td>south</td>\n",
       "    </tr>\n",
       "    <tr>\n",
       "      <th>3</th>\n",
       "      <td>35000</td>\n",
       "      <td>2019-01-01</td>\n",
       "      <td>toyota</td>\n",
       "      <td>excellent</td>\n",
       "      <td>6</td>\n",
       "      <td>gas</td>\n",
       "      <td>43000.0</td>\n",
       "      <td>clean</td>\n",
       "      <td>automatic</td>\n",
       "      <td>4wd</td>\n",
       "      <td>truck</td>\n",
       "      <td>south</td>\n",
       "    </tr>\n",
       "    <tr>\n",
       "      <th>4</th>\n",
       "      <td>29990</td>\n",
       "      <td>2016-01-01</td>\n",
       "      <td>chevrolet</td>\n",
       "      <td>good</td>\n",
       "      <td>6</td>\n",
       "      <td>gas</td>\n",
       "      <td>17302.0</td>\n",
       "      <td>clean</td>\n",
       "      <td>other</td>\n",
       "      <td>4wd</td>\n",
       "      <td>pickup</td>\n",
       "      <td>south</td>\n",
       "    </tr>\n",
       "  </tbody>\n",
       "</table>\n",
       "</div>"
      ],
      "text/plain": [
       "   price        year manufacturer  condition  cylinders fuel  odometer  \\\n",
       "0  15000  2013-01-01         ford  excellent          6  gas  128000.0   \n",
       "1  27990  2012-01-01          gmc       good          8  gas   68696.0   \n",
       "2  34590  2016-01-01    chevrolet       good          6  gas   29499.0   \n",
       "3  35000  2019-01-01       toyota  excellent          6  gas   43000.0   \n",
       "4  29990  2016-01-01    chevrolet       good          6  gas   17302.0   \n",
       "\n",
       "  title_status transmission drive    type   area  \n",
       "0        clean    automatic   rwd   truck  south  \n",
       "1        clean        other   4wd  pickup  south  \n",
       "2        clean        other   4wd  pickup  south  \n",
       "3        clean    automatic   4wd   truck  south  \n",
       "4        clean        other   4wd  pickup  south  "
      ]
     },
     "execution_count": 5,
     "metadata": {},
     "output_type": "execute_result"
    }
   ],
   "source": [
    "df_1.head()"
   ]
  },
  {
   "cell_type": "code",
   "execution_count": 6,
   "id": "354fd0de",
   "metadata": {},
   "outputs": [
    {
     "name": "stdout",
     "output_type": "stream",
     "text": [
      "<class 'pandas.core.frame.DataFrame'>\n",
      "RangeIndex: 103577 entries, 0 to 103576\n",
      "Data columns (total 12 columns):\n",
      " #   Column        Non-Null Count   Dtype  \n",
      "---  ------        --------------   -----  \n",
      " 0   price         103577 non-null  int64  \n",
      " 1   year          103577 non-null  object \n",
      " 2   manufacturer  103577 non-null  object \n",
      " 3   condition     103577 non-null  object \n",
      " 4   cylinders     103577 non-null  int64  \n",
      " 5   fuel          103577 non-null  object \n",
      " 6   odometer      103577 non-null  float64\n",
      " 7   title_status  103577 non-null  object \n",
      " 8   transmission  103577 non-null  object \n",
      " 9   drive         103577 non-null  object \n",
      " 10  type          103577 non-null  object \n",
      " 11  area          103577 non-null  object \n",
      "dtypes: float64(1), int64(2), object(9)\n",
      "memory usage: 9.5+ MB\n"
     ]
    }
   ],
   "source": [
    "df_1.info()"
   ]
  },
  {
   "cell_type": "markdown",
   "id": "5b877de8",
   "metadata": {},
   "source": [
    "### Data Transformation"
   ]
  },
  {
   "cell_type": "code",
   "execution_count": 7,
   "id": "44a6af6e",
   "metadata": {},
   "outputs": [],
   "source": [
    "# perform data transformation for Linear Regression Model\n",
    "for col in df_1.columns[1:]:\n",
    "    attName = col\n",
    "    dType = df_1[col].dtype\n",
    "    missing = pd.isnull(df_1[col]).any()\n",
    "    uniqueCount = len(df_1[attName].value_counts(normalize=False))\n",
    "# discretize (create dummies)\n",
    "    if dType == object:\n",
    "        df_1 = pd.concat([df_1, pd.get_dummies(df_1[col], prefix=col)], axis=1)\n",
    "        del df_1[attName]"
   ]
  },
  {
   "cell_type": "code",
   "execution_count": 8,
   "id": "02b24e58",
   "metadata": {},
   "outputs": [
    {
     "data": {
      "text/html": [
       "<div>\n",
       "<style scoped>\n",
       "    .dataframe tbody tr th:only-of-type {\n",
       "        vertical-align: middle;\n",
       "    }\n",
       "\n",
       "    .dataframe tbody tr th {\n",
       "        vertical-align: top;\n",
       "    }\n",
       "\n",
       "    .dataframe thead th {\n",
       "        text-align: right;\n",
       "    }\n",
       "</style>\n",
       "<table border=\"1\" class=\"dataframe\">\n",
       "  <thead>\n",
       "    <tr style=\"text-align: right;\">\n",
       "      <th></th>\n",
       "      <th>price</th>\n",
       "      <th>cylinders</th>\n",
       "      <th>odometer</th>\n",
       "      <th>year_2001-01-01</th>\n",
       "      <th>year_2002-01-01</th>\n",
       "      <th>year_2003-01-01</th>\n",
       "      <th>year_2004-01-01</th>\n",
       "      <th>year_2005-01-01</th>\n",
       "      <th>year_2006-01-01</th>\n",
       "      <th>year_2007-01-01</th>\n",
       "      <th>...</th>\n",
       "      <th>type_other</th>\n",
       "      <th>type_pickup</th>\n",
       "      <th>type_sedan</th>\n",
       "      <th>type_truck</th>\n",
       "      <th>type_van</th>\n",
       "      <th>type_wagon</th>\n",
       "      <th>area_mw</th>\n",
       "      <th>area_ne</th>\n",
       "      <th>area_south</th>\n",
       "      <th>area_west</th>\n",
       "    </tr>\n",
       "  </thead>\n",
       "  <tbody>\n",
       "    <tr>\n",
       "      <th>0</th>\n",
       "      <td>15000</td>\n",
       "      <td>6</td>\n",
       "      <td>128000.0</td>\n",
       "      <td>0</td>\n",
       "      <td>0</td>\n",
       "      <td>0</td>\n",
       "      <td>0</td>\n",
       "      <td>0</td>\n",
       "      <td>0</td>\n",
       "      <td>0</td>\n",
       "      <td>...</td>\n",
       "      <td>0</td>\n",
       "      <td>0</td>\n",
       "      <td>0</td>\n",
       "      <td>1</td>\n",
       "      <td>0</td>\n",
       "      <td>0</td>\n",
       "      <td>0</td>\n",
       "      <td>0</td>\n",
       "      <td>1</td>\n",
       "      <td>0</td>\n",
       "    </tr>\n",
       "    <tr>\n",
       "      <th>1</th>\n",
       "      <td>27990</td>\n",
       "      <td>8</td>\n",
       "      <td>68696.0</td>\n",
       "      <td>0</td>\n",
       "      <td>0</td>\n",
       "      <td>0</td>\n",
       "      <td>0</td>\n",
       "      <td>0</td>\n",
       "      <td>0</td>\n",
       "      <td>0</td>\n",
       "      <td>...</td>\n",
       "      <td>0</td>\n",
       "      <td>1</td>\n",
       "      <td>0</td>\n",
       "      <td>0</td>\n",
       "      <td>0</td>\n",
       "      <td>0</td>\n",
       "      <td>0</td>\n",
       "      <td>0</td>\n",
       "      <td>1</td>\n",
       "      <td>0</td>\n",
       "    </tr>\n",
       "    <tr>\n",
       "      <th>2</th>\n",
       "      <td>34590</td>\n",
       "      <td>6</td>\n",
       "      <td>29499.0</td>\n",
       "      <td>0</td>\n",
       "      <td>0</td>\n",
       "      <td>0</td>\n",
       "      <td>0</td>\n",
       "      <td>0</td>\n",
       "      <td>0</td>\n",
       "      <td>0</td>\n",
       "      <td>...</td>\n",
       "      <td>0</td>\n",
       "      <td>1</td>\n",
       "      <td>0</td>\n",
       "      <td>0</td>\n",
       "      <td>0</td>\n",
       "      <td>0</td>\n",
       "      <td>0</td>\n",
       "      <td>0</td>\n",
       "      <td>1</td>\n",
       "      <td>0</td>\n",
       "    </tr>\n",
       "    <tr>\n",
       "      <th>3</th>\n",
       "      <td>35000</td>\n",
       "      <td>6</td>\n",
       "      <td>43000.0</td>\n",
       "      <td>0</td>\n",
       "      <td>0</td>\n",
       "      <td>0</td>\n",
       "      <td>0</td>\n",
       "      <td>0</td>\n",
       "      <td>0</td>\n",
       "      <td>0</td>\n",
       "      <td>...</td>\n",
       "      <td>0</td>\n",
       "      <td>0</td>\n",
       "      <td>0</td>\n",
       "      <td>1</td>\n",
       "      <td>0</td>\n",
       "      <td>0</td>\n",
       "      <td>0</td>\n",
       "      <td>0</td>\n",
       "      <td>1</td>\n",
       "      <td>0</td>\n",
       "    </tr>\n",
       "    <tr>\n",
       "      <th>4</th>\n",
       "      <td>29990</td>\n",
       "      <td>6</td>\n",
       "      <td>17302.0</td>\n",
       "      <td>0</td>\n",
       "      <td>0</td>\n",
       "      <td>0</td>\n",
       "      <td>0</td>\n",
       "      <td>0</td>\n",
       "      <td>0</td>\n",
       "      <td>0</td>\n",
       "      <td>...</td>\n",
       "      <td>0</td>\n",
       "      <td>1</td>\n",
       "      <td>0</td>\n",
       "      <td>0</td>\n",
       "      <td>0</td>\n",
       "      <td>0</td>\n",
       "      <td>0</td>\n",
       "      <td>0</td>\n",
       "      <td>1</td>\n",
       "      <td>0</td>\n",
       "    </tr>\n",
       "  </tbody>\n",
       "</table>\n",
       "<p>5 rows × 103 columns</p>\n",
       "</div>"
      ],
      "text/plain": [
       "   price  cylinders  odometer  year_2001-01-01  year_2002-01-01  \\\n",
       "0  15000          6  128000.0                0                0   \n",
       "1  27990          8   68696.0                0                0   \n",
       "2  34590          6   29499.0                0                0   \n",
       "3  35000          6   43000.0                0                0   \n",
       "4  29990          6   17302.0                0                0   \n",
       "\n",
       "   year_2003-01-01  year_2004-01-01  year_2005-01-01  year_2006-01-01  \\\n",
       "0                0                0                0                0   \n",
       "1                0                0                0                0   \n",
       "2                0                0                0                0   \n",
       "3                0                0                0                0   \n",
       "4                0                0                0                0   \n",
       "\n",
       "   year_2007-01-01  ...  type_other  type_pickup  type_sedan  type_truck  \\\n",
       "0                0  ...           0            0           0           1   \n",
       "1                0  ...           0            1           0           0   \n",
       "2                0  ...           0            1           0           0   \n",
       "3                0  ...           0            0           0           1   \n",
       "4                0  ...           0            1           0           0   \n",
       "\n",
       "   type_van  type_wagon  area_mw  area_ne  area_south  area_west  \n",
       "0         0           0        0        0           1          0  \n",
       "1         0           0        0        0           1          0  \n",
       "2         0           0        0        0           1          0  \n",
       "3         0           0        0        0           1          0  \n",
       "4         0           0        0        0           1          0  \n",
       "\n",
       "[5 rows x 103 columns]"
      ]
     },
     "execution_count": 8,
     "metadata": {},
     "output_type": "execute_result"
    }
   ],
   "source": [
    "df_1.head()"
   ]
  },
  {
   "cell_type": "markdown",
   "id": "69cf5a92",
   "metadata": {},
   "source": [
    "### Split Training and Testing Data"
   ]
  },
  {
   "cell_type": "code",
   "execution_count": 9,
   "id": "cdc8491f",
   "metadata": {},
   "outputs": [],
   "source": [
    "# Create features and target\n",
    "X = df_1.copy().drop('price', axis=1)\n",
    "X=pd.get_dummies(X)\n",
    "\n",
    "# Create our target\n",
    "y = df_1['price']"
   ]
  },
  {
   "cell_type": "code",
   "execution_count": 10,
   "id": "ba4947a7",
   "metadata": {},
   "outputs": [],
   "source": [
    "# Create training and testing datasets\n",
    "X_train, X_test, y_train, y_test = train_test_split(X,y,test_size= 0.2, random_state=1)"
   ]
  },
  {
   "cell_type": "markdown",
   "id": "c4918fd9",
   "metadata": {},
   "source": [
    "# DecisionTreeRegressor"
   ]
  },
  {
   "cell_type": "markdown",
   "id": "699a03b1",
   "metadata": {},
   "source": [
    "### Loading Model"
   ]
  },
  {
   "cell_type": "code",
   "execution_count": 11,
   "id": "7c736fbb",
   "metadata": {},
   "outputs": [],
   "source": [
    "# Create a machine learning model\n",
    "regr = DecisionTreeRegressor()"
   ]
  },
  {
   "cell_type": "code",
   "execution_count": 12,
   "id": "fb9e249a",
   "metadata": {},
   "outputs": [],
   "source": [
    "# Make an object pipe to create pipeline for regr\n",
    "pipe = Pipeline(steps=[('regr',regr)])"
   ]
  },
  {
   "cell_type": "code",
   "execution_count": 13,
   "id": "e60fe981",
   "metadata": {},
   "outputs": [],
   "source": [
    "# Set parameters as value list from which GridSearchCV will select best value\n",
    "max_depth = [1,2,3,4,5,6,7,8,9,10,11,12,13,14,15]"
   ]
  },
  {
   "cell_type": "code",
   "execution_count": 14,
   "id": "4529a330",
   "metadata": {},
   "outputs": [],
   "source": [
    "# Create dictionary to set parameters\n",
    "parameters = dict(regr__max_depth=max_depth)"
   ]
  },
  {
   "cell_type": "code",
   "execution_count": 15,
   "id": "c567016a",
   "metadata": {},
   "outputs": [
    {
     "data": {
      "text/plain": [
       "GridSearchCV(estimator=Pipeline(steps=[('regr', DecisionTreeRegressor())]),\n",
       "             param_grid={'regr__max_depth': [1, 2, 3, 4, 5, 6, 7, 8, 9, 10, 11,\n",
       "                                             12, 13, 14, 15]})"
      ]
     },
     "execution_count": 15,
     "metadata": {},
     "output_type": "execute_result"
    }
   ],
   "source": [
    "# Create GridSearchCV object and fot dataset i.e., X and y\n",
    "pred = GridSearchCV(pipe, parameters)\n",
    "pred.fit(X, y)"
   ]
  },
  {
   "cell_type": "markdown",
   "id": "f9f8010a",
   "metadata": {},
   "source": [
    "In a Jupyter environment, please rerun this cell to show the HTML representation or trust the notebook.\n",
    "On GitHub, the HTML representation is unable to render, please try loading this page with nbviewer.org."
   ]
  },
  {
   "cell_type": "code",
   "execution_count": 16,
   "id": "dc7121c4",
   "metadata": {},
   "outputs": [
    {
     "name": "stdout",
     "output_type": "stream",
     "text": [
      "\n",
      "DecisionTreeRegressor(max_depth=15)\n"
     ]
    }
   ],
   "source": [
    "# Print result\n",
    "print(); print(pred.best_estimator_.get_params()['regr'])"
   ]
  },
  {
   "cell_type": "markdown",
   "id": "c67f1aa8",
   "metadata": {},
   "source": [
    "### Prediction on Testing Data"
   ]
  },
  {
   "cell_type": "code",
   "execution_count": 17,
   "id": "921584ad",
   "metadata": {},
   "outputs": [],
   "source": [
    "# Make prediction\n",
    "best_regr = DecisionTreeRegressor(max_depth=11)\n",
    "best_regr.fit(X_train, y_train)\n",
    "y_pred_11 = best_regr.predict(X_test)"
   ]
  },
  {
   "cell_type": "code",
   "execution_count": 18,
   "id": "cd1834b4",
   "metadata": {},
   "outputs": [
    {
     "data": {
      "image/png": "[encoded data removed]",
      "text/plain": [
       "<Figure size 432x288 with 1 Axes>"
      ]
     },
     "metadata": {
      "needs_background": "light"
     },
     "output_type": "display_data"
    }
   ],
   "source": [
    "# Visual for testing data\n",
    "plt.scatter(y_test,y_pred_11)\n",
    "plt.xlabel(\"Actual Price\")\n",
    "plt.ylabel(\" Predicted Price\")\n",
    "plt.title(\" Actual Prices vs Predicted Prices\")\n",
    "plt.show()"
   ]
  },
  {
   "cell_type": "code",
   "execution_count": 19,
   "id": "aafa8a39",
   "metadata": {},
   "outputs": [
    {
     "data": {
      "text/html": [
       "<div>\n",
       "<style scoped>\n",
       "    .dataframe tbody tr th:only-of-type {\n",
       "        vertical-align: middle;\n",
       "    }\n",
       "\n",
       "    .dataframe tbody tr th {\n",
       "        vertical-align: top;\n",
       "    }\n",
       "\n",
       "    .dataframe thead th {\n",
       "        text-align: right;\n",
       "    }\n",
       "</style>\n",
       "<table border=\"1\" class=\"dataframe\">\n",
       "  <thead>\n",
       "    <tr style=\"text-align: right;\">\n",
       "      <th></th>\n",
       "      <th>price</th>\n",
       "      <th>prediction</th>\n",
       "    </tr>\n",
       "  </thead>\n",
       "  <tbody>\n",
       "    <tr>\n",
       "      <th>26715</th>\n",
       "      <td>6700</td>\n",
       "      <td>13683.33</td>\n",
       "    </tr>\n",
       "    <tr>\n",
       "      <th>64705</th>\n",
       "      <td>7400</td>\n",
       "      <td>8601.04</td>\n",
       "    </tr>\n",
       "    <tr>\n",
       "      <th>100052</th>\n",
       "      <td>39990</td>\n",
       "      <td>38758.13</td>\n",
       "    </tr>\n",
       "    <tr>\n",
       "      <th>31942</th>\n",
       "      <td>14500</td>\n",
       "      <td>20285.89</td>\n",
       "    </tr>\n",
       "    <tr>\n",
       "      <th>58440</th>\n",
       "      <td>6900</td>\n",
       "      <td>6105.99</td>\n",
       "    </tr>\n",
       "    <tr>\n",
       "      <th>...</th>\n",
       "      <td>...</td>\n",
       "      <td>...</td>\n",
       "    </tr>\n",
       "    <tr>\n",
       "      <th>63710</th>\n",
       "      <td>9983</td>\n",
       "      <td>9661.59</td>\n",
       "    </tr>\n",
       "    <tr>\n",
       "      <th>65996</th>\n",
       "      <td>21500</td>\n",
       "      <td>22316.38</td>\n",
       "    </tr>\n",
       "    <tr>\n",
       "      <th>66959</th>\n",
       "      <td>488</td>\n",
       "      <td>12711.44</td>\n",
       "    </tr>\n",
       "    <tr>\n",
       "      <th>6086</th>\n",
       "      <td>10450</td>\n",
       "      <td>8726.17</td>\n",
       "    </tr>\n",
       "    <tr>\n",
       "      <th>19854</th>\n",
       "      <td>31990</td>\n",
       "      <td>27946.48</td>\n",
       "    </tr>\n",
       "  </tbody>\n",
       "</table>\n",
       "<p>20716 rows × 2 columns</p>\n",
       "</div>"
      ],
      "text/plain": [
       "        price  prediction\n",
       "26715    6700    13683.33\n",
       "64705    7400     8601.04\n",
       "100052  39990    38758.13\n",
       "31942   14500    20285.89\n",
       "58440    6900     6105.99\n",
       "...       ...         ...\n",
       "63710    9983     9661.59\n",
       "65996   21500    22316.38\n",
       "66959     488    12711.44\n",
       "6086    10450     8726.17\n",
       "19854   31990    27946.48\n",
       "\n",
       "[20716 rows x 2 columns]"
      ]
     },
     "execution_count": 19,
     "metadata": {},
     "output_type": "execute_result"
    }
   ],
   "source": [
    "# Result of prediction\n",
    "data = {'price': y_test,\n",
    "       'prediction': y_pred_11}\n",
    "df_pred = pd.DataFrame(data).round(2)\n",
    "df_pred"
   ]
  },
  {
   "cell_type": "markdown",
   "id": "8b758be0",
   "metadata": {},
   "source": [
    "### Prediction On Training  Data"
   ]
  },
  {
   "cell_type": "code",
   "execution_count": 20,
   "id": "2c05306c",
   "metadata": {},
   "outputs": [],
   "source": [
    "# Make prediction training \n",
    "best_regr = DecisionTreeRegressor(max_depth=11)\n",
    "best_regr.fit(X_train, y_train)\n",
    "y_train_pred_11 = best_regr.predict(X_train)"
   ]
  },
  {
   "cell_type": "code",
   "execution_count": 21,
   "id": "5ed9e1cf",
   "metadata": {},
   "outputs": [
    {
     "data": {
      "image/png": "[encoded data removed]",
      "text/plain": [
       "<Figure size 432x288 with 1 Axes>"
      ]
     },
     "metadata": {
      "needs_background": "light"
     },
     "output_type": "display_data"
    }
   ],
   "source": [
    "# Visual for training data\n",
    "plt.scatter(y_train,y_train_pred_11)\n",
    "plt.xlabel(\"Actual Price\")\n",
    "plt.ylabel(\" Predicted Price\")\n",
    "plt.title(\" Actual Prices vs Predicted Prices\")\n",
    "plt.show()"
   ]
  },
  {
   "cell_type": "code",
   "execution_count": 22,
   "id": "7e4f9815",
   "metadata": {},
   "outputs": [
    {
     "data": {
      "text/html": [
       "<div>\n",
       "<style scoped>\n",
       "    .dataframe tbody tr th:only-of-type {\n",
       "        vertical-align: middle;\n",
       "    }\n",
       "\n",
       "    .dataframe tbody tr th {\n",
       "        vertical-align: top;\n",
       "    }\n",
       "\n",
       "    .dataframe thead th {\n",
       "        text-align: right;\n",
       "    }\n",
       "</style>\n",
       "<table border=\"1\" class=\"dataframe\">\n",
       "  <thead>\n",
       "    <tr style=\"text-align: right;\">\n",
       "      <th></th>\n",
       "      <th>price</th>\n",
       "      <th>prediction</th>\n",
       "    </tr>\n",
       "  </thead>\n",
       "  <tbody>\n",
       "    <tr>\n",
       "      <th>95264</th>\n",
       "      <td>19995</td>\n",
       "      <td>22797.97</td>\n",
       "    </tr>\n",
       "    <tr>\n",
       "      <th>35690</th>\n",
       "      <td>34590</td>\n",
       "      <td>34117.80</td>\n",
       "    </tr>\n",
       "    <tr>\n",
       "      <th>1098</th>\n",
       "      <td>25990</td>\n",
       "      <td>28516.49</td>\n",
       "    </tr>\n",
       "    <tr>\n",
       "      <th>74694</th>\n",
       "      <td>28900</td>\n",
       "      <td>22000.15</td>\n",
       "    </tr>\n",
       "    <tr>\n",
       "      <th>28188</th>\n",
       "      <td>34590</td>\n",
       "      <td>35056.23</td>\n",
       "    </tr>\n",
       "    <tr>\n",
       "      <th>...</th>\n",
       "      <td>...</td>\n",
       "      <td>...</td>\n",
       "    </tr>\n",
       "    <tr>\n",
       "      <th>50057</th>\n",
       "      <td>4495</td>\n",
       "      <td>6555.13</td>\n",
       "    </tr>\n",
       "    <tr>\n",
       "      <th>98047</th>\n",
       "      <td>41990</td>\n",
       "      <td>38758.13</td>\n",
       "    </tr>\n",
       "    <tr>\n",
       "      <th>5192</th>\n",
       "      <td>11995</td>\n",
       "      <td>8404.08</td>\n",
       "    </tr>\n",
       "    <tr>\n",
       "      <th>77708</th>\n",
       "      <td>7499</td>\n",
       "      <td>6555.13</td>\n",
       "    </tr>\n",
       "    <tr>\n",
       "      <th>98539</th>\n",
       "      <td>3000</td>\n",
       "      <td>10263.81</td>\n",
       "    </tr>\n",
       "  </tbody>\n",
       "</table>\n",
       "<p>82861 rows × 2 columns</p>\n",
       "</div>"
      ],
      "text/plain": [
       "       price  prediction\n",
       "95264  19995    22797.97\n",
       "35690  34590    34117.80\n",
       "1098   25990    28516.49\n",
       "74694  28900    22000.15\n",
       "28188  34590    35056.23\n",
       "...      ...         ...\n",
       "50057   4495     6555.13\n",
       "98047  41990    38758.13\n",
       "5192   11995     8404.08\n",
       "77708   7499     6555.13\n",
       "98539   3000    10263.81\n",
       "\n",
       "[82861 rows x 2 columns]"
      ]
     },
     "execution_count": 22,
     "metadata": {},
     "output_type": "execute_result"
    }
   ],
   "source": [
    "# Result of prediction on training data\n",
    "data = {'price': y_train,\n",
    "       'prediction': y_train_pred_11}\n",
    "df_pred = pd.DataFrame(data).round(2)\n",
    "df_pred"
   ]
  },
  {
   "cell_type": "markdown",
   "id": "80dae883",
   "metadata": {},
   "source": [
    "### DecisionTreeRegressor Model Evaluation: Max Depth 11"
   ]
  },
  {
   "cell_type": "code",
   "execution_count": 23,
   "id": "fb5a0fb1",
   "metadata": {},
   "outputs": [
    {
     "name": "stdout",
     "output_type": "stream",
     "text": [
      "R^2 train: 0.800, test: 0.773\n"
     ]
    }
   ],
   "source": [
    "# r2 evaluation\n",
    "print('R^2 train: %.3f, test: %.3f' % (r2_score(y_train, y_train_pred_11),\n",
    "                r2_score(y_test, y_pred_11)))"
   ]
  },
  {
   "cell_type": "markdown",
   "id": "151fa7ee",
   "metadata": {},
   "source": [
    "### Test with max depth 10\n",
    "### Prediction on testing data"
   ]
  },
  {
   "cell_type": "code",
   "execution_count": 24,
   "id": "3f6050ff",
   "metadata": {},
   "outputs": [],
   "source": [
    "# Test with max_depth 10\n",
    "best_regr10 = DecisionTreeRegressor(max_depth=10)\n",
    "best_regr.fit(X_train, y_train)\n",
    "y_pred_10 = best_regr.predict(X_test)"
   ]
  },
  {
   "cell_type": "code",
   "execution_count": 25,
   "id": "78fd0251",
   "metadata": {},
   "outputs": [
    {
     "data": {
      "image/png": "[encoded data removed]",
      "text/plain": [
       "<Figure size 432x288 with 1 Axes>"
      ]
     },
     "metadata": {
      "needs_background": "light"
     },
     "output_type": "display_data"
    }
   ],
   "source": [
    "plt.scatter(y_test,y_pred_10)\n",
    "plt.xlabel(\"Actual Price\")\n",
    "plt.ylabel(\" Predicted Price\")\n",
    "plt.title(\" Actual Prices vs Predicted Prices\")\n",
    "plt.show()"
   ]
  },
  {
   "cell_type": "code",
   "execution_count": 26,
   "id": "b99be3cb",
   "metadata": {},
   "outputs": [
    {
     "data": {
      "text/html": [
       "<div>\n",
       "<style scoped>\n",
       "    .dataframe tbody tr th:only-of-type {\n",
       "        vertical-align: middle;\n",
       "    }\n",
       "\n",
       "    .dataframe tbody tr th {\n",
       "        vertical-align: top;\n",
       "    }\n",
       "\n",
       "    .dataframe thead th {\n",
       "        text-align: right;\n",
       "    }\n",
       "</style>\n",
       "<table border=\"1\" class=\"dataframe\">\n",
       "  <thead>\n",
       "    <tr style=\"text-align: right;\">\n",
       "      <th></th>\n",
       "      <th>price</th>\n",
       "      <th>prediction</th>\n",
       "    </tr>\n",
       "  </thead>\n",
       "  <tbody>\n",
       "    <tr>\n",
       "      <th>26715</th>\n",
       "      <td>6700</td>\n",
       "      <td>13683.33</td>\n",
       "    </tr>\n",
       "    <tr>\n",
       "      <th>64705</th>\n",
       "      <td>7400</td>\n",
       "      <td>8601.04</td>\n",
       "    </tr>\n",
       "    <tr>\n",
       "      <th>100052</th>\n",
       "      <td>39990</td>\n",
       "      <td>38758.13</td>\n",
       "    </tr>\n",
       "    <tr>\n",
       "      <th>31942</th>\n",
       "      <td>14500</td>\n",
       "      <td>20285.89</td>\n",
       "    </tr>\n",
       "    <tr>\n",
       "      <th>58440</th>\n",
       "      <td>6900</td>\n",
       "      <td>6105.99</td>\n",
       "    </tr>\n",
       "    <tr>\n",
       "      <th>...</th>\n",
       "      <td>...</td>\n",
       "      <td>...</td>\n",
       "    </tr>\n",
       "    <tr>\n",
       "      <th>63710</th>\n",
       "      <td>9983</td>\n",
       "      <td>9661.59</td>\n",
       "    </tr>\n",
       "    <tr>\n",
       "      <th>65996</th>\n",
       "      <td>21500</td>\n",
       "      <td>22316.38</td>\n",
       "    </tr>\n",
       "    <tr>\n",
       "      <th>66959</th>\n",
       "      <td>488</td>\n",
       "      <td>12711.44</td>\n",
       "    </tr>\n",
       "    <tr>\n",
       "      <th>6086</th>\n",
       "      <td>10450</td>\n",
       "      <td>8726.17</td>\n",
       "    </tr>\n",
       "    <tr>\n",
       "      <th>19854</th>\n",
       "      <td>31990</td>\n",
       "      <td>27946.48</td>\n",
       "    </tr>\n",
       "  </tbody>\n",
       "</table>\n",
       "<p>20716 rows × 2 columns</p>\n",
       "</div>"
      ],
      "text/plain": [
       "        price  prediction\n",
       "26715    6700    13683.33\n",
       "64705    7400     8601.04\n",
       "100052  39990    38758.13\n",
       "31942   14500    20285.89\n",
       "58440    6900     6105.99\n",
       "...       ...         ...\n",
       "63710    9983     9661.59\n",
       "65996   21500    22316.38\n",
       "66959     488    12711.44\n",
       "6086    10450     8726.17\n",
       "19854   31990    27946.48\n",
       "\n",
       "[20716 rows x 2 columns]"
      ]
     },
     "execution_count": 26,
     "metadata": {},
     "output_type": "execute_result"
    }
   ],
   "source": [
    "# Result of prediction on testing data\n",
    "data = {'price': y_test,\n",
    "       'prediction': y_pred_10}\n",
    "df_pred = pd.DataFrame(data).round(2)\n",
    "df_pred"
   ]
  },
  {
   "cell_type": "markdown",
   "id": "70a6922d",
   "metadata": {},
   "source": [
    "### Prediction on training data"
   ]
  },
  {
   "cell_type": "code",
   "execution_count": 27,
   "id": "aa72f029",
   "metadata": {},
   "outputs": [],
   "source": [
    "# Test with max_depth 10 training data\n",
    "best_regr10 = DecisionTreeRegressor(max_depth=10)\n",
    "best_regr.fit(X_train, y_train)\n",
    "y_train_pred_10 = best_regr.predict(X_train)"
   ]
  },
  {
   "cell_type": "code",
   "execution_count": 28,
   "id": "d8ff179e",
   "metadata": {},
   "outputs": [
    {
     "data": {
      "image/png": "[encoded data removed]",
      "text/plain": [
       "<Figure size 432x288 with 1 Axes>"
      ]
     },
     "metadata": {
      "needs_background": "light"
     },
     "output_type": "display_data"
    }
   ],
   "source": [
    "# Visual for training data\n",
    "plt.scatter(y_train,y_train_pred_10)\n",
    "plt.xlabel(\"Actual Price\")\n",
    "plt.ylabel(\" Predicted Price\")\n",
    "plt.title(\" Actual Prices vs Predicted Prices\")\n",
    "plt.show()"
   ]
  },
  {
   "cell_type": "code",
   "execution_count": 29,
   "id": "c5ebb7b0",
   "metadata": {},
   "outputs": [
    {
     "data": {
      "text/html": [
       "<div>\n",
       "<style scoped>\n",
       "    .dataframe tbody tr th:only-of-type {\n",
       "        vertical-align: middle;\n",
       "    }\n",
       "\n",
       "    .dataframe tbody tr th {\n",
       "        vertical-align: top;\n",
       "    }\n",
       "\n",
       "    .dataframe thead th {\n",
       "        text-align: right;\n",
       "    }\n",
       "</style>\n",
       "<table border=\"1\" class=\"dataframe\">\n",
       "  <thead>\n",
       "    <tr style=\"text-align: right;\">\n",
       "      <th></th>\n",
       "      <th>price</th>\n",
       "      <th>prediction</th>\n",
       "    </tr>\n",
       "  </thead>\n",
       "  <tbody>\n",
       "    <tr>\n",
       "      <th>95264</th>\n",
       "      <td>19995</td>\n",
       "      <td>22797.97</td>\n",
       "    </tr>\n",
       "    <tr>\n",
       "      <th>35690</th>\n",
       "      <td>34590</td>\n",
       "      <td>34117.80</td>\n",
       "    </tr>\n",
       "    <tr>\n",
       "      <th>1098</th>\n",
       "      <td>25990</td>\n",
       "      <td>28516.49</td>\n",
       "    </tr>\n",
       "    <tr>\n",
       "      <th>74694</th>\n",
       "      <td>28900</td>\n",
       "      <td>22000.15</td>\n",
       "    </tr>\n",
       "    <tr>\n",
       "      <th>28188</th>\n",
       "      <td>34590</td>\n",
       "      <td>35056.23</td>\n",
       "    </tr>\n",
       "    <tr>\n",
       "      <th>...</th>\n",
       "      <td>...</td>\n",
       "      <td>...</td>\n",
       "    </tr>\n",
       "    <tr>\n",
       "      <th>50057</th>\n",
       "      <td>4495</td>\n",
       "      <td>6555.13</td>\n",
       "    </tr>\n",
       "    <tr>\n",
       "      <th>98047</th>\n",
       "      <td>41990</td>\n",
       "      <td>38758.13</td>\n",
       "    </tr>\n",
       "    <tr>\n",
       "      <th>5192</th>\n",
       "      <td>11995</td>\n",
       "      <td>8404.08</td>\n",
       "    </tr>\n",
       "    <tr>\n",
       "      <th>77708</th>\n",
       "      <td>7499</td>\n",
       "      <td>6555.13</td>\n",
       "    </tr>\n",
       "    <tr>\n",
       "      <th>98539</th>\n",
       "      <td>3000</td>\n",
       "      <td>10263.81</td>\n",
       "    </tr>\n",
       "  </tbody>\n",
       "</table>\n",
       "<p>82861 rows × 2 columns</p>\n",
       "</div>"
      ],
      "text/plain": [
       "       price  prediction\n",
       "95264  19995    22797.97\n",
       "35690  34590    34117.80\n",
       "1098   25990    28516.49\n",
       "74694  28900    22000.15\n",
       "28188  34590    35056.23\n",
       "...      ...         ...\n",
       "50057   4495     6555.13\n",
       "98047  41990    38758.13\n",
       "5192   11995     8404.08\n",
       "77708   7499     6555.13\n",
       "98539   3000    10263.81\n",
       "\n",
       "[82861 rows x 2 columns]"
      ]
     },
     "execution_count": 29,
     "metadata": {},
     "output_type": "execute_result"
    }
   ],
   "source": [
    "# Result of prediction on traing data\n",
    "data = {'price': y_train,\n",
    "       'prediction': y_train_pred_11}\n",
    "df_pred = pd.DataFrame(data).round(2)\n",
    "df_pred"
   ]
  },
  {
   "cell_type": "markdown",
   "id": "86e21fff",
   "metadata": {},
   "source": [
    "### DecisionTreeRegressor Model Evaluation: Max Depth 10"
   ]
  },
  {
   "cell_type": "code",
   "execution_count": 30,
   "id": "a08312c4",
   "metadata": {},
   "outputs": [
    {
     "name": "stdout",
     "output_type": "stream",
     "text": [
      "R^2 train: 0.800, test: 0.773\n"
     ]
    }
   ],
   "source": [
    "# r2\n",
    "print('R^2 train: %.3f, test: %.3f' % (r2_score(y_train, y_train_pred_10),\n",
    "                r2_score(y_test, y_pred_10)))"
   ]
  },
  {
   "cell_type": "markdown",
   "id": "4054af4a",
   "metadata": {},
   "source": [
    "# Linear Regression Model"
   ]
  },
  {
   "cell_type": "markdown",
   "id": "6b69a228",
   "metadata": {},
   "source": [
    "### Loading Model"
   ]
  },
  {
   "cell_type": "code",
   "execution_count": 31,
   "id": "9980315e",
   "metadata": {},
   "outputs": [],
   "source": [
    "# Loadinf the Linear Regression model\n",
    "lin_reg_model = LinearRegression()"
   ]
  },
  {
   "cell_type": "markdown",
   "id": "bcb399fb",
   "metadata": {},
   "source": [
    "### Fitting Data"
   ]
  },
  {
   "cell_type": "code",
   "execution_count": 32,
   "id": "a28a3da8",
   "metadata": {},
   "outputs": [
    {
     "data": {
      "text/plain": [
       "LinearRegression()"
      ]
     },
     "execution_count": 32,
     "metadata": {},
     "output_type": "execute_result"
    }
   ],
   "source": [
    "#fitting data to the linear Regression model\n",
    "lin_reg_model.fit(X_train, y_train)"
   ]
  },
  {
   "cell_type": "markdown",
   "id": "8bda9119",
   "metadata": {},
   "source": [
    "### Prediction on testing data"
   ]
  },
  {
   "cell_type": "code",
   "execution_count": 33,
   "id": "4638721d",
   "metadata": {},
   "outputs": [],
   "source": [
    "# prediction on Testing data\n",
    "y_test_pred = lin_reg_model.predict(X_test)"
   ]
  },
  {
   "cell_type": "code",
   "execution_count": 34,
   "id": "a9bd24c1",
   "metadata": {},
   "outputs": [
    {
     "data": {
      "image/png": "[encoded data removed]",
      "text/plain": [
       "<Figure size 432x288 with 1 Axes>"
      ]
     },
     "metadata": {
      "needs_background": "light"
     },
     "output_type": "display_data"
    }
   ],
   "source": [
    "# Visual for testing data\n",
    "plt.scatter(y_test,y_test_pred)\n",
    "plt.xlabel(\"Actual Price\")\n",
    "plt.ylabel(\" Predicted Price\")\n",
    "plt.title(\" Actual Prices vs Predicted Prices\")\n",
    "plt.show()"
   ]
  },
  {
   "cell_type": "code",
   "execution_count": 35,
   "id": "31c4a312",
   "metadata": {},
   "outputs": [
    {
     "data": {
      "text/html": [
       "<div>\n",
       "<style scoped>\n",
       "    .dataframe tbody tr th:only-of-type {\n",
       "        vertical-align: middle;\n",
       "    }\n",
       "\n",
       "    .dataframe tbody tr th {\n",
       "        vertical-align: top;\n",
       "    }\n",
       "\n",
       "    .dataframe thead th {\n",
       "        text-align: right;\n",
       "    }\n",
       "</style>\n",
       "<table border=\"1\" class=\"dataframe\">\n",
       "  <thead>\n",
       "    <tr style=\"text-align: right;\">\n",
       "      <th></th>\n",
       "      <th>price</th>\n",
       "      <th>prediction</th>\n",
       "    </tr>\n",
       "  </thead>\n",
       "  <tbody>\n",
       "    <tr>\n",
       "      <th>26715</th>\n",
       "      <td>6700</td>\n",
       "      <td>10161.60</td>\n",
       "    </tr>\n",
       "    <tr>\n",
       "      <th>64705</th>\n",
       "      <td>7400</td>\n",
       "      <td>9221.51</td>\n",
       "    </tr>\n",
       "    <tr>\n",
       "      <th>100052</th>\n",
       "      <td>39990</td>\n",
       "      <td>34024.31</td>\n",
       "    </tr>\n",
       "    <tr>\n",
       "      <th>31942</th>\n",
       "      <td>14500</td>\n",
       "      <td>18524.20</td>\n",
       "    </tr>\n",
       "    <tr>\n",
       "      <th>58440</th>\n",
       "      <td>6900</td>\n",
       "      <td>2927.99</td>\n",
       "    </tr>\n",
       "    <tr>\n",
       "      <th>...</th>\n",
       "      <td>...</td>\n",
       "      <td>...</td>\n",
       "    </tr>\n",
       "    <tr>\n",
       "      <th>63710</th>\n",
       "      <td>9983</td>\n",
       "      <td>11411.35</td>\n",
       "    </tr>\n",
       "    <tr>\n",
       "      <th>65996</th>\n",
       "      <td>21500</td>\n",
       "      <td>25640.82</td>\n",
       "    </tr>\n",
       "    <tr>\n",
       "      <th>66959</th>\n",
       "      <td>488</td>\n",
       "      <td>11890.37</td>\n",
       "    </tr>\n",
       "    <tr>\n",
       "      <th>6086</th>\n",
       "      <td>10450</td>\n",
       "      <td>12541.94</td>\n",
       "    </tr>\n",
       "    <tr>\n",
       "      <th>19854</th>\n",
       "      <td>31990</td>\n",
       "      <td>31966.33</td>\n",
       "    </tr>\n",
       "  </tbody>\n",
       "</table>\n",
       "<p>20716 rows × 2 columns</p>\n",
       "</div>"
      ],
      "text/plain": [
       "        price  prediction\n",
       "26715    6700    10161.60\n",
       "64705    7400     9221.51\n",
       "100052  39990    34024.31\n",
       "31942   14500    18524.20\n",
       "58440    6900     2927.99\n",
       "...       ...         ...\n",
       "63710    9983    11411.35\n",
       "65996   21500    25640.82\n",
       "66959     488    11890.37\n",
       "6086    10450    12541.94\n",
       "19854   31990    31966.33\n",
       "\n",
       "[20716 rows x 2 columns]"
      ]
     },
     "execution_count": 35,
     "metadata": {},
     "output_type": "execute_result"
    }
   ],
   "source": [
    "# Result of prediction on testing data\n",
    "data = {'price': y_test,\n",
    "       'prediction': y_test_pred}\n",
    "df_pred = pd.DataFrame(data).round(2)\n",
    "df_pred"
   ]
  },
  {
   "cell_type": "markdown",
   "id": "ab843333",
   "metadata": {},
   "source": [
    "### Prediction on training data"
   ]
  },
  {
   "cell_type": "code",
   "execution_count": 36,
   "id": "bd1244e1",
   "metadata": {},
   "outputs": [],
   "source": [
    "# prediction on Training data\n",
    "y_train_pred = lin_reg_model.predict(X_train)"
   ]
  },
  {
   "cell_type": "code",
   "execution_count": 37,
   "id": "832c430a",
   "metadata": {},
   "outputs": [
    {
     "data": {
      "image/png": "[encoded data removed]",
      "text/plain": [
       "<Figure size 432x288 with 1 Axes>"
      ]
     },
     "metadata": {
      "needs_background": "light"
     },
     "output_type": "display_data"
    }
   ],
   "source": [
    "# Visual for training data\n",
    "plt.scatter(y_train,y_train_pred)\n",
    "plt.xlabel(\"Actual Price\")\n",
    "plt.ylabel(\" Predicted Price\")\n",
    "plt.title(\" Actual Prices vs Predicted Prices\")\n",
    "plt.show()"
   ]
  },
  {
   "cell_type": "code",
   "execution_count": 38,
   "id": "4573cb9e",
   "metadata": {},
   "outputs": [
    {
     "data": {
      "text/html": [
       "<div>\n",
       "<style scoped>\n",
       "    .dataframe tbody tr th:only-of-type {\n",
       "        vertical-align: middle;\n",
       "    }\n",
       "\n",
       "    .dataframe tbody tr th {\n",
       "        vertical-align: top;\n",
       "    }\n",
       "\n",
       "    .dataframe thead th {\n",
       "        text-align: right;\n",
       "    }\n",
       "</style>\n",
       "<table border=\"1\" class=\"dataframe\">\n",
       "  <thead>\n",
       "    <tr style=\"text-align: right;\">\n",
       "      <th></th>\n",
       "      <th>price</th>\n",
       "      <th>prediction</th>\n",
       "    </tr>\n",
       "  </thead>\n",
       "  <tbody>\n",
       "    <tr>\n",
       "      <th>95264</th>\n",
       "      <td>19995</td>\n",
       "      <td>22533.52</td>\n",
       "    </tr>\n",
       "    <tr>\n",
       "      <th>35690</th>\n",
       "      <td>34590</td>\n",
       "      <td>30629.82</td>\n",
       "    </tr>\n",
       "    <tr>\n",
       "      <th>1098</th>\n",
       "      <td>25990</td>\n",
       "      <td>28157.51</td>\n",
       "    </tr>\n",
       "    <tr>\n",
       "      <th>74694</th>\n",
       "      <td>28900</td>\n",
       "      <td>27158.03</td>\n",
       "    </tr>\n",
       "    <tr>\n",
       "      <th>28188</th>\n",
       "      <td>34590</td>\n",
       "      <td>31459.94</td>\n",
       "    </tr>\n",
       "    <tr>\n",
       "      <th>...</th>\n",
       "      <td>...</td>\n",
       "      <td>...</td>\n",
       "    </tr>\n",
       "    <tr>\n",
       "      <th>50057</th>\n",
       "      <td>4495</td>\n",
       "      <td>3895.22</td>\n",
       "    </tr>\n",
       "    <tr>\n",
       "      <th>98047</th>\n",
       "      <td>41990</td>\n",
       "      <td>31122.40</td>\n",
       "    </tr>\n",
       "    <tr>\n",
       "      <th>5192</th>\n",
       "      <td>11995</td>\n",
       "      <td>11692.45</td>\n",
       "    </tr>\n",
       "    <tr>\n",
       "      <th>77708</th>\n",
       "      <td>7499</td>\n",
       "      <td>5916.42</td>\n",
       "    </tr>\n",
       "    <tr>\n",
       "      <th>98539</th>\n",
       "      <td>3000</td>\n",
       "      <td>7813.97</td>\n",
       "    </tr>\n",
       "  </tbody>\n",
       "</table>\n",
       "<p>82861 rows × 2 columns</p>\n",
       "</div>"
      ],
      "text/plain": [
       "       price  prediction\n",
       "95264  19995    22533.52\n",
       "35690  34590    30629.82\n",
       "1098   25990    28157.51\n",
       "74694  28900    27158.03\n",
       "28188  34590    31459.94\n",
       "...      ...         ...\n",
       "50057   4495     3895.22\n",
       "98047  41990    31122.40\n",
       "5192   11995    11692.45\n",
       "77708   7499     5916.42\n",
       "98539   3000     7813.97\n",
       "\n",
       "[82861 rows x 2 columns]"
      ]
     },
     "execution_count": 38,
     "metadata": {},
     "output_type": "execute_result"
    }
   ],
   "source": [
    "# Result of prediction on training data\n",
    "data = {'price': y_train,\n",
    "       'prediction': y_train_pred}\n",
    "df_pred = pd.DataFrame(data).round(2)\n",
    "df_pred"
   ]
  },
  {
   "cell_type": "code",
   "execution_count": 39,
   "id": "222c77e9",
   "metadata": {},
   "outputs": [
    {
     "name": "stdout",
     "output_type": "stream",
     "text": [
      "R^2 train: 0.757, test: 0.754\n"
     ]
    }
   ],
   "source": [
    "# Prediction Score \n",
    "print('R^2 train: %.3f, test: %.3f' % (r2_score(y_train, y_train_pred),\n",
    "                r2_score(y_test, y_test_pred)))"
   ]
  },
  {
   "cell_type": "markdown",
   "id": "9d1d8a8b",
   "metadata": {},
   "source": [
    "###  "
   ]
  }
 ],
 "metadata": {
  "kernelspec": {
   "display_name": "PythonData",
   "language": "python",
   "name": "pythondata"
  },
  "language_info": {
   "codemirror_mode": {
    "name": "ipython",
    "version": 3
   },
   "file_extension": ".py",
   "mimetype": "text/x-python",
   "name": "python",
   "nbconvert_exporter": "python",
   "pygments_lexer": "ipython3",
   "version": "3.7.13"
  }
 },
 "nbformat": 4,
 "nbformat_minor": 5
}
