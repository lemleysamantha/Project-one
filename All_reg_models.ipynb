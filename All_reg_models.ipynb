{
 "cells": [
  {
   "cell_type": "code",
   "execution_count": 9,
   "id": "8c2a7979",
   "metadata": {},
   "outputs": [],
   "source": [
    "import pandas as pd\n",
    "import numpy as np\n",
    "import matplotlib.pyplot as plt\n",
    "import plotly.express as px\n",
    "import matplotlib.pyplot as plt\n",
    "import seaborn as sns\n",
    "\n",
    "from sklearn.neighbors import KNeighborsRegressor\n",
    "from sklearn.linear_model import LinearRegression\n",
    "from sklearn.linear_model import Lasso\n",
    "from sklearn import preprocessing\n",
    "from sklearn.model_selection import train_test_split\n",
    "from sklearn.tree import DecisionTreeRegressor\n",
    "from sklearn import metrics\n",
    "from sklearn.metrics import mean_squared_error, r2_score\n",
    "from sklearn.preprocessing import StandardScaler,OneHotEncoder\n",
    "\n",
    "# Import GridSearchCV libraries\n",
    "from sklearn.pipeline import Pipeline\n",
    "from sklearn.model_selection import GridSearchCV, cross_val_score\n"
   ]
  },
  {
   "cell_type": "code",
   "execution_count": 2,
   "id": "b540acd1",
   "metadata": {},
   "outputs": [],
   "source": [
    "df = pd.read_csv(\"vehicles_maindata.csv\")"
   ]
  },
  {
   "cell_type": "code",
   "execution_count": 3,
   "id": "d5cf9574",
   "metadata": {
    "scrolled": true
   },
   "outputs": [
    {
     "data": {
      "text/plain": [
       "Index(['Unnamed: 0', 'id', 'price', 'year', 'manufacturer', 'model',\n",
       "       'condition', 'cylinders', 'fuel', 'odometer', 'title_status',\n",
       "       'transmission', 'drive', 'type', 'area'],\n",
       "      dtype='object')"
      ]
     },
     "execution_count": 3,
     "metadata": {},
     "output_type": "execute_result"
    }
   ],
   "source": [
    "df.columns"
   ]
  },
  {
   "cell_type": "markdown",
   "id": "285dcf9b",
   "metadata": {},
   "source": [
    "# DecisionTreeRegressor"
   ]
  },
  {
   "cell_type": "code",
   "execution_count": 4,
   "id": "bd6cebff",
   "metadata": {},
   "outputs": [],
   "source": [
    "# Select columns for prediction\n",
    "df_analysis = df.loc[:,['price','year','odometer','type','area']]"
   ]
  },
  {
   "cell_type": "code",
   "execution_count": 6,
   "id": "896a005f",
   "metadata": {},
   "outputs": [
    {
     "data": {
      "text/html": [
       "<div>\n",
       "<style scoped>\n",
       "    .dataframe tbody tr th:only-of-type {\n",
       "        vertical-align: middle;\n",
       "    }\n",
       "\n",
       "    .dataframe tbody tr th {\n",
       "        vertical-align: top;\n",
       "    }\n",
       "\n",
       "    .dataframe thead th {\n",
       "        text-align: right;\n",
       "    }\n",
       "</style>\n",
       "<table border=\"1\" class=\"dataframe\">\n",
       "  <thead>\n",
       "    <tr style=\"text-align: right;\">\n",
       "      <th></th>\n",
       "      <th>price</th>\n",
       "      <th>year</th>\n",
       "      <th>odometer</th>\n",
       "      <th>type</th>\n",
       "      <th>area</th>\n",
       "    </tr>\n",
       "  </thead>\n",
       "  <tbody>\n",
       "    <tr>\n",
       "      <th>0</th>\n",
       "      <td>15000</td>\n",
       "      <td>2013-01-01</td>\n",
       "      <td>128000.0</td>\n",
       "      <td>truck</td>\n",
       "      <td>south</td>\n",
       "    </tr>\n",
       "    <tr>\n",
       "      <th>1</th>\n",
       "      <td>27990</td>\n",
       "      <td>2012-01-01</td>\n",
       "      <td>68696.0</td>\n",
       "      <td>pickup</td>\n",
       "      <td>south</td>\n",
       "    </tr>\n",
       "    <tr>\n",
       "      <th>2</th>\n",
       "      <td>34590</td>\n",
       "      <td>2016-01-01</td>\n",
       "      <td>29499.0</td>\n",
       "      <td>pickup</td>\n",
       "      <td>south</td>\n",
       "    </tr>\n",
       "    <tr>\n",
       "      <th>3</th>\n",
       "      <td>35000</td>\n",
       "      <td>2019-01-01</td>\n",
       "      <td>43000.0</td>\n",
       "      <td>truck</td>\n",
       "      <td>south</td>\n",
       "    </tr>\n",
       "    <tr>\n",
       "      <th>4</th>\n",
       "      <td>29990</td>\n",
       "      <td>2016-01-01</td>\n",
       "      <td>17302.0</td>\n",
       "      <td>pickup</td>\n",
       "      <td>south</td>\n",
       "    </tr>\n",
       "    <tr>\n",
       "      <th>...</th>\n",
       "      <td>...</td>\n",
       "      <td>...</td>\n",
       "      <td>...</td>\n",
       "      <td>...</td>\n",
       "      <td>...</td>\n",
       "    </tr>\n",
       "    <tr>\n",
       "      <th>103572</th>\n",
       "      <td>39990</td>\n",
       "      <td>2017-01-01</td>\n",
       "      <td>41664.0</td>\n",
       "      <td>other</td>\n",
       "      <td>west</td>\n",
       "    </tr>\n",
       "    <tr>\n",
       "      <th>103573</th>\n",
       "      <td>32990</td>\n",
       "      <td>2016-01-01</td>\n",
       "      <td>55612.0</td>\n",
       "      <td>other</td>\n",
       "      <td>west</td>\n",
       "    </tr>\n",
       "    <tr>\n",
       "      <th>103574</th>\n",
       "      <td>33590</td>\n",
       "      <td>2018-01-01</td>\n",
       "      <td>30814.0</td>\n",
       "      <td>sedan</td>\n",
       "      <td>west</td>\n",
       "    </tr>\n",
       "    <tr>\n",
       "      <th>103575</th>\n",
       "      <td>23590</td>\n",
       "      <td>2019-01-01</td>\n",
       "      <td>32226.0</td>\n",
       "      <td>sedan</td>\n",
       "      <td>west</td>\n",
       "    </tr>\n",
       "    <tr>\n",
       "      <th>103576</th>\n",
       "      <td>28990</td>\n",
       "      <td>2018-01-01</td>\n",
       "      <td>30112.0</td>\n",
       "      <td>sedan</td>\n",
       "      <td>west</td>\n",
       "    </tr>\n",
       "  </tbody>\n",
       "</table>\n",
       "<p>103577 rows × 5 columns</p>\n",
       "</div>"
      ],
      "text/plain": [
       "        price        year  odometer    type   area\n",
       "0       15000  2013-01-01  128000.0   truck  south\n",
       "1       27990  2012-01-01   68696.0  pickup  south\n",
       "2       34590  2016-01-01   29499.0  pickup  south\n",
       "3       35000  2019-01-01   43000.0   truck  south\n",
       "4       29990  2016-01-01   17302.0  pickup  south\n",
       "...       ...         ...       ...     ...    ...\n",
       "103572  39990  2017-01-01   41664.0   other   west\n",
       "103573  32990  2016-01-01   55612.0   other   west\n",
       "103574  33590  2018-01-01   30814.0   sedan   west\n",
       "103575  23590  2019-01-01   32226.0   sedan   west\n",
       "103576  28990  2018-01-01   30112.0   sedan   west\n",
       "\n",
       "[103577 rows x 5 columns]"
      ]
     },
     "execution_count": 6,
     "metadata": {},
     "output_type": "execute_result"
    }
   ],
   "source": [
    "df_analysis"
   ]
  },
  {
   "cell_type": "code",
   "execution_count": 7,
   "id": "927c5ddb",
   "metadata": {},
   "outputs": [],
   "source": [
    "# Create features and target\n",
    "X = df_analysis.copy().drop('price', axis=1)\n",
    "X = pd.get_dummies(X, columns=['year','type','area'])\n",
    "y = df_analysis['price']"
   ]
  },
  {
   "cell_type": "code",
   "execution_count": 10,
   "id": "890bd576",
   "metadata": {},
   "outputs": [],
   "source": [
    "# Create training and testing datasets\n",
    "X_train, X_test, y_train, y_test = train_test_split(X,y,random_state=1)"
   ]
  },
  {
   "cell_type": "code",
   "execution_count": 11,
   "id": "4f80b353",
   "metadata": {},
   "outputs": [],
   "source": [
    "# Create a machine learning model\n",
    "regr = DecisionTreeRegressor()"
   ]
  },
  {
   "cell_type": "code",
   "execution_count": 12,
   "id": "71646719",
   "metadata": {},
   "outputs": [],
   "source": [
    "# Make an object pipe to create pipeline for regr\n",
    "pipe = Pipeline(steps=[('regr',regr)])"
   ]
  },
  {
   "cell_type": "code",
   "execution_count": 14,
   "id": "4f6e0588",
   "metadata": {},
   "outputs": [],
   "source": [
    "# Set parameters as value list from which GridSearchCV will select best value\n",
    "max_depth = [1,2,3,4,5,6,7,8,9,10,11,12,13,14,15]"
   ]
  },
  {
   "cell_type": "code",
   "execution_count": 15,
   "id": "bc4c8130",
   "metadata": {},
   "outputs": [],
   "source": [
    "# Create dictionary to set parameters\n",
    "parameters = dict(regr__max_depth=max_depth)"
   ]
  },
  {
   "cell_type": "code",
   "execution_count": 16,
   "id": "be901cd1",
   "metadata": {},
   "outputs": [
    {
     "data": {
      "text/plain": [
       "GridSearchCV(estimator=Pipeline(steps=[('regr', DecisionTreeRegressor())]),\n",
       "             param_grid={'regr__max_depth': [1, 2, 3, 4, 5, 6, 7, 8, 9, 10, 11,\n",
       "                                             12, 13, 14, 15]})"
      ]
     },
     "execution_count": 16,
     "metadata": {},
     "output_type": "execute_result"
    }
   ],
   "source": [
    "# Create GridSearchCV object and fot dataset i.e., X and y\n",
    "pred = GridSearchCV(pipe, parameters)\n",
    "pred.fit(X, y)"
   ]
  },
  {
   "cell_type": "markdown",
   "id": "1affc7d7",
   "metadata": {},
   "source": [
    "In a Jupyter environment, please rerun this cell to show the HTML representation or trust the notebook.\n",
    "On GitHub, the HTML representation is unable to render, please try loading this page with nbviewer.org."
   ]
  },
  {
   "cell_type": "code",
   "execution_count": 17,
   "id": "4a9c2b84",
   "metadata": {},
   "outputs": [
    {
     "name": "stdout",
     "output_type": "stream",
     "text": [
      "\n",
      "DecisionTreeRegressor(max_depth=11)\n"
     ]
    }
   ],
   "source": [
    "# Print result\n",
    "print(); print(pred.best_estimator_.get_params()['regr'])"
   ]
  },
  {
   "cell_type": "code",
   "execution_count": 18,
   "id": "06f7e0ae",
   "metadata": {},
   "outputs": [],
   "source": [
    "# Make prediction\n",
    "best_regr = DecisionTreeRegressor(max_depth=11)\n",
    "best_regr.fit(X_train, y_train)\n",
    "y_pred_11 = best_regr.predict(X_test)"
   ]
  },
  {
   "cell_type": "code",
   "execution_count": 19,
   "id": "b6e9e34f",
   "metadata": {},
   "outputs": [
    {
     "data": {
      "text/plain": [
       "0.6761065847391461"
      ]
     },
     "execution_count": 19,
     "metadata": {},
     "output_type": "execute_result"
    }
   ],
   "source": [
    "# Result evaluation\n",
    "rscore = metrics.r2_score(y_test, y_pred_11)\n",
    "rscore"
   ]
  },
  {
   "cell_type": "code",
   "execution_count": 23,
   "id": "46c08f13",
   "metadata": {},
   "outputs": [
    {
     "data": {
      "image/png": "[encoded data removed]",
      "text/plain": [
       "<Figure size 432x288 with 1 Axes>"
      ]
     },
     "metadata": {
      "needs_background": "light"
     },
     "output_type": "display_data"
    }
   ],
   "source": [
    "plt.scatter(y_test,y_pred_11)\n",
    "plt.xlabel(\"Actual Price\")\n",
    "plt.ylabel(\" Predicted Price\")\n",
    "plt.title(\" Actual Prices vs Predicted Prices\")\n",
    "plt.show()"
   ]
  },
  {
   "cell_type": "code",
   "execution_count": 25,
   "id": "38a708c9",
   "metadata": {},
   "outputs": [],
   "source": [
    "# Make prediction training \n",
    "best_regr = DecisionTreeRegressor(max_depth=11)\n",
    "best_regr.fit(X_train, y_train)\n",
    "y_train_pred_11 = best_regr.predict(X_train)"
   ]
  },
  {
   "cell_type": "code",
   "execution_count": 27,
   "id": "d7632057",
   "metadata": {},
   "outputs": [
    {
     "data": {
      "text/plain": [
       "0.7109879787046774"
      ]
     },
     "execution_count": 27,
     "metadata": {},
     "output_type": "execute_result"
    }
   ],
   "source": [
    "# Result evaluation\n",
    "rscore = metrics.r2_score(y_train, y_train_pred_11)\n",
    "rscore"
   ]
  },
  {
   "cell_type": "code",
   "execution_count": 28,
   "id": "9ea56211",
   "metadata": {},
   "outputs": [
    {
     "data": {
      "image/png": "[encoded data removed]",
      "text/plain": [
       "<Figure size 432x288 with 1 Axes>"
      ]
     },
     "metadata": {
      "needs_background": "light"
     },
     "output_type": "display_data"
    }
   ],
   "source": [
    "plt.scatter(y_train,y_train_pred_11)\n",
    "plt.xlabel(\"Actual Price\")\n",
    "plt.ylabel(\" Predicted Price\")\n",
    "plt.title(\" Actual Prices vs Predicted Prices\")\n",
    "plt.show()"
   ]
  },
  {
   "cell_type": "code",
   "execution_count": 29,
   "id": "34044f9b",
   "metadata": {},
   "outputs": [
    {
     "name": "stdout",
     "output_type": "stream",
     "text": [
      "MSE train: 49628186.465, test: 56426310.754\n"
     ]
    }
   ],
   "source": [
    "# Mean Square Error\n",
    "print('MSE train: %.3f, test: %.3f' % (mean_squared_error(y_train, y_train_pred_11),\n",
    "                mean_squared_error(y_test, y_pred_11)))"
   ]
  },
  {
   "cell_type": "code",
   "execution_count": 30,
   "id": "d1160a5d",
   "metadata": {},
   "outputs": [
    {
     "name": "stdout",
     "output_type": "stream",
     "text": [
      "R^2 train: 0.711, test: 0.676\n"
     ]
    }
   ],
   "source": [
    "print('R^2 train: %.3f, test: %.3f' % (r2_score(y_train, y_train_pred_11),\n",
    "                r2_score(y_test, y_pred_11)))"
   ]
  },
  {
   "cell_type": "code",
   "execution_count": 20,
   "id": "9feeec5f",
   "metadata": {},
   "outputs": [],
   "source": [
    "# Test with max_depth 10\n",
    "best_regr10 = DecisionTreeRegressor(max_depth=10)\n",
    "best_regr.fit(X_train, y_train)\n",
    "y_pred_10 = best_regr.predict(X_test)"
   ]
  },
  {
   "cell_type": "code",
   "execution_count": 21,
   "id": "f38ccf9d",
   "metadata": {},
   "outputs": [
    {
     "data": {
      "text/plain": [
       "0.6760712502086764"
      ]
     },
     "execution_count": 21,
     "metadata": {},
     "output_type": "execute_result"
    }
   ],
   "source": [
    "rscore = metrics.r2_score(y_test, y_pred_10)\n",
    "rscore"
   ]
  },
  {
   "cell_type": "code",
   "execution_count": 22,
   "id": "2affc00a",
   "metadata": {},
   "outputs": [
    {
     "data": {
      "image/png": "[encoded data removed]",
      "text/plain": [
       "<Figure size 432x288 with 1 Axes>"
      ]
     },
     "metadata": {
      "needs_background": "light"
     },
     "output_type": "display_data"
    }
   ],
   "source": [
    "plt.scatter(y_test,y_pred_10)\n",
    "plt.xlabel(\"Actual Price\")\n",
    "plt.ylabel(\" Predicted Price\")\n",
    "plt.title(\" Actual Prices vs Predicted Prices\")\n",
    "plt.show()"
   ]
  },
  {
   "cell_type": "code",
   "execution_count": 31,
   "id": "765e19c9",
   "metadata": {},
   "outputs": [],
   "source": [
    "# Test with max_depth 10 training data\n",
    "best_regr10 = DecisionTreeRegressor(max_depth=10)\n",
    "best_regr.fit(X_train, y_train)\n",
    "y_train_pred_10 = best_regr.predict(X_train)"
   ]
  },
  {
   "cell_type": "code",
   "execution_count": 32,
   "id": "8aa01315",
   "metadata": {},
   "outputs": [
    {
     "data": {
      "text/plain": [
       "0.7109879787046774"
      ]
     },
     "execution_count": 32,
     "metadata": {},
     "output_type": "execute_result"
    }
   ],
   "source": [
    "rscore = metrics.r2_score(y_train, y_train_pred_10)\n",
    "rscore"
   ]
  },
  {
   "cell_type": "code",
   "execution_count": 34,
   "id": "d4b0ed69",
   "metadata": {},
   "outputs": [
    {
     "name": "stdout",
     "output_type": "stream",
     "text": [
      "MSE train: 49628186.465, test: 56432466.474\n"
     ]
    }
   ],
   "source": [
    "# Mean Square Error\n",
    "print('MSE train: %.3f, test: %.3f' % (mean_squared_error(y_train, y_train_pred_10),\n",
    "                mean_squared_error(y_test, y_pred_10)))"
   ]
  },
  {
   "cell_type": "code",
   "execution_count": 35,
   "id": "6b96f587",
   "metadata": {},
   "outputs": [
    {
     "name": "stdout",
     "output_type": "stream",
     "text": [
      "R^2 train: 0.711, test: 0.676\n"
     ]
    }
   ],
   "source": [
    "print('R^2 train: %.3f, test: %.3f' % (r2_score(y_train, y_train_pred_10),\n",
    "                r2_score(y_test, y_pred_10)))"
   ]
  },
  {
   "cell_type": "markdown",
   "id": "96ed569d",
   "metadata": {},
   "source": [
    "# Data selection for other Models"
   ]
  },
  {
   "cell_type": "code",
   "execution_count": 4,
   "id": "478e9459",
   "metadata": {},
   "outputs": [],
   "source": [
    "# Select columns for prediction\n",
    "df_1 = df.loc[:,['price', 'year', 'manufacturer', \n",
    "       'condition', 'cylinders', 'fuel', 'odometer', 'title_status',\n",
    "       'transmission', 'drive', 'type', 'area']]"
   ]
  },
  {
   "cell_type": "code",
   "execution_count": 5,
   "id": "4722bf6c",
   "metadata": {},
   "outputs": [
    {
     "data": {
      "text/plain": [
       "<bound method DataFrame.info of         price        year manufacturer  condition  cylinders fuel  odometer  \\\n",
       "0       15000  2013-01-01         ford  excellent          6  gas  128000.0   \n",
       "1       27990  2012-01-01          gmc       good          8  gas   68696.0   \n",
       "2       34590  2016-01-01    chevrolet       good          6  gas   29499.0   \n",
       "3       35000  2019-01-01       toyota  excellent          6  gas   43000.0   \n",
       "4       29990  2016-01-01    chevrolet       good          6  gas   17302.0   \n",
       "...       ...         ...          ...        ...        ...  ...       ...   \n",
       "103572  39990  2017-01-01     infiniti       good          8  gas   41664.0   \n",
       "103573  32990  2016-01-01     infiniti       good          8  gas   55612.0   \n",
       "103574  33590  2018-01-01        lexus       good          6  gas   30814.0   \n",
       "103575  23590  2019-01-01       nissan       good          6  gas   32226.0   \n",
       "103576  28990  2018-01-01        lexus       good          6  gas   30112.0   \n",
       "\n",
       "       title_status transmission drive    type   area  \n",
       "0             clean    automatic   rwd   truck  south  \n",
       "1             clean        other   4wd  pickup  south  \n",
       "2             clean        other   4wd  pickup  south  \n",
       "3             clean    automatic   4wd   truck  south  \n",
       "4             clean        other   4wd  pickup  south  \n",
       "...             ...          ...   ...     ...    ...  \n",
       "103572        clean    automatic   4wd   other   west  \n",
       "103573        clean    automatic   rwd   other   west  \n",
       "103574        clean    automatic   rwd   sedan   west  \n",
       "103575        clean        other   fwd   sedan   west  \n",
       "103576        clean        other   fwd   sedan   west  \n",
       "\n",
       "[103577 rows x 12 columns]>"
      ]
     },
     "execution_count": 5,
     "metadata": {},
     "output_type": "execute_result"
    }
   ],
   "source": [
    "df_1.info"
   ]
  },
  {
   "cell_type": "code",
   "execution_count": 6,
   "id": "33d9129c",
   "metadata": {},
   "outputs": [],
   "source": [
    "# perform data transformation\n",
    "for col in df_1.columns[1:]:\n",
    "    attName = col\n",
    "    dType = df[col].dtype\n",
    "    missing = pd.isnull(df[col]).any()\n",
    "    uniqueCount = len(df[attName].value_counts(normalize=False))\n",
    "# discretize (create dummies)\n",
    "    if dType == object:\n",
    "        df_1 = pd.concat([df_1, pd.get_dummies(df_1[col], prefix=col)], axis=1)\n",
    "        del df_1[attName]"
   ]
  },
  {
   "cell_type": "code",
   "execution_count": 7,
   "id": "5e62dd75",
   "metadata": {},
   "outputs": [
    {
     "data": {
      "text/html": [
       "<div>\n",
       "<style scoped>\n",
       "    .dataframe tbody tr th:only-of-type {\n",
       "        vertical-align: middle;\n",
       "    }\n",
       "\n",
       "    .dataframe tbody tr th {\n",
       "        vertical-align: top;\n",
       "    }\n",
       "\n",
       "    .dataframe thead th {\n",
       "        text-align: right;\n",
       "    }\n",
       "</style>\n",
       "<table border=\"1\" class=\"dataframe\">\n",
       "  <thead>\n",
       "    <tr style=\"text-align: right;\">\n",
       "      <th></th>\n",
       "      <th>price</th>\n",
       "      <th>cylinders</th>\n",
       "      <th>odometer</th>\n",
       "      <th>year_2001-01-01</th>\n",
       "      <th>year_2002-01-01</th>\n",
       "      <th>year_2003-01-01</th>\n",
       "      <th>year_2004-01-01</th>\n",
       "      <th>year_2005-01-01</th>\n",
       "      <th>year_2006-01-01</th>\n",
       "      <th>year_2007-01-01</th>\n",
       "      <th>...</th>\n",
       "      <th>type_other</th>\n",
       "      <th>type_pickup</th>\n",
       "      <th>type_sedan</th>\n",
       "      <th>type_truck</th>\n",
       "      <th>type_van</th>\n",
       "      <th>type_wagon</th>\n",
       "      <th>area_mw</th>\n",
       "      <th>area_ne</th>\n",
       "      <th>area_south</th>\n",
       "      <th>area_west</th>\n",
       "    </tr>\n",
       "  </thead>\n",
       "  <tbody>\n",
       "    <tr>\n",
       "      <th>0</th>\n",
       "      <td>15000</td>\n",
       "      <td>6</td>\n",
       "      <td>128000.0</td>\n",
       "      <td>0</td>\n",
       "      <td>0</td>\n",
       "      <td>0</td>\n",
       "      <td>0</td>\n",
       "      <td>0</td>\n",
       "      <td>0</td>\n",
       "      <td>0</td>\n",
       "      <td>...</td>\n",
       "      <td>0</td>\n",
       "      <td>0</td>\n",
       "      <td>0</td>\n",
       "      <td>1</td>\n",
       "      <td>0</td>\n",
       "      <td>0</td>\n",
       "      <td>0</td>\n",
       "      <td>0</td>\n",
       "      <td>1</td>\n",
       "      <td>0</td>\n",
       "    </tr>\n",
       "    <tr>\n",
       "      <th>1</th>\n",
       "      <td>27990</td>\n",
       "      <td>8</td>\n",
       "      <td>68696.0</td>\n",
       "      <td>0</td>\n",
       "      <td>0</td>\n",
       "      <td>0</td>\n",
       "      <td>0</td>\n",
       "      <td>0</td>\n",
       "      <td>0</td>\n",
       "      <td>0</td>\n",
       "      <td>...</td>\n",
       "      <td>0</td>\n",
       "      <td>1</td>\n",
       "      <td>0</td>\n",
       "      <td>0</td>\n",
       "      <td>0</td>\n",
       "      <td>0</td>\n",
       "      <td>0</td>\n",
       "      <td>0</td>\n",
       "      <td>1</td>\n",
       "      <td>0</td>\n",
       "    </tr>\n",
       "    <tr>\n",
       "      <th>2</th>\n",
       "      <td>34590</td>\n",
       "      <td>6</td>\n",
       "      <td>29499.0</td>\n",
       "      <td>0</td>\n",
       "      <td>0</td>\n",
       "      <td>0</td>\n",
       "      <td>0</td>\n",
       "      <td>0</td>\n",
       "      <td>0</td>\n",
       "      <td>0</td>\n",
       "      <td>...</td>\n",
       "      <td>0</td>\n",
       "      <td>1</td>\n",
       "      <td>0</td>\n",
       "      <td>0</td>\n",
       "      <td>0</td>\n",
       "      <td>0</td>\n",
       "      <td>0</td>\n",
       "      <td>0</td>\n",
       "      <td>1</td>\n",
       "      <td>0</td>\n",
       "    </tr>\n",
       "    <tr>\n",
       "      <th>3</th>\n",
       "      <td>35000</td>\n",
       "      <td>6</td>\n",
       "      <td>43000.0</td>\n",
       "      <td>0</td>\n",
       "      <td>0</td>\n",
       "      <td>0</td>\n",
       "      <td>0</td>\n",
       "      <td>0</td>\n",
       "      <td>0</td>\n",
       "      <td>0</td>\n",
       "      <td>...</td>\n",
       "      <td>0</td>\n",
       "      <td>0</td>\n",
       "      <td>0</td>\n",
       "      <td>1</td>\n",
       "      <td>0</td>\n",
       "      <td>0</td>\n",
       "      <td>0</td>\n",
       "      <td>0</td>\n",
       "      <td>1</td>\n",
       "      <td>0</td>\n",
       "    </tr>\n",
       "    <tr>\n",
       "      <th>4</th>\n",
       "      <td>29990</td>\n",
       "      <td>6</td>\n",
       "      <td>17302.0</td>\n",
       "      <td>0</td>\n",
       "      <td>0</td>\n",
       "      <td>0</td>\n",
       "      <td>0</td>\n",
       "      <td>0</td>\n",
       "      <td>0</td>\n",
       "      <td>0</td>\n",
       "      <td>...</td>\n",
       "      <td>0</td>\n",
       "      <td>1</td>\n",
       "      <td>0</td>\n",
       "      <td>0</td>\n",
       "      <td>0</td>\n",
       "      <td>0</td>\n",
       "      <td>0</td>\n",
       "      <td>0</td>\n",
       "      <td>1</td>\n",
       "      <td>0</td>\n",
       "    </tr>\n",
       "  </tbody>\n",
       "</table>\n",
       "<p>5 rows × 103 columns</p>\n",
       "</div>"
      ],
      "text/plain": [
       "   price  cylinders  odometer  year_2001-01-01  year_2002-01-01  \\\n",
       "0  15000          6  128000.0                0                0   \n",
       "1  27990          8   68696.0                0                0   \n",
       "2  34590          6   29499.0                0                0   \n",
       "3  35000          6   43000.0                0                0   \n",
       "4  29990          6   17302.0                0                0   \n",
       "\n",
       "   year_2003-01-01  year_2004-01-01  year_2005-01-01  year_2006-01-01  \\\n",
       "0                0                0                0                0   \n",
       "1                0                0                0                0   \n",
       "2                0                0                0                0   \n",
       "3                0                0                0                0   \n",
       "4                0                0                0                0   \n",
       "\n",
       "   year_2007-01-01  ...  type_other  type_pickup  type_sedan  type_truck  \\\n",
       "0                0  ...           0            0           0           1   \n",
       "1                0  ...           0            1           0           0   \n",
       "2                0  ...           0            1           0           0   \n",
       "3                0  ...           0            0           0           1   \n",
       "4                0  ...           0            1           0           0   \n",
       "\n",
       "   type_van  type_wagon  area_mw  area_ne  area_south  area_west  \n",
       "0         0           0        0        0           1          0  \n",
       "1         0           0        0        0           1          0  \n",
       "2         0           0        0        0           1          0  \n",
       "3         0           0        0        0           1          0  \n",
       "4         0           0        0        0           1          0  \n",
       "\n",
       "[5 rows x 103 columns]"
      ]
     },
     "execution_count": 7,
     "metadata": {},
     "output_type": "execute_result"
    }
   ],
   "source": [
    "df_1.head()"
   ]
  },
  {
   "cell_type": "markdown",
   "id": "505aee03",
   "metadata": {},
   "source": [
    "#  KNeighborsRegressor"
   ]
  },
  {
   "cell_type": "code",
   "execution_count": 8,
   "id": "b48c843b",
   "metadata": {},
   "outputs": [],
   "source": [
    "# Create features and target\n",
    "X = df_1.copy().drop('price', axis=1)\n",
    "X=pd.get_dummies(X)\n",
    "\n",
    "# Create our target\n",
    "y = df_1['price']"
   ]
  },
  {
   "cell_type": "code",
   "execution_count": 9,
   "id": "ee3a7455",
   "metadata": {},
   "outputs": [],
   "source": [
    "X_train, X_test, y_train, y_test = train_test_split(X,y, test_size= .1, random_state=2)"
   ]
  },
  {
   "cell_type": "code",
   "execution_count": 10,
   "id": "f3649c2e",
   "metadata": {},
   "outputs": [],
   "source": [
    "# Create model\n",
    "neigh = KNeighborsRegressor()"
   ]
  },
  {
   "cell_type": "code",
   "execution_count": 11,
   "id": "8d41f774",
   "metadata": {},
   "outputs": [
    {
     "data": {
      "text/plain": [
       "KNeighborsRegressor()"
      ]
     },
     "execution_count": 11,
     "metadata": {},
     "output_type": "execute_result"
    }
   ],
   "source": [
    "# Fit model\n",
    "neigh.fit(X_train, y_train)"
   ]
  },
  {
   "cell_type": "code",
   "execution_count": 12,
   "id": "44e8e9dd",
   "metadata": {},
   "outputs": [],
   "source": [
    "# Predict test data\n",
    "y_pred = neigh.predict(X_test)"
   ]
  },
  {
   "cell_type": "code",
   "execution_count": 13,
   "id": "662ccb5c",
   "metadata": {},
   "outputs": [],
   "source": [
    "# Result of prediction\n",
    "data = {'price': y_test,\n",
    "       'prediction': y_pred}\n",
    "df_pred = pd.DataFrame(data)"
   ]
  },
  {
   "cell_type": "code",
   "execution_count": 14,
   "id": "a4fe1427",
   "metadata": {},
   "outputs": [
    {
     "data": {
      "text/html": [
       "<div>\n",
       "<style scoped>\n",
       "    .dataframe tbody tr th:only-of-type {\n",
       "        vertical-align: middle;\n",
       "    }\n",
       "\n",
       "    .dataframe tbody tr th {\n",
       "        vertical-align: top;\n",
       "    }\n",
       "\n",
       "    .dataframe thead th {\n",
       "        text-align: right;\n",
       "    }\n",
       "</style>\n",
       "<table border=\"1\" class=\"dataframe\">\n",
       "  <thead>\n",
       "    <tr style=\"text-align: right;\">\n",
       "      <th></th>\n",
       "      <th>price</th>\n",
       "      <th>prediction</th>\n",
       "    </tr>\n",
       "  </thead>\n",
       "  <tbody>\n",
       "    <tr>\n",
       "      <th>3692</th>\n",
       "      <td>19900</td>\n",
       "      <td>10798.8</td>\n",
       "    </tr>\n",
       "    <tr>\n",
       "      <th>92885</th>\n",
       "      <td>4998</td>\n",
       "      <td>3824.6</td>\n",
       "    </tr>\n",
       "    <tr>\n",
       "      <th>7937</th>\n",
       "      <td>29990</td>\n",
       "      <td>29990.0</td>\n",
       "    </tr>\n",
       "    <tr>\n",
       "      <th>45589</th>\n",
       "      <td>51900</td>\n",
       "      <td>35373.8</td>\n",
       "    </tr>\n",
       "    <tr>\n",
       "      <th>92790</th>\n",
       "      <td>39590</td>\n",
       "      <td>39590.0</td>\n",
       "    </tr>\n",
       "    <tr>\n",
       "      <th>...</th>\n",
       "      <td>...</td>\n",
       "      <td>...</td>\n",
       "    </tr>\n",
       "    <tr>\n",
       "      <th>27879</th>\n",
       "      <td>12988</td>\n",
       "      <td>10786.8</td>\n",
       "    </tr>\n",
       "    <tr>\n",
       "      <th>43419</th>\n",
       "      <td>500</td>\n",
       "      <td>12198.6</td>\n",
       "    </tr>\n",
       "    <tr>\n",
       "      <th>87363</th>\n",
       "      <td>39999</td>\n",
       "      <td>41991.4</td>\n",
       "    </tr>\n",
       "    <tr>\n",
       "      <th>15131</th>\n",
       "      <td>1950</td>\n",
       "      <td>3740.0</td>\n",
       "    </tr>\n",
       "    <tr>\n",
       "      <th>96454</th>\n",
       "      <td>4997</td>\n",
       "      <td>4997.0</td>\n",
       "    </tr>\n",
       "  </tbody>\n",
       "</table>\n",
       "<p>10358 rows × 2 columns</p>\n",
       "</div>"
      ],
      "text/plain": [
       "       price  prediction\n",
       "3692   19900     10798.8\n",
       "92885   4998      3824.6\n",
       "7937   29990     29990.0\n",
       "45589  51900     35373.8\n",
       "92790  39590     39590.0\n",
       "...      ...         ...\n",
       "27879  12988     10786.8\n",
       "43419    500     12198.6\n",
       "87363  39999     41991.4\n",
       "15131   1950      3740.0\n",
       "96454   4997      4997.0\n",
       "\n",
       "[10358 rows x 2 columns]"
      ]
     },
     "execution_count": 14,
     "metadata": {},
     "output_type": "execute_result"
    }
   ],
   "source": [
    "df_pred"
   ]
  },
  {
   "cell_type": "code",
   "execution_count": 15,
   "id": "c515f71e",
   "metadata": {},
   "outputs": [
    {
     "name": "stdout",
     "output_type": "stream",
     "text": [
      "R Squared Error_score :  0.6109782558130417\n"
     ]
    }
   ],
   "source": [
    "# R squared Error\n",
    "error_score = metrics.r2_score(y_test, y_pred)\n",
    "print(\"R Squared Error_score : \",error_score)"
   ]
  },
  {
   "cell_type": "code",
   "execution_count": 16,
   "id": "b8e7116e",
   "metadata": {},
   "outputs": [
    {
     "data": {
      "image/png": "[encoded data removed]",
      "text/plain": [
       "<Figure size 432x288 with 1 Axes>"
      ]
     },
     "metadata": {
      "needs_background": "light"
     },
     "output_type": "display_data"
    }
   ],
   "source": [
    "plt.scatter(y_test,y_pred)\n",
    "plt.xlabel(\"Actual Price\")\n",
    "plt.ylabel(\" Predicted Price\")\n",
    "plt.title(\" Actual Prices vs Predicted Prices\")\n",
    "plt.show()"
   ]
  },
  {
   "cell_type": "code",
   "execution_count": 17,
   "id": "ef391e9e",
   "metadata": {},
   "outputs": [],
   "source": [
    "# Predict training data\n",
    "y_train_pred = neigh.predict(X_train)"
   ]
  },
  {
   "cell_type": "code",
   "execution_count": 18,
   "id": "f096670e",
   "metadata": {},
   "outputs": [
    {
     "name": "stdout",
     "output_type": "stream",
     "text": [
      "R Squared Error_score :  0.7680707504113622\n"
     ]
    }
   ],
   "source": [
    "# R squared Error\n",
    "error_score = metrics.r2_score(y_train, y_train_pred)\n",
    "print(\"R Squared Error_score : \",error_score)"
   ]
  },
  {
   "cell_type": "code",
   "execution_count": 19,
   "id": "f55b2b08",
   "metadata": {},
   "outputs": [
    {
     "data": {
      "image/png": "[encoded data removed]",
      "text/plain": [
       "<Figure size 432x288 with 1 Axes>"
      ]
     },
     "metadata": {
      "needs_background": "light"
     },
     "output_type": "display_data"
    }
   ],
   "source": [
    "plt.scatter(y_train,y_train_pred)\n",
    "plt.xlabel(\"Actual Price\")\n",
    "plt.ylabel(\" Predicted Price\")\n",
    "plt.title(\" Actual Prices vs Predicted Prices\")\n",
    "plt.show()"
   ]
  },
  {
   "cell_type": "code",
   "execution_count": 20,
   "id": "2a124ff9",
   "metadata": {},
   "outputs": [
    {
     "name": "stdout",
     "output_type": "stream",
     "text": [
      "MSE train: 40053118.609, test: 65799438.348\n"
     ]
    }
   ],
   "source": [
    "# Mean Square Error\n",
    "print('MSE train: %.3f, test: %.3f' % (mean_squared_error(y_train, y_train_pred),\n",
    "                mean_squared_error(y_test, y_pred)))"
   ]
  },
  {
   "cell_type": "code",
   "execution_count": 21,
   "id": "c33b3ff2",
   "metadata": {},
   "outputs": [
    {
     "name": "stdout",
     "output_type": "stream",
     "text": [
      "R^2 train: 0.768, test: 0.611\n"
     ]
    }
   ],
   "source": [
    "print('R^2 train: %.3f, test: %.3f' % (r2_score(y_train, y_train_pred),\n",
    "                r2_score(y_test, y_pred)))"
   ]
  },
  {
   "cell_type": "markdown",
   "id": "60d94ea9",
   "metadata": {},
   "source": [
    "# Linear Regression Model"
   ]
  },
  {
   "cell_type": "code",
   "execution_count": 22,
   "id": "9980315e",
   "metadata": {},
   "outputs": [],
   "source": [
    "# Loadinf the Linear Regression model\n",
    "lin_reg_model = LinearRegression()"
   ]
  },
  {
   "cell_type": "code",
   "execution_count": 23,
   "id": "a28a3da8",
   "metadata": {},
   "outputs": [
    {
     "data": {
      "text/plain": [
       "LinearRegression()"
      ]
     },
     "execution_count": 23,
     "metadata": {},
     "output_type": "execute_result"
    }
   ],
   "source": [
    "#fitting data to the linear Regression model\n",
    "lin_reg_model.fit(X_train, y_train)"
   ]
  },
  {
   "cell_type": "code",
   "execution_count": 24,
   "id": "4638721d",
   "metadata": {},
   "outputs": [],
   "source": [
    "# prediction on Testing data\n",
    "y_test_pred = lin_reg_model.predict(X_test)"
   ]
  },
  {
   "cell_type": "code",
   "execution_count": 25,
   "id": "ddddd404",
   "metadata": {},
   "outputs": [
    {
     "name": "stdout",
     "output_type": "stream",
     "text": [
      "R Squared Error_score :  0.753026984617314\n"
     ]
    }
   ],
   "source": [
    "# Checking Accuracy\n",
    "# R squared Error\n",
    "error_score = metrics.r2_score(y_test, y_test_pred)\n",
    "print(\"R Squared Error_score : \",error_score)"
   ]
  },
  {
   "cell_type": "code",
   "execution_count": 26,
   "id": "a9bd24c1",
   "metadata": {},
   "outputs": [
    {
     "data": {
      "image/png": "[encoded data removed]",
      "text/plain": [
       "<Figure size 432x288 with 1 Axes>"
      ]
     },
     "metadata": {
      "needs_background": "light"
     },
     "output_type": "display_data"
    }
   ],
   "source": [
    "plt.scatter(y_test,y_test_pred)\n",
    "plt.xlabel(\"Actual Price\")\n",
    "plt.ylabel(\" Predicted Price\")\n",
    "plt.title(\" Actual Prices vs Predicted Prices\")\n",
    "plt.show()"
   ]
  },
  {
   "cell_type": "code",
   "execution_count": 27,
   "id": "bd1244e1",
   "metadata": {},
   "outputs": [],
   "source": [
    "# prediction on Training data\n",
    "y_train_pred = lin_reg_model.predict(X_train)"
   ]
  },
  {
   "cell_type": "code",
   "execution_count": 28,
   "id": "b60d8cce",
   "metadata": {},
   "outputs": [
    {
     "name": "stdout",
     "output_type": "stream",
     "text": [
      "R Squared Error_score :  0.7571953794028752\n"
     ]
    }
   ],
   "source": [
    "# R squared Error\n",
    "error_score = metrics.r2_score(y_train, y_train_pred)\n",
    "print(\"R Squared Error_score : \",error_score)"
   ]
  },
  {
   "cell_type": "code",
   "execution_count": 29,
   "id": "4573cb9e",
   "metadata": {},
   "outputs": [
    {
     "data": {
      "text/html": [
       "<div>\n",
       "<style scoped>\n",
       "    .dataframe tbody tr th:only-of-type {\n",
       "        vertical-align: middle;\n",
       "    }\n",
       "\n",
       "    .dataframe tbody tr th {\n",
       "        vertical-align: top;\n",
       "    }\n",
       "\n",
       "    .dataframe thead th {\n",
       "        text-align: right;\n",
       "    }\n",
       "</style>\n",
       "<table border=\"1\" class=\"dataframe\">\n",
       "  <thead>\n",
       "    <tr style=\"text-align: right;\">\n",
       "      <th></th>\n",
       "      <th>price</th>\n",
       "      <th>prediction</th>\n",
       "    </tr>\n",
       "  </thead>\n",
       "  <tbody>\n",
       "    <tr>\n",
       "      <th>9802</th>\n",
       "      <td>5975</td>\n",
       "      <td>4925.817926</td>\n",
       "    </tr>\n",
       "    <tr>\n",
       "      <th>7648</th>\n",
       "      <td>7738</td>\n",
       "      <td>8734.688404</td>\n",
       "    </tr>\n",
       "    <tr>\n",
       "      <th>57346</th>\n",
       "      <td>10500</td>\n",
       "      <td>9323.259828</td>\n",
       "    </tr>\n",
       "    <tr>\n",
       "      <th>70682</th>\n",
       "      <td>10995</td>\n",
       "      <td>8065.046444</td>\n",
       "    </tr>\n",
       "    <tr>\n",
       "      <th>101997</th>\n",
       "      <td>39995</td>\n",
       "      <td>31390.476265</td>\n",
       "    </tr>\n",
       "    <tr>\n",
       "      <th>...</th>\n",
       "      <td>...</td>\n",
       "      <td>...</td>\n",
       "    </tr>\n",
       "    <tr>\n",
       "      <th>44566</th>\n",
       "      <td>13999</td>\n",
       "      <td>17018.379972</td>\n",
       "    </tr>\n",
       "    <tr>\n",
       "      <th>95816</th>\n",
       "      <td>6895</td>\n",
       "      <td>10018.783069</td>\n",
       "    </tr>\n",
       "    <tr>\n",
       "      <th>72173</th>\n",
       "      <td>15800</td>\n",
       "      <td>21442.032086</td>\n",
       "    </tr>\n",
       "    <tr>\n",
       "      <th>100879</th>\n",
       "      <td>34590</td>\n",
       "      <td>31768.841207</td>\n",
       "    </tr>\n",
       "    <tr>\n",
       "      <th>89256</th>\n",
       "      <td>16995</td>\n",
       "      <td>20131.985922</td>\n",
       "    </tr>\n",
       "  </tbody>\n",
       "</table>\n",
       "<p>93219 rows × 2 columns</p>\n",
       "</div>"
      ],
      "text/plain": [
       "        price    prediction\n",
       "9802     5975   4925.817926\n",
       "7648     7738   8734.688404\n",
       "57346   10500   9323.259828\n",
       "70682   10995   8065.046444\n",
       "101997  39995  31390.476265\n",
       "...       ...           ...\n",
       "44566   13999  17018.379972\n",
       "95816    6895  10018.783069\n",
       "72173   15800  21442.032086\n",
       "100879  34590  31768.841207\n",
       "89256   16995  20131.985922\n",
       "\n",
       "[93219 rows x 2 columns]"
      ]
     },
     "execution_count": 29,
     "metadata": {},
     "output_type": "execute_result"
    }
   ],
   "source": [
    "# Result of prediction\n",
    "data = {'price': y_train,\n",
    "       'prediction': y_train_pred}\n",
    "df_pred = pd.DataFrame(data)\n",
    "df_pred"
   ]
  },
  {
   "cell_type": "code",
   "execution_count": 30,
   "id": "832c430a",
   "metadata": {},
   "outputs": [
    {
     "data": {
      "image/png": "[encoded data removed]",
      "text/plain": [
       "<Figure size 432x288 with 1 Axes>"
      ]
     },
     "metadata": {
      "needs_background": "light"
     },
     "output_type": "display_data"
    }
   ],
   "source": [
    "plt.scatter(y_train,y_train_pred)\n",
    "plt.xlabel(\"Actual Price\")\n",
    "plt.ylabel(\" Predicted Price\")\n",
    "plt.title(\" Actual Prices vs Predicted Prices\")\n",
    "plt.show()"
   ]
  },
  {
   "cell_type": "code",
   "execution_count": 31,
   "id": "d96c834c",
   "metadata": {},
   "outputs": [
    {
     "name": "stdout",
     "output_type": "stream",
     "text": [
      "MSE train: 41931245.347, test: 41773206.619\n"
     ]
    }
   ],
   "source": [
    "# Mean Square Error\n",
    "print('MSE train: %.3f, test: %.3f' % (mean_squared_error(y_train, y_train_pred),\n",
    "                mean_squared_error(y_test, y_test_pred)))"
   ]
  },
  {
   "cell_type": "code",
   "execution_count": 32,
   "id": "222c77e9",
   "metadata": {},
   "outputs": [
    {
     "name": "stdout",
     "output_type": "stream",
     "text": [
      "R^2 train: 0.757, test: 0.753\n"
     ]
    }
   ],
   "source": [
    "print('R^2 train: %.3f, test: %.3f' % (r2_score(y_train, y_train_pred),\n",
    "                r2_score(y_test, y_test_pred)))"
   ]
  },
  {
   "cell_type": "markdown",
   "id": "e819a391",
   "metadata": {},
   "source": [
    "# Lasso Regression Model"
   ]
  },
  {
   "cell_type": "code",
   "execution_count": 33,
   "id": "9ad02aff",
   "metadata": {},
   "outputs": [],
   "source": [
    "# Loadinf the Lasso Regression model\n",
    "lass_reg_model = Lasso()"
   ]
  },
  {
   "cell_type": "code",
   "execution_count": 34,
   "id": "e59d214a",
   "metadata": {},
   "outputs": [
    {
     "data": {
      "text/plain": [
       "Lasso()"
      ]
     },
     "execution_count": 34,
     "metadata": {},
     "output_type": "execute_result"
    }
   ],
   "source": [
    "#fitting data to the linear Regression model\n",
    "lass_reg_model.fit(X_train, y_train)"
   ]
  },
  {
   "cell_type": "code",
   "execution_count": 35,
   "id": "8c680720",
   "metadata": {},
   "outputs": [],
   "source": [
    "# prediction on Training data\n",
    "y_train_pred = lass_reg_model.predict(X_train)"
   ]
  },
  {
   "cell_type": "code",
   "execution_count": 36,
   "id": "0db00ea5",
   "metadata": {},
   "outputs": [
    {
     "name": "stdout",
     "output_type": "stream",
     "text": [
      "R Squared Error_score :  0.757057518923647\n"
     ]
    }
   ],
   "source": [
    "# R squared Error\n",
    "error_score = metrics.r2_score(y_train, y_train_pred)\n",
    "print(\"R Squared Error_score : \",error_score)"
   ]
  },
  {
   "cell_type": "code",
   "execution_count": 37,
   "id": "db245f1d",
   "metadata": {},
   "outputs": [
    {
     "data": {
      "text/html": [
       "<div>\n",
       "<style scoped>\n",
       "    .dataframe tbody tr th:only-of-type {\n",
       "        vertical-align: middle;\n",
       "    }\n",
       "\n",
       "    .dataframe tbody tr th {\n",
       "        vertical-align: top;\n",
       "    }\n",
       "\n",
       "    .dataframe thead th {\n",
       "        text-align: right;\n",
       "    }\n",
       "</style>\n",
       "<table border=\"1\" class=\"dataframe\">\n",
       "  <thead>\n",
       "    <tr style=\"text-align: right;\">\n",
       "      <th></th>\n",
       "      <th>price</th>\n",
       "      <th>prediction</th>\n",
       "    </tr>\n",
       "  </thead>\n",
       "  <tbody>\n",
       "    <tr>\n",
       "      <th>9802</th>\n",
       "      <td>5975</td>\n",
       "      <td>5061.657132</td>\n",
       "    </tr>\n",
       "    <tr>\n",
       "      <th>7648</th>\n",
       "      <td>7738</td>\n",
       "      <td>8713.136469</td>\n",
       "    </tr>\n",
       "    <tr>\n",
       "      <th>57346</th>\n",
       "      <td>10500</td>\n",
       "      <td>9349.909769</td>\n",
       "    </tr>\n",
       "    <tr>\n",
       "      <th>70682</th>\n",
       "      <td>10995</td>\n",
       "      <td>8060.235985</td>\n",
       "    </tr>\n",
       "    <tr>\n",
       "      <th>101997</th>\n",
       "      <td>39995</td>\n",
       "      <td>31369.073162</td>\n",
       "    </tr>\n",
       "    <tr>\n",
       "      <th>...</th>\n",
       "      <td>...</td>\n",
       "      <td>...</td>\n",
       "    </tr>\n",
       "    <tr>\n",
       "      <th>44566</th>\n",
       "      <td>13999</td>\n",
       "      <td>17012.851323</td>\n",
       "    </tr>\n",
       "    <tr>\n",
       "      <th>95816</th>\n",
       "      <td>6895</td>\n",
       "      <td>10058.900995</td>\n",
       "    </tr>\n",
       "    <tr>\n",
       "      <th>72173</th>\n",
       "      <td>15800</td>\n",
       "      <td>21022.002655</td>\n",
       "    </tr>\n",
       "    <tr>\n",
       "      <th>100879</th>\n",
       "      <td>34590</td>\n",
       "      <td>31767.821925</td>\n",
       "    </tr>\n",
       "    <tr>\n",
       "      <th>89256</th>\n",
       "      <td>16995</td>\n",
       "      <td>20126.369909</td>\n",
       "    </tr>\n",
       "  </tbody>\n",
       "</table>\n",
       "<p>93219 rows × 2 columns</p>\n",
       "</div>"
      ],
      "text/plain": [
       "        price    prediction\n",
       "9802     5975   5061.657132\n",
       "7648     7738   8713.136469\n",
       "57346   10500   9349.909769\n",
       "70682   10995   8060.235985\n",
       "101997  39995  31369.073162\n",
       "...       ...           ...\n",
       "44566   13999  17012.851323\n",
       "95816    6895  10058.900995\n",
       "72173   15800  21022.002655\n",
       "100879  34590  31767.821925\n",
       "89256   16995  20126.369909\n",
       "\n",
       "[93219 rows x 2 columns]"
      ]
     },
     "execution_count": 37,
     "metadata": {},
     "output_type": "execute_result"
    }
   ],
   "source": [
    "# Result of prediction\n",
    "data = {'price': y_train,\n",
    "       'prediction': y_train_pred}\n",
    "df_pred = pd.DataFrame(data)\n",
    "df_pred"
   ]
  },
  {
   "cell_type": "code",
   "execution_count": 38,
   "id": "d10a2465",
   "metadata": {},
   "outputs": [
    {
     "data": {
      "image/png": "[encoded data removed]",
      "text/plain": [
       "<Figure size 432x288 with 1 Axes>"
      ]
     },
     "metadata": {
      "needs_background": "light"
     },
     "output_type": "display_data"
    }
   ],
   "source": [
    "plt.scatter(y_train,y_train_pred)\n",
    "plt.xlabel(\"Actual Price\")\n",
    "plt.ylabel(\" Predicted Price\")\n",
    "plt.title(\" Actual Prices vs Predicted Prices\")\n",
    "plt.show()"
   ]
  },
  {
   "cell_type": "code",
   "execution_count": 39,
   "id": "cbabb3dd",
   "metadata": {},
   "outputs": [],
   "source": [
    "# prediction on Testing data\n",
    "y_data_pred = lass_reg_model.predict(X_test)"
   ]
  },
  {
   "cell_type": "code",
   "execution_count": 40,
   "id": "2e5d498e",
   "metadata": {},
   "outputs": [
    {
     "name": "stdout",
     "output_type": "stream",
     "text": [
      "R Squared Error_score :  0.753026984617314\n"
     ]
    }
   ],
   "source": [
    "# R squared Error\n",
    "error_score = metrics.r2_score(y_test, y_test_pred)\n",
    "print(\"R Squared Error_score : \",error_score)"
   ]
  },
  {
   "cell_type": "code",
   "execution_count": 41,
   "id": "3a3b607c",
   "metadata": {},
   "outputs": [
    {
     "data": {
      "image/png": "[encoded data removed]",
      "text/plain": [
       "<Figure size 432x288 with 1 Axes>"
      ]
     },
     "metadata": {
      "needs_background": "light"
     },
     "output_type": "display_data"
    }
   ],
   "source": [
    "plt.scatter(y_test,y_test_pred)\n",
    "plt.xlabel(\"Actual Price\")\n",
    "plt.ylabel(\" Predicted Price\")\n",
    "plt.title(\" Actual Prices vs Predicted Prices\")\n",
    "plt.show()"
   ]
  },
  {
   "cell_type": "code",
   "execution_count": 42,
   "id": "a518ab81",
   "metadata": {},
   "outputs": [
    {
     "name": "stdout",
     "output_type": "stream",
     "text": [
      "MSE train: 41955053.220, test: 41773206.619\n"
     ]
    }
   ],
   "source": [
    "# Mean Square Error\n",
    "print('MSE train: %.3f, test: %.3f' % (mean_squared_error(y_train, y_train_pred),\n",
    "                mean_squared_error(y_test, y_test_pred)))"
   ]
  },
  {
   "cell_type": "code",
   "execution_count": 43,
   "id": "243550d0",
   "metadata": {},
   "outputs": [
    {
     "name": "stdout",
     "output_type": "stream",
     "text": [
      "R^2 train: 0.757, test: 0.753\n"
     ]
    }
   ],
   "source": [
    "print('R^2 train: %.3f, test: %.3f' % (r2_score(y_train, y_train_pred),\n",
    "                r2_score(y_test, y_test_pred)))"
   ]
  },
  {
   "cell_type": "code",
   "execution_count": null,
   "id": "78c86489",
   "metadata": {},
   "outputs": [],
   "source": []
  },
  {
   "cell_type": "code",
   "execution_count": null,
   "id": "ccb0ad37",
   "metadata": {},
   "outputs": [],
   "source": []
  }
 ],
 "metadata": {
  "kernelspec": {
   "display_name": "PythonData",
   "language": "python",
   "name": "pythondata"
  },
  "language_info": {
   "codemirror_mode": {
    "name": "ipython",
    "version": 3
   },
   "file_extension": ".py",
   "mimetype": "text/x-python",
   "name": "python",
   "nbconvert_exporter": "python",
   "pygments_lexer": "ipython3",
   "version": "3.7.13"
  }
 },
 "nbformat": 4,
 "nbformat_minor": 5
}
