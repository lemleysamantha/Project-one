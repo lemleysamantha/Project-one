{
 "cells": [
  {
   "cell_type": "code",
   "execution_count": 1,
   "id": "43c992a6",
   "metadata": {},
   "outputs": [],
   "source": [
    "import pandas as pd\n",
    "import numpy as np\n",
    "import datetime as dt\n",
    "import matplotlib.pyplot as plt\n",
    "import plotly.express as px"
   ]
  },
  {
   "cell_type": "code",
   "execution_count": 2,
   "id": "b58608da",
   "metadata": {},
   "outputs": [],
   "source": [
    "df = pd.read_csv(\"../Test/vehicles.csv\")"
   ]
  },
  {
   "cell_type": "markdown",
   "id": "35b73513",
   "metadata": {},
   "source": [
    "# Data preprocessing"
   ]
  },
  {
   "cell_type": "code",
   "execution_count": 3,
   "id": "6c24b0d7",
   "metadata": {},
   "outputs": [],
   "source": [
    "# Drop columns not needed and NaN \n",
    "df_columns = df.drop(columns=['url','region','region_url','VIN','size','paint_color','image_url','description','county','state','lat','long','posting_date'])\n",
    "df_columns_drop = df_columns.dropna()"
   ]
  },
  {
   "cell_type": "code",
   "execution_count": 4,
   "id": "54590577",
   "metadata": {},
   "outputs": [
    {
     "name": "stderr",
     "output_type": "stream",
     "text": [
      "C:\\Users\\happi\\anaconda3\\envs\\mlenv\\lib\\site-packages\\ipykernel_launcher.py:2: SettingWithCopyWarning: \n",
      "A value is trying to be set on a copy of a slice from a DataFrame.\n",
      "Try using .loc[row_indexer,col_indexer] = value instead\n",
      "\n",
      "See the caveats in the documentation: https://pandas.pydata.org/pandas-docs/stable/user_guide/indexing.html#returning-a-view-versus-a-copy\n",
      "  \n",
      "C:\\Users\\happi\\anaconda3\\envs\\mlenv\\lib\\site-packages\\ipykernel_launcher.py:4: SettingWithCopyWarning: \n",
      "A value is trying to be set on a copy of a slice from a DataFrame.\n",
      "Try using .loc[row_indexer,col_indexer] = value instead\n",
      "\n",
      "See the caveats in the documentation: https://pandas.pydata.org/pandas-docs/stable/user_guide/indexing.html#returning-a-view-versus-a-copy\n",
      "  after removing the cwd from sys.path.\n",
      "C:\\Users\\happi\\anaconda3\\envs\\mlenv\\lib\\site-packages\\ipykernel_launcher.py:5: SettingWithCopyWarning: \n",
      "A value is trying to be set on a copy of a slice from a DataFrame.\n",
      "Try using .loc[row_indexer,col_indexer] = value instead\n",
      "\n",
      "See the caveats in the documentation: https://pandas.pydata.org/pandas-docs/stable/user_guide/indexing.html#returning-a-view-versus-a-copy\n",
      "  \"\"\"\n",
      "C:\\Users\\happi\\anaconda3\\envs\\mlenv\\lib\\site-packages\\ipykernel_launcher.py:7: SettingWithCopyWarning: \n",
      "A value is trying to be set on a copy of a slice from a DataFrame.\n",
      "Try using .loc[row_indexer,col_indexer] = value instead\n",
      "\n",
      "See the caveats in the documentation: https://pandas.pydata.org/pandas-docs/stable/user_guide/indexing.html#returning-a-view-versus-a-copy\n",
      "  import sys\n",
      "C:\\Users\\happi\\anaconda3\\envs\\mlenv\\lib\\site-packages\\ipykernel_launcher.py:8: SettingWithCopyWarning: \n",
      "A value is trying to be set on a copy of a slice from a DataFrame.\n",
      "Try using .loc[row_indexer,col_indexer] = value instead\n",
      "\n",
      "See the caveats in the documentation: https://pandas.pydata.org/pandas-docs/stable/user_guide/indexing.html#returning-a-view-versus-a-copy\n",
      "  \n",
      "C:\\Users\\happi\\anaconda3\\envs\\mlenv\\lib\\site-packages\\ipykernel_launcher.py:9: SettingWithCopyWarning: \n",
      "A value is trying to be set on a copy of a slice from a DataFrame.\n",
      "Try using .loc[row_indexer,col_indexer] = value instead\n",
      "\n",
      "See the caveats in the documentation: https://pandas.pydata.org/pandas-docs/stable/user_guide/indexing.html#returning-a-view-versus-a-copy\n",
      "  if __name__ == '__main__':\n"
     ]
    }
   ],
   "source": [
    "# Data conversion\n",
    "df_columns_drop['id'] = df_columns_drop['id'].astype(str)\n",
    "\n",
    "df_columns_drop['year'] = df_columns_drop['year'].astype('int')\n",
    "df_columns_drop['year'] = pd.to_datetime(df_columns_drop['year'].astype(str))\n",
    "\n",
    "df_columns_drop['cylinders'] = df_columns_drop['cylinders'].str.replace(' cylinders','')\n",
    "df_columns_drop['cylinders'] = df_columns_drop['cylinders'].str.replace('other','0')\n",
    "df_columns_drop['cylinders'] = df_columns_drop['cylinders'].astype('int')"
   ]
  },
  {
   "cell_type": "code",
   "execution_count": 5,
   "id": "5084a9b1",
   "metadata": {},
   "outputs": [],
   "source": [
    "# Remove outliers in price\n",
    "df_price = df_columns_drop[df_columns_drop['price'] <= 100000]"
   ]
  },
  {
   "cell_type": "code",
   "execution_count": 6,
   "id": "ca6ca83a",
   "metadata": {},
   "outputs": [],
   "source": [
    "# In addition, keep data between 2001 and 2020\n",
    "df_date = df_price[(df_price['year'] >= dt.datetime(2001,1,1)) & (df_price['year'] < dt.datetime(2021,1,1))]"
   ]
  },
  {
   "cell_type": "code",
   "execution_count": 7,
   "id": "bb3ef73e",
   "metadata": {},
   "outputs": [],
   "source": [
    "# Remove outliers in odometer\n",
    "df_od = df_date[df_date['odometer'] <= 200000]"
   ]
  },
  {
   "cell_type": "code",
   "execution_count": 8,
   "id": "a5dfca49",
   "metadata": {},
   "outputs": [],
   "source": [
    "# Select 'clean' for title status, 'gas' for fuel, and 'automatic' for transmission\n",
    "df_std = df_od[(df_od['title_status'] == 'clean') & (df_od['fuel'] == 'gas') & (df_od['transmission'] == 'automatic')]"
   ]
  },
  {
   "cell_type": "code",
   "execution_count": 9,
   "id": "c8b80ccb",
   "metadata": {},
   "outputs": [],
   "source": [
    "# Specify outliers in each year\n",
    "outlier_2001 = df_std.index[(df_std['year'] == dt.datetime(2001,1,1)) & (df_std['price'] > 40000)]\n",
    "outlier_2002 = df_std.index[(df_std['year'] == dt.datetime(2002,1,1)) & (df_std['price'] > 40000)]"
   ]
  },
  {
   "cell_type": "code",
   "execution_count": 10,
   "id": "3966af85",
   "metadata": {},
   "outputs": [],
   "source": [
    "# Remove specified outliers\n",
    "df_std_drop = df_std.drop(outlier_2001)\n",
    "df_std_drop = df_std_drop.drop(outlier_2002)"
   ]
  },
  {
   "cell_type": "code",
   "execution_count": 12,
   "id": "43c825a5",
   "metadata": {},
   "outputs": [],
   "source": [
    "# Select columns for analysis\n",
    "df_test = df_std_drop.loc[:,['price','year','cylinders','odometer','drive','condition']]"
   ]
  },
  {
   "cell_type": "code",
   "execution_count": 21,
   "id": "7d3ccef4",
   "metadata": {},
   "outputs": [],
   "source": [
    "# Create our features and target\n",
    "X = df_test.copy().drop('price', axis=1)\n",
    "X = pd.get_dummies(X, columns=['year','drive','condition'])\n",
    "y = df_test['price']"
   ]
  },
  {
   "cell_type": "code",
   "execution_count": 16,
   "id": "4b270912",
   "metadata": {},
   "outputs": [],
   "source": [
    "from sklearn.model_selection import train_test_split\n",
    "from sklearn.tree import DecisionTreeRegressor"
   ]
  },
  {
   "cell_type": "code",
   "execution_count": 22,
   "id": "33afe56b",
   "metadata": {},
   "outputs": [],
   "source": [
    "# Create training and testing datasets\n",
    "X_train, X_test, y_train, y_test = train_test_split(X,y,random_state=1)"
   ]
  },
  {
   "cell_type": "code",
   "execution_count": 30,
   "id": "c77ea3d9",
   "metadata": {},
   "outputs": [],
   "source": [
    "# Create model\n",
    "regr_1 = DecisionTreeRegressor(max_depth=5)\n",
    "regr_2 = DecisionTreeRegressor(max_depth=10)\n",
    "regr_3 = DecisionTreeRegressor(max_depth=15)"
   ]
  },
  {
   "cell_type": "code",
   "execution_count": 31,
   "id": "77a8fd7c",
   "metadata": {},
   "outputs": [
    {
     "data": {
      "text/plain": [
       "DecisionTreeRegressor(max_depth=15)"
      ]
     },
     "execution_count": 31,
     "metadata": {},
     "output_type": "execute_result"
    }
   ],
   "source": [
    "# Fit model\n",
    "regr_1.fit(X_train, y_train)\n",
    "regr_2.fit(X_train, y_train)\n",
    "regr_3.fit(X_train, y_train)"
   ]
  },
  {
   "cell_type": "code",
   "execution_count": 25,
   "id": "1ba5799d",
   "metadata": {},
   "outputs": [],
   "source": [
    "# Make prediction 1 \n",
    "y_pred_1 = regr_1.predict(X_test)"
   ]
  },
  {
   "cell_type": "code",
   "execution_count": 26,
   "id": "27cd4513",
   "metadata": {},
   "outputs": [],
   "source": [
    "# Make prediction 2\n",
    "y_pred_2 = regr_2.predict(X_test)"
   ]
  },
  {
   "cell_type": "code",
   "execution_count": 32,
   "id": "97ecdfc4",
   "metadata": {},
   "outputs": [],
   "source": [
    "# Make prediction 3\n",
    "y_pred_3 = regr_3.predict(X_test)"
   ]
  },
  {
   "cell_type": "code",
   "execution_count": 33,
   "id": "0cd3559b",
   "metadata": {},
   "outputs": [],
   "source": [
    "# Result of prediction\n",
    "data = {'price': y_test,\n",
    "       'prediction 1': y_pred_1,\n",
    "       'prediction 2': y_pred_2,\n",
    "       'prediction 3': y_pred_3}\n",
    "df_pred = pd.DataFrame(data)"
   ]
  },
  {
   "cell_type": "code",
   "execution_count": 35,
   "id": "ddef8bfe",
   "metadata": {},
   "outputs": [
    {
     "data": {
      "text/html": [
       "<div>\n",
       "<style scoped>\n",
       "    .dataframe tbody tr th:only-of-type {\n",
       "        vertical-align: middle;\n",
       "    }\n",
       "\n",
       "    .dataframe tbody tr th {\n",
       "        vertical-align: top;\n",
       "    }\n",
       "\n",
       "    .dataframe thead th {\n",
       "        text-align: right;\n",
       "    }\n",
       "</style>\n",
       "<table border=\"1\" class=\"dataframe\">\n",
       "  <thead>\n",
       "    <tr style=\"text-align: right;\">\n",
       "      <th></th>\n",
       "      <th>price</th>\n",
       "      <th>prediction 1</th>\n",
       "      <th>prediction 2</th>\n",
       "      <th>prediction 3</th>\n",
       "    </tr>\n",
       "  </thead>\n",
       "  <tbody>\n",
       "    <tr>\n",
       "      <th>15848</th>\n",
       "      <td>9995</td>\n",
       "      <td>12624.927677</td>\n",
       "      <td>9936.761079</td>\n",
       "      <td>11483.583333</td>\n",
       "    </tr>\n",
       "    <tr>\n",
       "      <th>92420</th>\n",
       "      <td>3995</td>\n",
       "      <td>8609.802217</td>\n",
       "      <td>7036.790550</td>\n",
       "      <td>5464.692308</td>\n",
       "    </tr>\n",
       "    <tr>\n",
       "      <th>250543</th>\n",
       "      <td>7495</td>\n",
       "      <td>8609.802217</td>\n",
       "      <td>9582.125275</td>\n",
       "      <td>8091.240000</td>\n",
       "    </tr>\n",
       "    <tr>\n",
       "      <th>358288</th>\n",
       "      <td>10743</td>\n",
       "      <td>8609.802217</td>\n",
       "      <td>7036.790550</td>\n",
       "      <td>6789.116418</td>\n",
       "    </tr>\n",
       "    <tr>\n",
       "      <th>179232</th>\n",
       "      <td>17600</td>\n",
       "      <td>23098.326180</td>\n",
       "      <td>22275.525915</td>\n",
       "      <td>19367.952381</td>\n",
       "    </tr>\n",
       "    <tr>\n",
       "      <th>...</th>\n",
       "      <td>...</td>\n",
       "      <td>...</td>\n",
       "      <td>...</td>\n",
       "      <td>...</td>\n",
       "    </tr>\n",
       "    <tr>\n",
       "      <th>62514</th>\n",
       "      <td>59950</td>\n",
       "      <td>26255.227355</td>\n",
       "      <td>28875.434146</td>\n",
       "      <td>31390.942308</td>\n",
       "    </tr>\n",
       "    <tr>\n",
       "      <th>158172</th>\n",
       "      <td>15900</td>\n",
       "      <td>12624.927677</td>\n",
       "      <td>9936.761079</td>\n",
       "      <td>14630.115207</td>\n",
       "    </tr>\n",
       "    <tr>\n",
       "      <th>4774</th>\n",
       "      <td>10500</td>\n",
       "      <td>7339.107227</td>\n",
       "      <td>9414.132653</td>\n",
       "      <td>10539.585938</td>\n",
       "    </tr>\n",
       "    <tr>\n",
       "      <th>39820</th>\n",
       "      <td>14995</td>\n",
       "      <td>8609.802217</td>\n",
       "      <td>7036.790550</td>\n",
       "      <td>11041.906250</td>\n",
       "    </tr>\n",
       "    <tr>\n",
       "      <th>273803</th>\n",
       "      <td>25695</td>\n",
       "      <td>16952.722603</td>\n",
       "      <td>20837.015957</td>\n",
       "      <td>20041.980263</td>\n",
       "    </tr>\n",
       "  </tbody>\n",
       "</table>\n",
       "<p>19104 rows × 4 columns</p>\n",
       "</div>"
      ],
      "text/plain": [
       "        price  prediction 1  prediction 2  prediction 3\n",
       "15848    9995  12624.927677   9936.761079  11483.583333\n",
       "92420    3995   8609.802217   7036.790550   5464.692308\n",
       "250543   7495   8609.802217   9582.125275   8091.240000\n",
       "358288  10743   8609.802217   7036.790550   6789.116418\n",
       "179232  17600  23098.326180  22275.525915  19367.952381\n",
       "...       ...           ...           ...           ...\n",
       "62514   59950  26255.227355  28875.434146  31390.942308\n",
       "158172  15900  12624.927677   9936.761079  14630.115207\n",
       "4774    10500   7339.107227   9414.132653  10539.585938\n",
       "39820   14995   8609.802217   7036.790550  11041.906250\n",
       "273803  25695  16952.722603  20837.015957  20041.980263\n",
       "\n",
       "[19104 rows x 4 columns]"
      ]
     },
     "execution_count": 35,
     "metadata": {},
     "output_type": "execute_result"
    }
   ],
   "source": [
    "df_pred"
   ]
  },
  {
   "cell_type": "code",
   "execution_count": null,
   "id": "f11935cd",
   "metadata": {},
   "outputs": [],
   "source": []
  }
 ],
 "metadata": {
  "kernelspec": {
   "display_name": "ML environment",
   "language": "python",
   "name": "mlenv"
  },
  "language_info": {
   "codemirror_mode": {
    "name": "ipython",
    "version": 3
   },
   "file_extension": ".py",
   "mimetype": "text/x-python",
   "name": "python",
   "nbconvert_exporter": "python",
   "pygments_lexer": "ipython3",
   "version": "3.7.13"
  }
 },
 "nbformat": 4,
 "nbformat_minor": 5
}
