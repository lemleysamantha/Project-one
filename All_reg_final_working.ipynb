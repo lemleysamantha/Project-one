{
 "cells": [
  {
   "cell_type": "code",
   "execution_count": 151,
   "id": "8c2a7979",
   "metadata": {},
   "outputs": [
    {
     "ename": "ModuleNotFoundError",
     "evalue": "No module named 'pandas_profiling'",
     "output_type": "error",
     "traceback": [
      "\u001b[1;31m---------------------------------------------------------------------------\u001b[0m",
      "\u001b[1;31mModuleNotFoundError\u001b[0m                       Traceback (most recent call last)",
      "\u001b[1;32m~\\AppData\\Local\\Temp\\ipykernel_1504\\1679843857.py\u001b[0m in \u001b[0;36m<module>\u001b[1;34m\u001b[0m\n\u001b[0;32m     19\u001b[0m \u001b[1;32mfrom\u001b[0m \u001b[0msklearn\u001b[0m\u001b[1;33m.\u001b[0m\u001b[0mpipeline\u001b[0m \u001b[1;32mimport\u001b[0m \u001b[0mPipeline\u001b[0m\u001b[1;33m\u001b[0m\u001b[1;33m\u001b[0m\u001b[0m\n\u001b[0;32m     20\u001b[0m \u001b[1;32mfrom\u001b[0m \u001b[0msklearn\u001b[0m\u001b[1;33m.\u001b[0m\u001b[0mmodel_selection\u001b[0m \u001b[1;32mimport\u001b[0m \u001b[0mGridSearchCV\u001b[0m\u001b[1;33m,\u001b[0m \u001b[0mcross_val_score\u001b[0m\u001b[1;33m\u001b[0m\u001b[1;33m\u001b[0m\u001b[0m\n\u001b[1;32m---> 21\u001b[1;33m \u001b[1;32mimport\u001b[0m \u001b[0mpandas_profiling\u001b[0m \u001b[1;32mas\u001b[0m \u001b[0mpp\u001b[0m\u001b[1;33m\u001b[0m\u001b[1;33m\u001b[0m\u001b[0m\n\u001b[0m",
      "\u001b[1;31mModuleNotFoundError\u001b[0m: No module named 'pandas_profiling'"
     ]
    }
   ],
   "source": [
    "import pandas as pd\n",
    "import numpy as np\n",
    "import matplotlib.pyplot as plt\n",
    "import plotly.express as px\n",
    "import matplotlib.pyplot as plt\n",
    "import seaborn as sns\n",
    "\n",
    "from sklearn.neighbors import KNeighborsRegressor\n",
    "from sklearn.linear_model import LinearRegression\n",
    "from sklearn.linear_model import Lasso\n",
    "from sklearn import preprocessing\n",
    "from sklearn.model_selection import train_test_split\n",
    "from sklearn.tree import DecisionTreeRegressor\n",
    "from sklearn import metrics\n",
    "from sklearn.metrics import mean_squared_error, r2_score\n",
    "from sklearn.preprocessing import StandardScaler,OneHotEncoder\n",
    "\n",
    "# Import GridSearchCV libraries\n",
    "from sklearn.pipeline import Pipeline\n",
    "from sklearn.model_selection import GridSearchCV, cross_val_score\n"
   ]
  },
  {
   "cell_type": "markdown",
   "id": "a0f232bf",
   "metadata": {},
   "source": [
    "### Loading Data"
   ]
  },
  {
   "cell_type": "code",
   "execution_count": 58,
   "id": "b540acd1",
   "metadata": {},
   "outputs": [],
   "source": [
    "df = pd.read_csv(\"vehicles_maindata.csv\")"
   ]
  },
  {
   "cell_type": "code",
   "execution_count": 132,
   "id": "d5cf9574",
   "metadata": {
    "scrolled": true
   },
   "outputs": [
    {
     "data": {
      "text/plain": [
       "Index(['Unnamed: 0', 'id', 'price', 'year', 'manufacturer', 'model',\n",
       "       'condition', 'cylinders', 'fuel', 'odometer', 'title_status',\n",
       "       'transmission', 'drive', 'type', 'area'],\n",
       "      dtype='object')"
      ]
     },
     "execution_count": 132,
     "metadata": {},
     "output_type": "execute_result"
    }
   ],
   "source": [
    "# Main Dataset\n",
    "df.columns"
   ]
  },
  {
   "cell_type": "code",
   "execution_count": 152,
   "id": "1e32f07f",
   "metadata": {},
   "outputs": [
    {
     "data": {
      "text/plain": [
       "Unnamed: 0        int64\n",
       "id                int64\n",
       "price             int64\n",
       "year             object\n",
       "manufacturer     object\n",
       "model            object\n",
       "condition        object\n",
       "cylinders         int64\n",
       "fuel             object\n",
       "odometer        float64\n",
       "title_status     object\n",
       "transmission     object\n",
       "drive            object\n",
       "type             object\n",
       "area             object\n",
       "dtype: object"
      ]
     },
     "execution_count": 152,
     "metadata": {},
     "output_type": "execute_result"
    }
   ],
   "source": [
    "df.dtypes"
   ]
  },
  {
   "cell_type": "markdown",
   "id": "deacbe38",
   "metadata": {},
   "source": [
    "# DecisionTreeRegressor"
   ]
  },
  {
   "cell_type": "markdown",
   "id": "cff8630a",
   "metadata": {},
   "source": [
    "### Data Selection"
   ]
  },
  {
   "cell_type": "code",
   "execution_count": 133,
   "id": "0c7a08af",
   "metadata": {},
   "outputs": [],
   "source": [
    "# Select columns for prediction with Decision Tree Regressor\n",
    "df_1 = df.loc[:,['price', 'year', 'manufacturer', \n",
    "       'condition', 'cylinders', 'fuel', 'odometer', 'title_status',\n",
    "       'transmission', 'drive', 'area']]"
   ]
  },
  {
   "cell_type": "code",
   "execution_count": 134,
   "id": "11578e5b",
   "metadata": {},
   "outputs": [
    {
     "data": {
      "text/html": [
       "<div>\n",
       "<style scoped>\n",
       "    .dataframe tbody tr th:only-of-type {\n",
       "        vertical-align: middle;\n",
       "    }\n",
       "\n",
       "    .dataframe tbody tr th {\n",
       "        vertical-align: top;\n",
       "    }\n",
       "\n",
       "    .dataframe thead th {\n",
       "        text-align: right;\n",
       "    }\n",
       "</style>\n",
       "<table border=\"1\" class=\"dataframe\">\n",
       "  <thead>\n",
       "    <tr style=\"text-align: right;\">\n",
       "      <th></th>\n",
       "      <th>price</th>\n",
       "      <th>year</th>\n",
       "      <th>manufacturer</th>\n",
       "      <th>condition</th>\n",
       "      <th>cylinders</th>\n",
       "      <th>fuel</th>\n",
       "      <th>odometer</th>\n",
       "      <th>title_status</th>\n",
       "      <th>transmission</th>\n",
       "      <th>drive</th>\n",
       "      <th>area</th>\n",
       "    </tr>\n",
       "  </thead>\n",
       "  <tbody>\n",
       "    <tr>\n",
       "      <th>0</th>\n",
       "      <td>15000</td>\n",
       "      <td>2013-01-01</td>\n",
       "      <td>ford</td>\n",
       "      <td>excellent</td>\n",
       "      <td>6</td>\n",
       "      <td>gas</td>\n",
       "      <td>128000.0</td>\n",
       "      <td>clean</td>\n",
       "      <td>automatic</td>\n",
       "      <td>rwd</td>\n",
       "      <td>south</td>\n",
       "    </tr>\n",
       "    <tr>\n",
       "      <th>1</th>\n",
       "      <td>27990</td>\n",
       "      <td>2012-01-01</td>\n",
       "      <td>gmc</td>\n",
       "      <td>good</td>\n",
       "      <td>8</td>\n",
       "      <td>gas</td>\n",
       "      <td>68696.0</td>\n",
       "      <td>clean</td>\n",
       "      <td>other</td>\n",
       "      <td>4wd</td>\n",
       "      <td>south</td>\n",
       "    </tr>\n",
       "    <tr>\n",
       "      <th>2</th>\n",
       "      <td>34590</td>\n",
       "      <td>2016-01-01</td>\n",
       "      <td>chevrolet</td>\n",
       "      <td>good</td>\n",
       "      <td>6</td>\n",
       "      <td>gas</td>\n",
       "      <td>29499.0</td>\n",
       "      <td>clean</td>\n",
       "      <td>other</td>\n",
       "      <td>4wd</td>\n",
       "      <td>south</td>\n",
       "    </tr>\n",
       "    <tr>\n",
       "      <th>3</th>\n",
       "      <td>35000</td>\n",
       "      <td>2019-01-01</td>\n",
       "      <td>toyota</td>\n",
       "      <td>excellent</td>\n",
       "      <td>6</td>\n",
       "      <td>gas</td>\n",
       "      <td>43000.0</td>\n",
       "      <td>clean</td>\n",
       "      <td>automatic</td>\n",
       "      <td>4wd</td>\n",
       "      <td>south</td>\n",
       "    </tr>\n",
       "    <tr>\n",
       "      <th>4</th>\n",
       "      <td>29990</td>\n",
       "      <td>2016-01-01</td>\n",
       "      <td>chevrolet</td>\n",
       "      <td>good</td>\n",
       "      <td>6</td>\n",
       "      <td>gas</td>\n",
       "      <td>17302.0</td>\n",
       "      <td>clean</td>\n",
       "      <td>other</td>\n",
       "      <td>4wd</td>\n",
       "      <td>south</td>\n",
       "    </tr>\n",
       "  </tbody>\n",
       "</table>\n",
       "</div>"
      ],
      "text/plain": [
       "   price        year manufacturer  condition  cylinders fuel  odometer  \\\n",
       "0  15000  2013-01-01         ford  excellent          6  gas  128000.0   \n",
       "1  27990  2012-01-01          gmc       good          8  gas   68696.0   \n",
       "2  34590  2016-01-01    chevrolet       good          6  gas   29499.0   \n",
       "3  35000  2019-01-01       toyota  excellent          6  gas   43000.0   \n",
       "4  29990  2016-01-01    chevrolet       good          6  gas   17302.0   \n",
       "\n",
       "  title_status transmission drive   area  \n",
       "0        clean    automatic   rwd  south  \n",
       "1        clean        other   4wd  south  \n",
       "2        clean        other   4wd  south  \n",
       "3        clean    automatic   4wd  south  \n",
       "4        clean        other   4wd  south  "
      ]
     },
     "execution_count": 134,
     "metadata": {},
     "output_type": "execute_result"
    }
   ],
   "source": [
    "df_1.head()"
   ]
  },
  {
   "cell_type": "code",
   "execution_count": 148,
   "id": "0b5de465",
   "metadata": {},
   "outputs": [
    {
     "data": {
      "text/plain": [
       "price             int64\n",
       "year             object\n",
       "manufacturer     object\n",
       "condition        object\n",
       "cylinders         int64\n",
       "fuel             object\n",
       "odometer        float64\n",
       "title_status     object\n",
       "transmission     object\n",
       "drive            object\n",
       "area             object\n",
       "dtype: object"
      ]
     },
     "execution_count": 148,
     "metadata": {},
     "output_type": "execute_result"
    }
   ],
   "source": [
    "df_1.dtypes"
   ]
  },
  {
   "cell_type": "code",
   "execution_count": 140,
   "id": "93aca751",
   "metadata": {},
   "outputs": [
    {
     "name": "stderr",
     "output_type": "stream",
     "text": [
      "C:\\Users\\shahl\\anaconda3\\envs\\PythonData\\lib\\site-packages\\ipykernel_launcher.py:5: DeprecationWarning: `np.bool` is a deprecated alias for the builtin `bool`. To silence this warning, use `bool` by itself. Doing this will not modify any behavior and is safe. If you specifically wanted the numpy scalar type, use `np.bool_` here.\n",
      "Deprecated in NumPy 1.20; for more details and guidance: https://numpy.org/devdocs/release/1.20.0-notes.html#deprecations\n",
      "  \"\"\"\n"
     ]
    },
    {
     "data": {
      "text/plain": [
       "<AxesSubplot:>"
      ]
     },
     "execution_count": 140,
     "metadata": {},
     "output_type": "execute_result"
    },
    {
     "data": {
      "image/png": "[encoded data removed]",
      "text/plain": [
       "<Figure size 720x576 with 2 Axes>"
      ]
     },
     "metadata": {
      "needs_background": "light"
     },
     "output_type": "display_data"
    }
   ],
   "source": [
    "# Visual representation of correlation outputs using seaborn :\n",
    "\n",
    "f, ax = plt.subplots(figsize=(10, 8))\n",
    "corr = df_1.corr()\n",
    "sns.heatmap(corr, mask=np.zeros_like(corr, dtype=np.bool), cmap=sns.diverging_palette(20,120, as_cmap=True),\n",
    "            square=True, ax=ax)\n",
    "##### features are positively correlated with correlation value is below 0.50"
   ]
  },
  {
   "cell_type": "code",
   "execution_count": 147,
   "id": "56c9ec33",
   "metadata": {},
   "outputs": [
    {
     "data": {
      "image/png": "[encoded data removed]",
      "text/plain": [
       "<Figure size 432x288 with 2 Axes>"
      ]
     },
     "metadata": {
      "needs_background": "light"
     },
     "output_type": "display_data"
    }
   ],
   "source": [
    "sns.heatmap(df_1.corr());"
   ]
  },
  {
   "cell_type": "code",
   "execution_count": 62,
   "id": "354fd0de",
   "metadata": {},
   "outputs": [
    {
     "data": {
      "text/plain": [
       "<bound method DataFrame.info of         price        year manufacturer  condition  cylinders fuel  odometer  \\\n",
       "0       15000  2013-01-01         ford  excellent          6  gas  128000.0   \n",
       "1       27990  2012-01-01          gmc       good          8  gas   68696.0   \n",
       "2       34590  2016-01-01    chevrolet       good          6  gas   29499.0   \n",
       "3       35000  2019-01-01       toyota  excellent          6  gas   43000.0   \n",
       "4       29990  2016-01-01    chevrolet       good          6  gas   17302.0   \n",
       "...       ...         ...          ...        ...        ...  ...       ...   \n",
       "103572  39990  2017-01-01     infiniti       good          8  gas   41664.0   \n",
       "103573  32990  2016-01-01     infiniti       good          8  gas   55612.0   \n",
       "103574  33590  2018-01-01        lexus       good          6  gas   30814.0   \n",
       "103575  23590  2019-01-01       nissan       good          6  gas   32226.0   \n",
       "103576  28990  2018-01-01        lexus       good          6  gas   30112.0   \n",
       "\n",
       "       title_status transmission drive   area  \n",
       "0             clean    automatic   rwd  south  \n",
       "1             clean        other   4wd  south  \n",
       "2             clean        other   4wd  south  \n",
       "3             clean    automatic   4wd  south  \n",
       "4             clean        other   4wd  south  \n",
       "...             ...          ...   ...    ...  \n",
       "103572        clean    automatic   4wd   west  \n",
       "103573        clean    automatic   rwd   west  \n",
       "103574        clean    automatic   rwd   west  \n",
       "103575        clean        other   fwd   west  \n",
       "103576        clean        other   fwd   west  \n",
       "\n",
       "[103577 rows x 11 columns]>"
      ]
     },
     "execution_count": 62,
     "metadata": {},
     "output_type": "execute_result"
    }
   ],
   "source": [
    "df_1.info"
   ]
  },
  {
   "cell_type": "markdown",
   "id": "69cf5a92",
   "metadata": {},
   "source": [
    "### Split Training and Testing Data"
   ]
  },
  {
   "cell_type": "code",
   "execution_count": 63,
   "id": "cdc8491f",
   "metadata": {},
   "outputs": [],
   "source": [
    "# Create features and target\n",
    "X = df_1.copy().drop('price', axis=1)\n",
    "X=pd.get_dummies(X)\n",
    "\n",
    "# Create our target\n",
    "y = df_1['price']"
   ]
  },
  {
   "cell_type": "code",
   "execution_count": 64,
   "id": "ba4947a7",
   "metadata": {},
   "outputs": [],
   "source": [
    "# Create training and testing datasets\n",
    "X_train, X_test, y_train, y_test = train_test_split(X,y,random_state=1)"
   ]
  },
  {
   "cell_type": "markdown",
   "id": "699a03b1",
   "metadata": {},
   "source": [
    "### Loading Model"
   ]
  },
  {
   "cell_type": "code",
   "execution_count": 65,
   "id": "7c736fbb",
   "metadata": {},
   "outputs": [],
   "source": [
    "# Create a machine learning model\n",
    "regr = DecisionTreeRegressor()"
   ]
  },
  {
   "cell_type": "code",
   "execution_count": 66,
   "id": "fb9e249a",
   "metadata": {},
   "outputs": [],
   "source": [
    "# Make an object pipe to create pipeline for regr\n",
    "pipe = Pipeline(steps=[('regr',regr)])"
   ]
  },
  {
   "cell_type": "code",
   "execution_count": 67,
   "id": "e60fe981",
   "metadata": {},
   "outputs": [],
   "source": [
    "# Set parameters as value list from which GridSearchCV will select best value\n",
    "max_depth = [1,2,3,4,5,6,7,8,9,10,11,12,13,14,15]"
   ]
  },
  {
   "cell_type": "code",
   "execution_count": 68,
   "id": "4529a330",
   "metadata": {},
   "outputs": [],
   "source": [
    "# Create dictionary to set parameters\n",
    "parameters = dict(regr__max_depth=max_depth)"
   ]
  },
  {
   "cell_type": "code",
   "execution_count": 69,
   "id": "c567016a",
   "metadata": {},
   "outputs": [
    {
     "data": {
      "text/plain": [
       "GridSearchCV(estimator=Pipeline(steps=[('regr', DecisionTreeRegressor())]),\n",
       "             param_grid={'regr__max_depth': [1, 2, 3, 4, 5, 6, 7, 8, 9, 10, 11,\n",
       "                                             12, 13, 14, 15]})"
      ]
     },
     "execution_count": 69,
     "metadata": {},
     "output_type": "execute_result"
    }
   ],
   "source": [
    "# Create GridSearchCV object and fot dataset i.e., X and y\n",
    "pred = GridSearchCV(pipe, parameters)\n",
    "pred.fit(X, y)"
   ]
  },
  {
   "cell_type": "markdown",
   "id": "f9f8010a",
   "metadata": {},
   "source": [
    "In a Jupyter environment, please rerun this cell to show the HTML representation or trust the notebook.\n",
    "On GitHub, the HTML representation is unable to render, please try loading this page with nbviewer.org."
   ]
  },
  {
   "cell_type": "code",
   "execution_count": 70,
   "id": "dc7121c4",
   "metadata": {},
   "outputs": [
    {
     "name": "stdout",
     "output_type": "stream",
     "text": [
      "\n",
      "DecisionTreeRegressor(max_depth=15)\n"
     ]
    }
   ],
   "source": [
    "# Print result\n",
    "print(); print(pred.best_estimator_.get_params()['regr'])"
   ]
  },
  {
   "cell_type": "markdown",
   "id": "c67f1aa8",
   "metadata": {},
   "source": [
    "### Prediction on Testing Data"
   ]
  },
  {
   "cell_type": "code",
   "execution_count": 71,
   "id": "921584ad",
   "metadata": {},
   "outputs": [],
   "source": [
    "# Make prediction\n",
    "best_regr = DecisionTreeRegressor(max_depth=11)\n",
    "best_regr.fit(X_train, y_train)\n",
    "y_pred_11 = best_regr.predict(X_test)"
   ]
  },
  {
   "cell_type": "code",
   "execution_count": 72,
   "id": "ac358787",
   "metadata": {},
   "outputs": [
    {
     "data": {
      "text/plain": [
       "0.7669479465360933"
      ]
     },
     "execution_count": 72,
     "metadata": {},
     "output_type": "execute_result"
    }
   ],
   "source": [
    "# Result evaluation\n",
    "rscore = metrics.r2_score(y_test, y_pred_11)\n",
    "rscore"
   ]
  },
  {
   "cell_type": "code",
   "execution_count": 73,
   "id": "cd1834b4",
   "metadata": {},
   "outputs": [
    {
     "data": {
      "image/png": "[encoded data removed]",
      "text/plain": [
       "<Figure size 432x288 with 1 Axes>"
      ]
     },
     "metadata": {
      "needs_background": "light"
     },
     "output_type": "display_data"
    }
   ],
   "source": [
    "plt.scatter(y_test,y_pred_11)\n",
    "plt.xlabel(\"Actual Price\")\n",
    "plt.ylabel(\" Predicted Price\")\n",
    "plt.title(\" Actual Prices vs Predicted Prices\")\n",
    "plt.show()"
   ]
  },
  {
   "cell_type": "markdown",
   "id": "8b758be0",
   "metadata": {},
   "source": [
    "### Prediction On Testing Data"
   ]
  },
  {
   "cell_type": "code",
   "execution_count": 74,
   "id": "2c05306c",
   "metadata": {},
   "outputs": [],
   "source": [
    "# Make prediction training \n",
    "best_regr = DecisionTreeRegressor(max_depth=11)\n",
    "best_regr.fit(X_train, y_train)\n",
    "y_train_pred_11 = best_regr.predict(X_train)"
   ]
  },
  {
   "cell_type": "code",
   "execution_count": 75,
   "id": "aea1b988",
   "metadata": {},
   "outputs": [
    {
     "data": {
      "text/plain": [
       "0.7965891013034742"
      ]
     },
     "execution_count": 75,
     "metadata": {},
     "output_type": "execute_result"
    }
   ],
   "source": [
    "# Result evaluation\n",
    "rscore = metrics.r2_score(y_train, y_train_pred_11)\n",
    "rscore"
   ]
  },
  {
   "cell_type": "code",
   "execution_count": 76,
   "id": "5ed9e1cf",
   "metadata": {},
   "outputs": [
    {
     "data": {
      "image/png": "[encoded data removed]",
      "text/plain": [
       "<Figure size 432x288 with 1 Axes>"
      ]
     },
     "metadata": {
      "needs_background": "light"
     },
     "output_type": "display_data"
    }
   ],
   "source": [
    "plt.scatter(y_train,y_train_pred_11)\n",
    "plt.xlabel(\"Actual Price\")\n",
    "plt.ylabel(\" Predicted Price\")\n",
    "plt.title(\" Actual Prices vs Predicted Prices\")\n",
    "plt.show()"
   ]
  },
  {
   "cell_type": "markdown",
   "id": "80dae883",
   "metadata": {},
   "source": [
    "### DecisionTreeRegressor Model Evaluation: Max Depth 11"
   ]
  },
  {
   "cell_type": "code",
   "execution_count": 77,
   "id": "65c681bf",
   "metadata": {},
   "outputs": [
    {
     "name": "stdout",
     "output_type": "stream",
     "text": [
      "MSE train: 34929045.388, test: 40600601.837\n"
     ]
    }
   ],
   "source": [
    "# Mean Square Error\n",
    "print('MSE train: %.3f, test: %.3f' % (mean_squared_error(y_train, y_train_pred_11),\n",
    "                mean_squared_error(y_test, y_pred_11)))"
   ]
  },
  {
   "cell_type": "code",
   "execution_count": 78,
   "id": "fb5a0fb1",
   "metadata": {},
   "outputs": [
    {
     "name": "stdout",
     "output_type": "stream",
     "text": [
      "R^2 train: 0.797, test: 0.767\n"
     ]
    }
   ],
   "source": [
    "print('R^2 train: %.3f, test: %.3f' % (r2_score(y_train, y_train_pred_11),\n",
    "                r2_score(y_test, y_pred_11)))"
   ]
  },
  {
   "cell_type": "markdown",
   "id": "151fa7ee",
   "metadata": {},
   "source": [
    "### Test with max depth 10"
   ]
  },
  {
   "cell_type": "code",
   "execution_count": 79,
   "id": "3f6050ff",
   "metadata": {},
   "outputs": [],
   "source": [
    "# Test with max_depth 10\n",
    "best_regr10 = DecisionTreeRegressor(max_depth=10)\n",
    "best_regr.fit(X_train, y_train)\n",
    "y_pred_10 = best_regr.predict(X_test)"
   ]
  },
  {
   "cell_type": "code",
   "execution_count": 80,
   "id": "c2d2a5f6",
   "metadata": {},
   "outputs": [
    {
     "data": {
      "text/plain": [
       "0.7677122737216013"
      ]
     },
     "execution_count": 80,
     "metadata": {},
     "output_type": "execute_result"
    }
   ],
   "source": [
    "rscore = metrics.r2_score(y_test, y_pred_10)\n",
    "rscore"
   ]
  },
  {
   "cell_type": "code",
   "execution_count": 81,
   "id": "78fd0251",
   "metadata": {},
   "outputs": [
    {
     "data": {
      "image/png": "[encoded data removed]",
      "text/plain": [
       "<Figure size 432x288 with 1 Axes>"
      ]
     },
     "metadata": {
      "needs_background": "light"
     },
     "output_type": "display_data"
    }
   ],
   "source": [
    "plt.scatter(y_test,y_pred_10)\n",
    "plt.xlabel(\"Actual Price\")\n",
    "plt.ylabel(\" Predicted Price\")\n",
    "plt.title(\" Actual Prices vs Predicted Prices\")\n",
    "plt.show()"
   ]
  },
  {
   "cell_type": "code",
   "execution_count": 82,
   "id": "aa72f029",
   "metadata": {},
   "outputs": [],
   "source": [
    "# Test with max_depth 10 training data\n",
    "best_regr10 = DecisionTreeRegressor(max_depth=10)\n",
    "best_regr.fit(X_train, y_train)\n",
    "y_train_pred_10 = best_regr.predict(X_train)"
   ]
  },
  {
   "cell_type": "code",
   "execution_count": 83,
   "id": "9ca70a79",
   "metadata": {},
   "outputs": [
    {
     "data": {
      "text/plain": [
       "0.7965891013034742"
      ]
     },
     "execution_count": 83,
     "metadata": {},
     "output_type": "execute_result"
    }
   ],
   "source": [
    "rscore = metrics.r2_score(y_train, y_train_pred_10)\n",
    "rscore"
   ]
  },
  {
   "cell_type": "code",
   "execution_count": 84,
   "id": "d8ff179e",
   "metadata": {},
   "outputs": [
    {
     "data": {
      "image/png": "[encoded data removed]",
      "text/plain": [
       "<Figure size 432x288 with 1 Axes>"
      ]
     },
     "metadata": {
      "needs_background": "light"
     },
     "output_type": "display_data"
    }
   ],
   "source": [
    "plt.scatter(y_train,y_train_pred_10)\n",
    "plt.xlabel(\"Actual Price\")\n",
    "plt.ylabel(\" Predicted Price\")\n",
    "plt.title(\" Actual Prices vs Predicted Prices\")\n",
    "plt.show()"
   ]
  },
  {
   "cell_type": "markdown",
   "id": "86e21fff",
   "metadata": {},
   "source": [
    "### DecisionTreeRegressor Model Evaluation: Max Depth 10"
   ]
  },
  {
   "cell_type": "code",
   "execution_count": 85,
   "id": "6ef75c25",
   "metadata": {},
   "outputs": [
    {
     "name": "stdout",
     "output_type": "stream",
     "text": [
      "MSE train: 34929045.388, test: 40467446.418\n"
     ]
    }
   ],
   "source": [
    "# Mean Square Error\n",
    "print('MSE train: %.3f, test: %.3f' % (mean_squared_error(y_train, y_train_pred_10),\n",
    "                mean_squared_error(y_test, y_pred_10)))"
   ]
  },
  {
   "cell_type": "code",
   "execution_count": 86,
   "id": "a08312c4",
   "metadata": {},
   "outputs": [
    {
     "name": "stdout",
     "output_type": "stream",
     "text": [
      "R^2 train: 0.797, test: 0.768\n"
     ]
    }
   ],
   "source": [
    "print('R^2 train: %.3f, test: %.3f' % (r2_score(y_train, y_train_pred_10),\n",
    "                r2_score(y_test, y_pred_10)))"
   ]
  },
  {
   "cell_type": "markdown",
   "id": "4054af4a",
   "metadata": {},
   "source": [
    "# Linear Regression Model"
   ]
  },
  {
   "cell_type": "markdown",
   "id": "1dd100ba",
   "metadata": {},
   "source": [
    "### Data selection for Linear Regression Models"
   ]
  },
  {
   "cell_type": "code",
   "execution_count": 142,
   "id": "478e9459",
   "metadata": {},
   "outputs": [],
   "source": [
    "# Select columns for prediction with Linear Regression Model\n",
    "df_2 = df.loc[:,['price', 'year', 'manufacturer', \n",
    "       'condition', 'cylinders', 'fuel', 'odometer', 'title_status',\n",
    "       'transmission', 'drive', 'type', 'area']]"
   ]
  },
  {
   "cell_type": "code",
   "execution_count": 143,
   "id": "658d4aef",
   "metadata": {},
   "outputs": [
    {
     "name": "stderr",
     "output_type": "stream",
     "text": [
      "C:\\Users\\shahl\\anaconda3\\envs\\PythonData\\lib\\site-packages\\ipykernel_launcher.py:5: DeprecationWarning: `np.bool` is a deprecated alias for the builtin `bool`. To silence this warning, use `bool` by itself. Doing this will not modify any behavior and is safe. If you specifically wanted the numpy scalar type, use `np.bool_` here.\n",
      "Deprecated in NumPy 1.20; for more details and guidance: https://numpy.org/devdocs/release/1.20.0-notes.html#deprecations\n",
      "  \"\"\"\n"
     ]
    },
    {
     "data": {
      "text/plain": [
       "<AxesSubplot:>"
      ]
     },
     "execution_count": 143,
     "metadata": {},
     "output_type": "execute_result"
    },
    {
     "data": {
      "image/png": "[encoded data removed]",
      "text/plain": [
       "<Figure size 720x576 with 2 Axes>"
      ]
     },
     "metadata": {
      "needs_background": "light"
     },
     "output_type": "display_data"
    }
   ],
   "source": [
    "# Visual representation of correlation outputs using seaborn :\n",
    "\n",
    "f, ax = plt.subplots(figsize=(10, 8))\n",
    "corr = df_2.corr()\n",
    "sns.heatmap(corr, mask=np.zeros_like(corr, dtype=np.bool), cmap=sns.diverging_palette(20,120, as_cmap=True),\n",
    "            square=True, ax=ax)\n",
    "# features are positively correlated with correlation value is below 0.50"
   ]
  },
  {
   "cell_type": "code",
   "execution_count": null,
   "id": "d232a625",
   "metadata": {},
   "outputs": [],
   "source": [
    "# # EDA on target variable\n",
    "# sns.countplot(x='income', data=adult)  "
   ]
  },
  {
   "cell_type": "code",
   "execution_count": null,
   "id": "52bd72ef",
   "metadata": {},
   "outputs": [],
   "source": []
  },
  {
   "cell_type": "markdown",
   "id": "32f9c64b",
   "metadata": {},
   "source": [
    "### Data Transformation"
   ]
  },
  {
   "cell_type": "code",
   "execution_count": 137,
   "id": "33d9129c",
   "metadata": {},
   "outputs": [],
   "source": [
    "# perform data transformation for Linear Regression Model\n",
    "for col in df_2.columns[1:]:\n",
    "    attName = col\n",
    "    dType = df[col].dtype\n",
    "    missing = pd.isnull(df[col]).any()\n",
    "    uniqueCount = len(df[attName].value_counts(normalize=False))\n",
    "# discretize (create dummies)\n",
    "    if dType == object:\n",
    "        df_2 = pd.concat([df_2, pd.get_dummies(df_2[col], prefix=col)], axis=1)\n",
    "        del df_2[attName]"
   ]
  },
  {
   "cell_type": "code",
   "execution_count": 138,
   "id": "5e62dd75",
   "metadata": {},
   "outputs": [
    {
     "data": {
      "text/html": [
       "<div>\n",
       "<style scoped>\n",
       "    .dataframe tbody tr th:only-of-type {\n",
       "        vertical-align: middle;\n",
       "    }\n",
       "\n",
       "    .dataframe tbody tr th {\n",
       "        vertical-align: top;\n",
       "    }\n",
       "\n",
       "    .dataframe thead th {\n",
       "        text-align: right;\n",
       "    }\n",
       "</style>\n",
       "<table border=\"1\" class=\"dataframe\">\n",
       "  <thead>\n",
       "    <tr style=\"text-align: right;\">\n",
       "      <th></th>\n",
       "      <th>price</th>\n",
       "      <th>cylinders</th>\n",
       "      <th>odometer</th>\n",
       "      <th>year_2001-01-01</th>\n",
       "      <th>year_2002-01-01</th>\n",
       "      <th>year_2003-01-01</th>\n",
       "      <th>year_2004-01-01</th>\n",
       "      <th>year_2005-01-01</th>\n",
       "      <th>year_2006-01-01</th>\n",
       "      <th>year_2007-01-01</th>\n",
       "      <th>...</th>\n",
       "      <th>type_other</th>\n",
       "      <th>type_pickup</th>\n",
       "      <th>type_sedan</th>\n",
       "      <th>type_truck</th>\n",
       "      <th>type_van</th>\n",
       "      <th>type_wagon</th>\n",
       "      <th>area_mw</th>\n",
       "      <th>area_ne</th>\n",
       "      <th>area_south</th>\n",
       "      <th>area_west</th>\n",
       "    </tr>\n",
       "  </thead>\n",
       "  <tbody>\n",
       "    <tr>\n",
       "      <th>0</th>\n",
       "      <td>15000</td>\n",
       "      <td>6</td>\n",
       "      <td>128000.0</td>\n",
       "      <td>0</td>\n",
       "      <td>0</td>\n",
       "      <td>0</td>\n",
       "      <td>0</td>\n",
       "      <td>0</td>\n",
       "      <td>0</td>\n",
       "      <td>0</td>\n",
       "      <td>...</td>\n",
       "      <td>0</td>\n",
       "      <td>0</td>\n",
       "      <td>0</td>\n",
       "      <td>1</td>\n",
       "      <td>0</td>\n",
       "      <td>0</td>\n",
       "      <td>0</td>\n",
       "      <td>0</td>\n",
       "      <td>1</td>\n",
       "      <td>0</td>\n",
       "    </tr>\n",
       "    <tr>\n",
       "      <th>1</th>\n",
       "      <td>27990</td>\n",
       "      <td>8</td>\n",
       "      <td>68696.0</td>\n",
       "      <td>0</td>\n",
       "      <td>0</td>\n",
       "      <td>0</td>\n",
       "      <td>0</td>\n",
       "      <td>0</td>\n",
       "      <td>0</td>\n",
       "      <td>0</td>\n",
       "      <td>...</td>\n",
       "      <td>0</td>\n",
       "      <td>1</td>\n",
       "      <td>0</td>\n",
       "      <td>0</td>\n",
       "      <td>0</td>\n",
       "      <td>0</td>\n",
       "      <td>0</td>\n",
       "      <td>0</td>\n",
       "      <td>1</td>\n",
       "      <td>0</td>\n",
       "    </tr>\n",
       "    <tr>\n",
       "      <th>2</th>\n",
       "      <td>34590</td>\n",
       "      <td>6</td>\n",
       "      <td>29499.0</td>\n",
       "      <td>0</td>\n",
       "      <td>0</td>\n",
       "      <td>0</td>\n",
       "      <td>0</td>\n",
       "      <td>0</td>\n",
       "      <td>0</td>\n",
       "      <td>0</td>\n",
       "      <td>...</td>\n",
       "      <td>0</td>\n",
       "      <td>1</td>\n",
       "      <td>0</td>\n",
       "      <td>0</td>\n",
       "      <td>0</td>\n",
       "      <td>0</td>\n",
       "      <td>0</td>\n",
       "      <td>0</td>\n",
       "      <td>1</td>\n",
       "      <td>0</td>\n",
       "    </tr>\n",
       "    <tr>\n",
       "      <th>3</th>\n",
       "      <td>35000</td>\n",
       "      <td>6</td>\n",
       "      <td>43000.0</td>\n",
       "      <td>0</td>\n",
       "      <td>0</td>\n",
       "      <td>0</td>\n",
       "      <td>0</td>\n",
       "      <td>0</td>\n",
       "      <td>0</td>\n",
       "      <td>0</td>\n",
       "      <td>...</td>\n",
       "      <td>0</td>\n",
       "      <td>0</td>\n",
       "      <td>0</td>\n",
       "      <td>1</td>\n",
       "      <td>0</td>\n",
       "      <td>0</td>\n",
       "      <td>0</td>\n",
       "      <td>0</td>\n",
       "      <td>1</td>\n",
       "      <td>0</td>\n",
       "    </tr>\n",
       "    <tr>\n",
       "      <th>4</th>\n",
       "      <td>29990</td>\n",
       "      <td>6</td>\n",
       "      <td>17302.0</td>\n",
       "      <td>0</td>\n",
       "      <td>0</td>\n",
       "      <td>0</td>\n",
       "      <td>0</td>\n",
       "      <td>0</td>\n",
       "      <td>0</td>\n",
       "      <td>0</td>\n",
       "      <td>...</td>\n",
       "      <td>0</td>\n",
       "      <td>1</td>\n",
       "      <td>0</td>\n",
       "      <td>0</td>\n",
       "      <td>0</td>\n",
       "      <td>0</td>\n",
       "      <td>0</td>\n",
       "      <td>0</td>\n",
       "      <td>1</td>\n",
       "      <td>0</td>\n",
       "    </tr>\n",
       "  </tbody>\n",
       "</table>\n",
       "<p>5 rows × 103 columns</p>\n",
       "</div>"
      ],
      "text/plain": [
       "   price  cylinders  odometer  year_2001-01-01  year_2002-01-01  \\\n",
       "0  15000          6  128000.0                0                0   \n",
       "1  27990          8   68696.0                0                0   \n",
       "2  34590          6   29499.0                0                0   \n",
       "3  35000          6   43000.0                0                0   \n",
       "4  29990          6   17302.0                0                0   \n",
       "\n",
       "   year_2003-01-01  year_2004-01-01  year_2005-01-01  year_2006-01-01  \\\n",
       "0                0                0                0                0   \n",
       "1                0                0                0                0   \n",
       "2                0                0                0                0   \n",
       "3                0                0                0                0   \n",
       "4                0                0                0                0   \n",
       "\n",
       "   year_2007-01-01  ...  type_other  type_pickup  type_sedan  type_truck  \\\n",
       "0                0  ...           0            0           0           1   \n",
       "1                0  ...           0            1           0           0   \n",
       "2                0  ...           0            1           0           0   \n",
       "3                0  ...           0            0           0           1   \n",
       "4                0  ...           0            1           0           0   \n",
       "\n",
       "   type_van  type_wagon  area_mw  area_ne  area_south  area_west  \n",
       "0         0           0        0        0           1          0  \n",
       "1         0           0        0        0           1          0  \n",
       "2         0           0        0        0           1          0  \n",
       "3         0           0        0        0           1          0  \n",
       "4         0           0        0        0           1          0  \n",
       "\n",
       "[5 rows x 103 columns]"
      ]
     },
     "execution_count": 138,
     "metadata": {},
     "output_type": "execute_result"
    }
   ],
   "source": [
    "df_2.head()"
   ]
  },
  {
   "cell_type": "markdown",
   "id": "bf0aeb79",
   "metadata": {},
   "source": [
    "### Split Training and Testing Data"
   ]
  },
  {
   "cell_type": "code",
   "execution_count": 119,
   "id": "b48c843b",
   "metadata": {},
   "outputs": [],
   "source": [
    "# Create features and target\n",
    "X = df_2.copy().drop('price', axis=1)\n",
    "X=pd.get_dummies(X)\n",
    "\n",
    "# Create our target\n",
    "y = df_2['price']"
   ]
  },
  {
   "cell_type": "code",
   "execution_count": 120,
   "id": "ee3a7455",
   "metadata": {},
   "outputs": [],
   "source": [
    "X_train, X_test, y_train, y_test = train_test_split(X,y, test_size= .1, random_state=2)"
   ]
  },
  {
   "cell_type": "code",
   "execution_count": 121,
   "id": "9980315e",
   "metadata": {},
   "outputs": [],
   "source": [
    "# Loadinf the Linear Regression model\n",
    "lin_reg_model = LinearRegression()"
   ]
  },
  {
   "cell_type": "code",
   "execution_count": 122,
   "id": "a28a3da8",
   "metadata": {},
   "outputs": [
    {
     "data": {
      "text/plain": [
       "LinearRegression()"
      ]
     },
     "execution_count": 122,
     "metadata": {},
     "output_type": "execute_result"
    }
   ],
   "source": [
    "#fitting data to the linear Regression model\n",
    "lin_reg_model.fit(X_train, y_train)"
   ]
  },
  {
   "cell_type": "code",
   "execution_count": 123,
   "id": "4638721d",
   "metadata": {},
   "outputs": [],
   "source": [
    "# prediction on Testing data\n",
    "y_test_pred = lin_reg_model.predict(X_test)"
   ]
  },
  {
   "cell_type": "code",
   "execution_count": 124,
   "id": "ddddd404",
   "metadata": {},
   "outputs": [
    {
     "name": "stdout",
     "output_type": "stream",
     "text": [
      "R Squared Error_score :  0.753026984617314\n"
     ]
    }
   ],
   "source": [
    "# Checking Accuracy\n",
    "# R squared Error\n",
    "error_score = metrics.r2_score(y_test, y_test_pred)\n",
    "print(\"R Squared Error_score : \",error_score)"
   ]
  },
  {
   "cell_type": "code",
   "execution_count": 125,
   "id": "a9bd24c1",
   "metadata": {},
   "outputs": [
    {
     "data": {
      "image/png": "[encoded data removed]",
      "text/plain": [
       "<Figure size 432x288 with 1 Axes>"
      ]
     },
     "metadata": {
      "needs_background": "light"
     },
     "output_type": "display_data"
    }
   ],
   "source": [
    "plt.scatter(y_test,y_test_pred)\n",
    "plt.xlabel(\"Actual Price\")\n",
    "plt.ylabel(\" Predicted Price\")\n",
    "plt.title(\" Actual Prices vs Predicted Prices\")\n",
    "plt.show()"
   ]
  },
  {
   "cell_type": "code",
   "execution_count": 126,
   "id": "bd1244e1",
   "metadata": {},
   "outputs": [],
   "source": [
    "# prediction on Training data\n",
    "y_train_pred = lin_reg_model.predict(X_train)"
   ]
  },
  {
   "cell_type": "code",
   "execution_count": 127,
   "id": "b60d8cce",
   "metadata": {},
   "outputs": [
    {
     "name": "stdout",
     "output_type": "stream",
     "text": [
      "R Squared Error_score :  0.7571953794028752\n"
     ]
    }
   ],
   "source": [
    "# R squared Error\n",
    "error_score = metrics.r2_score(y_train, y_train_pred)\n",
    "print(\"R Squared Error_score : \",error_score)"
   ]
  },
  {
   "cell_type": "code",
   "execution_count": 128,
   "id": "4573cb9e",
   "metadata": {},
   "outputs": [
    {
     "data": {
      "text/html": [
       "<div>\n",
       "<style scoped>\n",
       "    .dataframe tbody tr th:only-of-type {\n",
       "        vertical-align: middle;\n",
       "    }\n",
       "\n",
       "    .dataframe tbody tr th {\n",
       "        vertical-align: top;\n",
       "    }\n",
       "\n",
       "    .dataframe thead th {\n",
       "        text-align: right;\n",
       "    }\n",
       "</style>\n",
       "<table border=\"1\" class=\"dataframe\">\n",
       "  <thead>\n",
       "    <tr style=\"text-align: right;\">\n",
       "      <th></th>\n",
       "      <th>price</th>\n",
       "      <th>prediction</th>\n",
       "    </tr>\n",
       "  </thead>\n",
       "  <tbody>\n",
       "    <tr>\n",
       "      <th>9802</th>\n",
       "      <td>5975</td>\n",
       "      <td>4925.817926</td>\n",
       "    </tr>\n",
       "    <tr>\n",
       "      <th>7648</th>\n",
       "      <td>7738</td>\n",
       "      <td>8734.688404</td>\n",
       "    </tr>\n",
       "    <tr>\n",
       "      <th>57346</th>\n",
       "      <td>10500</td>\n",
       "      <td>9323.259828</td>\n",
       "    </tr>\n",
       "    <tr>\n",
       "      <th>70682</th>\n",
       "      <td>10995</td>\n",
       "      <td>8065.046444</td>\n",
       "    </tr>\n",
       "    <tr>\n",
       "      <th>101997</th>\n",
       "      <td>39995</td>\n",
       "      <td>31390.476265</td>\n",
       "    </tr>\n",
       "    <tr>\n",
       "      <th>...</th>\n",
       "      <td>...</td>\n",
       "      <td>...</td>\n",
       "    </tr>\n",
       "    <tr>\n",
       "      <th>44566</th>\n",
       "      <td>13999</td>\n",
       "      <td>17018.379972</td>\n",
       "    </tr>\n",
       "    <tr>\n",
       "      <th>95816</th>\n",
       "      <td>6895</td>\n",
       "      <td>10018.783069</td>\n",
       "    </tr>\n",
       "    <tr>\n",
       "      <th>72173</th>\n",
       "      <td>15800</td>\n",
       "      <td>21442.032086</td>\n",
       "    </tr>\n",
       "    <tr>\n",
       "      <th>100879</th>\n",
       "      <td>34590</td>\n",
       "      <td>31768.841207</td>\n",
       "    </tr>\n",
       "    <tr>\n",
       "      <th>89256</th>\n",
       "      <td>16995</td>\n",
       "      <td>20131.985922</td>\n",
       "    </tr>\n",
       "  </tbody>\n",
       "</table>\n",
       "<p>93219 rows × 2 columns</p>\n",
       "</div>"
      ],
      "text/plain": [
       "        price    prediction\n",
       "9802     5975   4925.817926\n",
       "7648     7738   8734.688404\n",
       "57346   10500   9323.259828\n",
       "70682   10995   8065.046444\n",
       "101997  39995  31390.476265\n",
       "...       ...           ...\n",
       "44566   13999  17018.379972\n",
       "95816    6895  10018.783069\n",
       "72173   15800  21442.032086\n",
       "100879  34590  31768.841207\n",
       "89256   16995  20131.985922\n",
       "\n",
       "[93219 rows x 2 columns]"
      ]
     },
     "execution_count": 128,
     "metadata": {},
     "output_type": "execute_result"
    }
   ],
   "source": [
    "# Result of prediction\n",
    "data = {'price': y_train,\n",
    "       'prediction': y_train_pred}\n",
    "df_pred = pd.DataFrame(data)\n",
    "df_pred"
   ]
  },
  {
   "cell_type": "code",
   "execution_count": 129,
   "id": "832c430a",
   "metadata": {},
   "outputs": [
    {
     "data": {
      "image/png": "[encoded data removed]",
      "text/plain": [
       "<Figure size 432x288 with 1 Axes>"
      ]
     },
     "metadata": {
      "needs_background": "light"
     },
     "output_type": "display_data"
    }
   ],
   "source": [
    "plt.scatter(y_train,y_train_pred)\n",
    "plt.xlabel(\"Actual Price\")\n",
    "plt.ylabel(\" Predicted Price\")\n",
    "plt.title(\" Actual Prices vs Predicted Prices\")\n",
    "plt.show()"
   ]
  },
  {
   "cell_type": "code",
   "execution_count": 130,
   "id": "d96c834c",
   "metadata": {},
   "outputs": [
    {
     "name": "stdout",
     "output_type": "stream",
     "text": [
      "MSE train: 41931245.347, test: 41773206.619\n"
     ]
    }
   ],
   "source": [
    "# Mean Square Error\n",
    "print('MSE train: %.3f, test: %.3f' % (mean_squared_error(y_train, y_train_pred),\n",
    "                mean_squared_error(y_test, y_test_pred)))"
   ]
  },
  {
   "cell_type": "code",
   "execution_count": 131,
   "id": "222c77e9",
   "metadata": {},
   "outputs": [
    {
     "name": "stdout",
     "output_type": "stream",
     "text": [
      "R^2 train: 0.757, test: 0.753\n"
     ]
    }
   ],
   "source": [
    "print('R^2 train: %.3f, test: %.3f' % (r2_score(y_train, y_train_pred),\n",
    "                r2_score(y_test, y_test_pred)))"
   ]
  },
  {
   "cell_type": "code",
   "execution_count": null,
   "id": "78c86489",
   "metadata": {},
   "outputs": [],
   "source": []
  },
  {
   "cell_type": "code",
   "execution_count": null,
   "id": "ccb0ad37",
   "metadata": {},
   "outputs": [],
   "source": []
  },
  {
   "cell_type": "code",
   "execution_count": null,
   "id": "e6427b39",
   "metadata": {},
   "outputs": [],
   "source": []
  },
  {
   "cell_type": "code",
   "execution_count": null,
   "id": "c64e384d",
   "metadata": {},
   "outputs": [],
   "source": []
  }
 ],
 "metadata": {
  "kernelspec": {
   "display_name": "PythonData",
   "language": "python",
   "name": "pythondata"
  },
  "language_info": {
   "codemirror_mode": {
    "name": "ipython",
    "version": 3
   },
   "file_extension": ".py",
   "mimetype": "text/x-python",
   "name": "python",
   "nbconvert_exporter": "python",
   "pygments_lexer": "ipython3",
   "version": "3.7.13"
  }
 },
 "nbformat": 4,
 "nbformat_minor": 5
}
